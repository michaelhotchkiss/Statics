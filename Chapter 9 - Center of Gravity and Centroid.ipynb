{
 "cells": [
  {
   "cell_type": "markdown",
   "source": [
    "# Chapter 9 Center of Gravity and Centroid"
   ],
   "metadata": {
    "collapsed": false
   }
  },
  {
   "cell_type": "markdown",
   "source": [
    "## Section 9.1 Center of Gravity, Center of Mass, and the Centroid of a Body\n",
    "* It is important to know the weight and its location when looking at the effect of the force on the body\n",
    "* Center of gravity, $\\vec G$ - point in which the resultant of a system,  total weight of body, passes through\n",
    "* $W = \\int dW$\n",
    "* Location of center of gravity, measured from $y$ axis $(M_R)_y = \\sum M_y \\Rightarrow \\bar x W = \\int x^\\sim  dW \\Rightarrow \\bar x = \\frac{\\int x dW}{\\int dW}$\n",
    "* 3D - $\\bar x = \\frac{\\int x dW}{\\int dW}$, $\\bar y = \\frac{\\int y dW}{\\int dW}$, $\\bar z = \\frac{\\int z dW}{\\int dW}$ &emsp; (9-1)\n",
    "* Where $\\bar x$, $\\bar y$, and $\\bar z$ are the coordinates of the center of gravity, and $x$,$y$, and $z$ are coordinates of an arbitrary point in the particle\n",
    "* The center of mass, $C_M$ is needed to study the dynamic response or accelerated motion of a boy\n",
    "* Location of center of mass can be found by substituting $dW = g dm$ into (9-1), if $g$ is constant it cancels out and becomes\n",
    "* $\\bar x = \\frac{\\int x dm}{\\int dm}$, $\\bar y = \\frac{\\int y dm}{\\int dm}$, $\\bar z = \\frac{\\int z dm}{\\int dm}$ &emsp; (9-2)\n",
    "* When a body is made of a homogenous material then its density is constant, therefore differential element of volume $dV$ has mass $dm = \\rho dV$, substitute this in (9-2) and canceling $\\rho$, we can locate centroid $C$ by $\\bar x = \\frac{\\int_V x dV}{\\int_V dV}$, $\\bar y = \\frac{\\int_V y dV}{\\int_V dV}$, $\\bar z = \\frac{\\int_V z dV}{\\int_V dV}$ &emsp; (9-3)\n",
    "* These equations represent a balance of the moments of the volume of the body, as a result if the volume has two planes of symmetry then its centroid must lie along the line of intersection of these two planes\n",
    "* When an area lies in $x$-$y$ plane and is bounded by $y = f(x)$ then its centroid will be in the plane and can be determined by $\\bar x = \\frac{\\int_A x dA}{\\int_A dA}$, $\\bar y = \\frac{\\int_A y dA}{\\int_A dA}$ &emsp; (9-4)\n",
    "* We can use single integration if we use a rectangular strip for the differential area element $dA$, example if we use a vertical strip the area is $dA = y dx$ and the centroid is at $x = x$ and $y = y/2$, we can consider the horizontal strip $dA = x dy$ and its centroid is located at $x=x/2$ and $y = y$\n",
    "* When a line segment (rod) lies in the $x$-$y$ plane and is described by $y = f(x)$ then its centroid is determined by $\\bar x = \\frac{\\int_L x dL}{\\int_L dL}$, $\\bar y = \\frac{\\int_L y dL}{\\int_L dL}$ &emsp; (9-5)\n",
    "* Length differential element is $dL = \\sqrt{(\\frac{dx}{dx})^2dx^2 + (\\frac{dy}{dx})^2dx^2} = \\sqrt{1 + (\\frac{dy}{dx})^2}dx$ or $dL = \\sqrt{(\\frac{dx}{dy})^2dy^2 + (\\frac{dy}{dy})^2dy^2} = \\sqrt{(\\frac{dy}{dx})^2+1}dy$\n",
    "* Either can be used but one will be simpler to do depending on the problem\n",
    "* Centroid - geometric center of a body, coincides with center of mass or center of gravity if the material is uniform or homogenous\n",
    "* Centroid not always located on the body, like a ring, lie on any axis of symmetry for the body\n",
    "### Procedure for Analysis - center of gravity or centroid of an object can be determined by single integration by:\n",
    "* Select coordinate system, specify axes, and choose a differential element for integration\n",
    "* For lines the element is differential line segment with length $dL$\n",
    "* For areas the element is usually a rectangle with area $dA$ having finite length and differential width\n",
    "* For volumes the element can be a circular disk with volume $dV$, with finite radius and differential thickness\n",
    "* Locate the element so it touches an arbitrary point on the curve that defines the boundary of the shape\n",
    "* Express the differential element in terms of coordinates describing the curve\n",
    "* Express the moment arms $x$,$y$,$z$ for the centroid of the element in terms of the coordinates describing the curve\n",
    "* Substitute the formulations for $x$,$y$,$z$ and $dL$,$dA$, or $dV$ into the appropriate equations\n",
    "* Express the function in the integrand in terms of the same variable as the differential thickness of the element\n",
    "* The limits are defined from the two extreme locations of the element's differential thickness, so when integration is performed the entire region is covered"
   ],
   "metadata": {
    "collapsed": false
   }
  },
  {
   "cell_type": "markdown",
   "source": [
    "Problem 44\n",
    "The hemisphere of radius $r$ is made from a stack of\n",
    "very thin plates such that the density varies with height,\n",
    "$\\rho = kz$, where $k$ is a constant. Determine its mass and the\n",
    "distance $\\bar z$ to the center of mass $G$.\n",
    "<img src=\"pictures\\problem_9_44.png\" width=\"512\"/>"
   ],
   "metadata": {
    "collapsed": false
   }
  },
  {
   "cell_type": "code",
   "execution_count": 3,
   "outputs": [
    {
     "name": "stdout",
     "output_type": "stream",
     "text": [
      "mass = 0.785398163397448*k*r**4\n",
      "z distance to center of mass = 0.533333333333333*r\n"
     ]
    }
   ],
   "source": [
    "from sympy.abc import z, r\n",
    "from scipy import integrate\n",
    "import numpy as np\n",
    "from sympy import integrate, symbols\n",
    "\n",
    "#rho = kz\n",
    "#dm = rho * dV = rho * pi y**2 dz = k * z * (pi(r**2 - z**2)) dz\n",
    "#m = int(k * z * pi(r**2 - z**2) dz ,0,r)\n",
    "z,r,k = symbols('z r k')\n",
    "equation = k * z * (np.pi * (r**2 - z**2))\n",
    "# int(z dm,m)\n",
    "equation_2 = z * k * z * np.pi * (r**2 - z**2)\n",
    "m = integrate(equation,(z,0,r))\n",
    "z_m = integrate(equation_2,(z,0,r))\n",
    "print(f'mass = {m}')\n",
    "z_bar = z_m / m\n",
    "print(f'z distance to center of mass = {z_bar}')"
   ],
   "metadata": {
    "collapsed": false,
    "ExecuteTime": {
     "end_time": "2023-06-12T20:39:19.862665700Z",
     "start_time": "2023-06-12T20:39:19.732501400Z"
    }
   }
  },
  {
   "cell_type": "markdown",
   "source": [
    "## Section 9.2 Composite Bodies\n",
    "* Composite Body - series of connected simpler shaped bodies, rectangular, triangular, or circular, etc.\n",
    "* If a body is composite it can often be sectioned off into its composite parts, if provided the weight and center of gravity of each of these parts we do not need to integrate to determine the center of gravity of the entire body\n",
    "* $\\bar x = \\frac{\\sum xW}{\\sum W}$, $\\bar y = \\frac{\\sum yW}{\\sum W}$, $\\bar z = \\frac{\\sum zW}{\\sum W}$ &emsp; (9-6)\n",
    "* $\\bar x$, $\\bar y$, and $\\bar z$ are the coordinates of the center of gravity of the composite body\n",
    "* $x$, $y$, and $z$ are the coordinates of the center of gravity of each composite part\n",
    "* $\\sum W$ is the sum of all the weights of the composite parts\n",
    "* If the body has constant density or specific weight the center of gravity coincides with the centroid of the body, centroid for composite lines, areas, volumes are found using relations in (9-6) replacing $W$ by $L$, $A$, or $V$\n",
    "### Procedure for Analysis - location of center of gravity or centroid of a body that is a composite geometrical object represented by a line,area, or volume\n",
    "* Sketch and divide the body into a finite number of composite parts that have simpler shapes\n",
    "* If the composite body has a hole then consider the composite body without the hole and see the hole as an additional composite part having negative weight\n",
    "* Establish coordinate axes on the sketch, determine coordinates $x$, $y$, $z$ of the center of gravity of each part\n",
    "* Determine $\\bar x$, $\\bar y$, and $\\bar z$ by applying center of gravity equations (9-6)\n",
    "* When an object is symmetrical about an axis the centroid lies on the axis"
   ],
   "metadata": {
    "collapsed": false
   }
  },
  {
   "cell_type": "markdown",
   "source": [
    "Problem 82\n",
    "The assembly is made from a steel hemisphere,$\\rho_{st} = 7.80 Mg/m^3$,\n",
    "and an aluminum cylinder, $\\rho_{al} = 2.70 Mg/m^3$.\n",
    "Determine the height h of the cylinder so\n",
    "that the mass center of the assembly is located at $\\bar z = 160 mm$.\n",
    "<img src=\"pictures\\problem_9_82.png\" width=\"512\"/>\n"
   ],
   "metadata": {
    "collapsed": false
   }
  },
  {
   "cell_type": "code",
   "execution_count": 4,
   "outputs": [
    {
     "name": "stdout",
     "output_type": "stream",
     "text": [
      "0.0542867210540316*h + 0.0669134102473397\n",
      "(0.0542867210540316*h*(h/2 + 0.16) + 0.00669134102473397)/(0.0542867210540316*h + 0.0669134102473397)\n"
     ]
    },
    {
     "ename": "TypeError",
     "evalue": "Cannot convert expression to float",
     "output_type": "error",
     "traceback": [
      "\u001B[1;31m---------------------------------------------------------------------------\u001B[0m",
      "\u001B[1;31mTypeError\u001B[0m                                 Traceback (most recent call last)",
      "File \u001B[1;32m~\\AppData\\Local\\Programs\\Python\\Python39\\lib\\site-packages\\sympy\\core\\expr.py:351\u001B[0m, in \u001B[0;36mExpr.__float__\u001B[1;34m(self)\u001B[0m\n\u001B[0;32m    349\u001B[0m \u001B[38;5;28;01mif\u001B[39;00m result\u001B[38;5;241m.\u001B[39mis_number \u001B[38;5;129;01mand\u001B[39;00m result\u001B[38;5;241m.\u001B[39mas_real_imag()[\u001B[38;5;241m1\u001B[39m]:\n\u001B[0;32m    350\u001B[0m     \u001B[38;5;28;01mraise\u001B[39;00m \u001B[38;5;167;01mTypeError\u001B[39;00m(\u001B[38;5;124m\"\u001B[39m\u001B[38;5;124mCannot convert complex to float\u001B[39m\u001B[38;5;124m\"\u001B[39m)\n\u001B[1;32m--> 351\u001B[0m \u001B[38;5;28;01mraise\u001B[39;00m \u001B[38;5;167;01mTypeError\u001B[39;00m(\u001B[38;5;124m\"\u001B[39m\u001B[38;5;124mCannot convert expression to float\u001B[39m\u001B[38;5;124m\"\u001B[39m)\n",
      "\u001B[1;31mTypeError\u001B[0m: Cannot convert expression to float"
     ]
    },
    {
     "ename": "error",
     "evalue": "Result from function call is not a proper array of floats.",
     "output_type": "error",
     "traceback": [
      "\u001B[1;31m---------------------------------------------------------------------------\u001B[0m",
      "\u001B[1;31merror\u001B[0m                                     Traceback (most recent call last)",
      "Cell \u001B[1;32mIn[4], line 25\u001B[0m\n\u001B[0;32m     23\u001B[0m \u001B[38;5;28;01mdef\u001B[39;00m \u001B[38;5;21mheight_function\u001B[39m(h):\n\u001B[0;32m     24\u001B[0m     \u001B[38;5;28;01mreturn\u001B[39;00m z_bar_1 \u001B[38;5;241m-\u001B[39m \u001B[38;5;241m160e-3\u001B[39m\n\u001B[1;32m---> 25\u001B[0m h \u001B[38;5;241m=\u001B[39m \u001B[43mfsolve\u001B[49m\u001B[43m(\u001B[49m\u001B[43mheight_function\u001B[49m\u001B[43m,\u001B[49m\u001B[38;5;241;43m1\u001B[39;49m\u001B[43m)\u001B[49m\n\u001B[0;32m     26\u001B[0m \u001B[38;5;28mprint\u001B[39m(h)\n",
      "File \u001B[1;32m~\\AppData\\Local\\Programs\\Python\\Python39\\lib\\site-packages\\scipy\\optimize\\_minpack_py.py:163\u001B[0m, in \u001B[0;36mfsolve\u001B[1;34m(func, x0, args, fprime, full_output, col_deriv, xtol, maxfev, band, epsfcn, factor, diag)\u001B[0m\n\u001B[0;32m     51\u001B[0m \u001B[38;5;250m\u001B[39m\u001B[38;5;124;03m\"\"\"\u001B[39;00m\n\u001B[0;32m     52\u001B[0m \u001B[38;5;124;03mFind the roots of a function.\u001B[39;00m\n\u001B[0;32m     53\u001B[0m \n\u001B[1;32m   (...)\u001B[0m\n\u001B[0;32m    153\u001B[0m \n\u001B[0;32m    154\u001B[0m \u001B[38;5;124;03m\"\"\"\u001B[39;00m\n\u001B[0;32m    155\u001B[0m options \u001B[38;5;241m=\u001B[39m {\u001B[38;5;124m'\u001B[39m\u001B[38;5;124mcol_deriv\u001B[39m\u001B[38;5;124m'\u001B[39m: col_deriv,\n\u001B[0;32m    156\u001B[0m            \u001B[38;5;124m'\u001B[39m\u001B[38;5;124mxtol\u001B[39m\u001B[38;5;124m'\u001B[39m: xtol,\n\u001B[0;32m    157\u001B[0m            \u001B[38;5;124m'\u001B[39m\u001B[38;5;124mmaxfev\u001B[39m\u001B[38;5;124m'\u001B[39m: maxfev,\n\u001B[1;32m   (...)\u001B[0m\n\u001B[0;32m    160\u001B[0m            \u001B[38;5;124m'\u001B[39m\u001B[38;5;124mfactor\u001B[39m\u001B[38;5;124m'\u001B[39m: factor,\n\u001B[0;32m    161\u001B[0m            \u001B[38;5;124m'\u001B[39m\u001B[38;5;124mdiag\u001B[39m\u001B[38;5;124m'\u001B[39m: diag}\n\u001B[1;32m--> 163\u001B[0m res \u001B[38;5;241m=\u001B[39m _root_hybr(func, x0, args, jac\u001B[38;5;241m=\u001B[39mfprime, \u001B[38;5;241m*\u001B[39m\u001B[38;5;241m*\u001B[39moptions)\n\u001B[0;32m    164\u001B[0m \u001B[38;5;28;01mif\u001B[39;00m full_output:\n\u001B[0;32m    165\u001B[0m     x \u001B[38;5;241m=\u001B[39m res[\u001B[38;5;124m'\u001B[39m\u001B[38;5;124mx\u001B[39m\u001B[38;5;124m'\u001B[39m]\n",
      "File \u001B[1;32m~\\AppData\\Local\\Programs\\Python\\Python39\\lib\\site-packages\\scipy\\optimize\\_minpack_py.py:240\u001B[0m, in \u001B[0;36m_root_hybr\u001B[1;34m(func, x0, args, jac, col_deriv, xtol, maxfev, band, eps, factor, diag, **unknown_options)\u001B[0m\n\u001B[0;32m    238\u001B[0m     \u001B[38;5;28;01mif\u001B[39;00m maxfev \u001B[38;5;241m==\u001B[39m \u001B[38;5;241m0\u001B[39m:\n\u001B[0;32m    239\u001B[0m         maxfev \u001B[38;5;241m=\u001B[39m \u001B[38;5;241m200\u001B[39m \u001B[38;5;241m*\u001B[39m (n \u001B[38;5;241m+\u001B[39m \u001B[38;5;241m1\u001B[39m)\n\u001B[1;32m--> 240\u001B[0m     retval \u001B[38;5;241m=\u001B[39m \u001B[43m_minpack\u001B[49m\u001B[38;5;241;43m.\u001B[39;49m\u001B[43m_hybrd\u001B[49m\u001B[43m(\u001B[49m\u001B[43mfunc\u001B[49m\u001B[43m,\u001B[49m\u001B[43m \u001B[49m\u001B[43mx0\u001B[49m\u001B[43m,\u001B[49m\u001B[43m \u001B[49m\u001B[43margs\u001B[49m\u001B[43m,\u001B[49m\u001B[43m \u001B[49m\u001B[38;5;241;43m1\u001B[39;49m\u001B[43m,\u001B[49m\u001B[43m \u001B[49m\u001B[43mxtol\u001B[49m\u001B[43m,\u001B[49m\u001B[43m \u001B[49m\u001B[43mmaxfev\u001B[49m\u001B[43m,\u001B[49m\n\u001B[0;32m    241\u001B[0m \u001B[43m                             \u001B[49m\u001B[43mml\u001B[49m\u001B[43m,\u001B[49m\u001B[43m \u001B[49m\u001B[43mmu\u001B[49m\u001B[43m,\u001B[49m\u001B[43m \u001B[49m\u001B[43mepsfcn\u001B[49m\u001B[43m,\u001B[49m\u001B[43m \u001B[49m\u001B[43mfactor\u001B[49m\u001B[43m,\u001B[49m\u001B[43m \u001B[49m\u001B[43mdiag\u001B[49m\u001B[43m)\u001B[49m\n\u001B[0;32m    242\u001B[0m \u001B[38;5;28;01melse\u001B[39;00m:\n\u001B[0;32m    243\u001B[0m     _check_func(\u001B[38;5;124m'\u001B[39m\u001B[38;5;124mfsolve\u001B[39m\u001B[38;5;124m'\u001B[39m, \u001B[38;5;124m'\u001B[39m\u001B[38;5;124mfprime\u001B[39m\u001B[38;5;124m'\u001B[39m, Dfun, x0, args, n, (n, n))\n",
      "\u001B[1;31merror\u001B[0m: Result from function call is not a proper array of floats."
     ]
    }
   ],
   "source": [
    "from scipy.optimize import fsolve\n",
    "import numpy as np\n",
    "from sympy import integrate, symbols\n",
    "z_bar = 160e-3\n",
    "rho_hemisphere = 7.8\n",
    "rho_cylinder = 2.7\n",
    "r_hemisphere = 160e-3\n",
    "r_cylinder = 80e-3\n",
    "h = symbols('h')\n",
    "\n",
    "volume_hemisphere = 4 / 3 * np.pi * r_hemisphere**3 /2\n",
    "mass_hemisphere = volume_hemisphere * rho_hemisphere\n",
    "volume_cylinder = np.pi * h * r_cylinder**2\n",
    "mass_cylinder = volume_cylinder * rho_cylinder\n",
    "sum_mass = mass_hemisphere + mass_cylinder\n",
    "print(sum_mass)\n",
    "\n",
    "z_m_hemisphere = (z_bar - 3/8 * r_hemisphere) * mass_hemisphere\n",
    "z_m_cylinder = (z_bar + h / 2) * mass_cylinder\n",
    "sum_z_m = z_m_hemisphere + z_m_cylinder\n",
    "z_bar_1 = sum_z_m / sum_mass\n",
    "print(z_bar_1)\n",
    "def height_function(h):\n",
    "    return z_bar_1 - 160e-3\n",
    "h = fsolve(height_function,1)\n",
    "print(h)"
   ],
   "metadata": {
    "collapsed": false,
    "ExecuteTime": {
     "end_time": "2023-06-12T20:39:20.934406800Z",
     "start_time": "2023-06-12T20:39:19.761905900Z"
    }
   }
  },
  {
   "cell_type": "markdown",
   "source": [
    "## Section 9.3 Theorems of Pappus and Guldinus\n",
    "* Pappus and Guldinus theorems are used to find the surface area and volume of any body of revolution\n",
    "* When we revolve a plane curve about an axis that does not intersect the curve it will create a surface area of revolution\n",
    "* To calculate the surface area consider the differential line element with length $dL$, when this is revolved $2 \\pi$ radians about an axis a ring with surface area $dA = 2 \\pi r dL$ is created, therefore the surface area of the entire body is $A = 2 \\pi \\int{r dL}$ and $\\int {r dL} = \\bar r L$ then $A = 2 \\pi \\bar r L$, when the curve is revolved only through angle $\\theta$ then $A = \\theta \\bar r L$ &emsp; (9-7)\n",
    "* Where $A$ is the surface area of revolution, $\\theta$ is the angle of revolution measured in radians, $\\theta \\leq 2 \\pi$, $\\bar r$ is the perpendicular distance from the axis of revolution to centroid of the generating curve, $L$ is the length of the generating curve\n",
    "* Pappus and Guldinus first theorem states the area of a surface revolution equals the product of the length of the curve and the distance traveled by the centroid of the curve in generating the surface area\n",
    "* Volume can be generated by revolving a plane area about an axis that does not intersect the area\n",
    "* Volume can be determined by revolving the differential area $dA 2 \\pi$ radians about an axis so that a ring with volume $dV = 2 \\pi r dA$ is created, the entire volume is $V = 2 \\pi \\int {r dA}$ and since $\\int {r dA} = \\bar r A$ therefore $V = 2 \\pi \\bar r A$, if the volume is revolved through angle $\\theta$ then $V = \\theta \\bar r A$ &emsp; (9-8)\n",
    "* Where $V$ is the volume of revolution,$\\theta$ is the angle of revolution measured in radians, $\\theta \\leq 2 \\pi$, $\\bar r$ is the perpendicular distance from the axis of revolution to centroid of the generating curve, $A$ is the generating area\n",
    "* Pappus and Guldinus second theorem states that the volume of a body of revolution is equal to the product of the generating area and the distance traveled by the centroid of the area in generating the volume\n",
    "* The two theorems can also be applied to lines or areas that are composed of a series of composite parts, when we apply the theorems to this the total surface area or volume genertaed is the addition of the surface areas or volumes generated by each of the composite parts, with the perpendicular distance from the axis of revolution to the centroid of each composite part represented by $r$\n",
    "* $A = \\theta \\sum (rL)$ &emsp; (9-9)\n",
    "* $V = \\theta \\sum (rA)$ &emsp; (9-10)"
   ],
   "metadata": {
    "collapsed": false
   }
  },
  {
   "cell_type": "markdown",
   "source": [
    "Problem 105\n",
    "The heat exchanger radiates thermal energy at\n",
    "the rate of $2500 kJ/h$ for each square meter of its surface\n",
    "area. Determine how many joules (J) are radiated within a\n",
    "5-hour period.\n",
    "<img src=\"pictures\\problem_9_82.png\" width=\"512\"/>"
   ],
   "metadata": {
    "collapsed": false
   }
  },
  {
   "cell_type": "markdown",
   "source": [
    "## Section 9.4 Resultant of a General Distributed Loading\n",
    "* A force $dF$ acting on differential area $dA m^2$ of a plate located at an arbitrary point $(x,y)$, has magnitude $dF = [p(x,y) N /m^2](dA \\cdot m^2) = [p(x,y)dA]N$, notice $p(x,y)dA = dV$, the magnitude of $\\vec F_R$ is the sum of the differential forces acting over the plate's entire surface area $A$\n",
    "* $F_R = \\sum F \\Rightarrow F_R = \\int_A {p(x,y)dA} = \\int_V dV = V$ &emsp; (9-11)\n",
    "* This means the magnitude of the resultant force is equal to the total volume under the distributed-loading diagram\n",
    "* Location of $\\vec F_R$ is calculated by setting the moments of $\\vec F_R$ equal to the moments of all the differential force $d\\vec F$ about the respective $y$ and $x$ axes\n",
    "* $\\bar x = \\frac{\\int_A{xp(x,y)dA}}{\\int_A{p(x,y)dA}} = \\frac{\\int_V{x dV}}{\\int_V{dV}}$,  $\\bar y = \\frac{\\int_A{yp(x,y)dA}}{\\int_A{p(x,y)dA}} = \\frac{\\int_V{y dV}}{\\int_V{dV}} $\n",
    "* The line of action of the resultant force passes through the geometric center of the volume under the distributed-loading diagram"
   ],
   "metadata": {
    "collapsed": false
   }
  }
 ],
 "metadata": {
  "kernelspec": {
   "display_name": "Python 3",
   "language": "python",
   "name": "python3"
  },
  "language_info": {
   "codemirror_mode": {
    "name": "ipython",
    "version": 2
   },
   "file_extension": ".py",
   "mimetype": "text/x-python",
   "name": "python",
   "nbconvert_exporter": "python",
   "pygments_lexer": "ipython2",
   "version": "2.7.6"
  }
 },
 "nbformat": 4,
 "nbformat_minor": 0
}
