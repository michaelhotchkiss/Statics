{
 "cells": [
  {
   "cell_type": "markdown",
   "source": [
    "# Chapter 9 Center of Gravity and Centroid"
   ],
   "metadata": {
    "collapsed": false
   }
  },
  {
   "cell_type": "markdown",
   "source": [
    "## Section 9.1 Center of Gravity, Center of Mass, and the Centroid of a Body\n",
    "* It is important to know the weight and its location when looking at the effect of the force on the body\n",
    "* Center of gravity, $\\vec G$ - point in which the resultant of a system,  total weight of body, passes through\n",
    "* $W = \\int dW$\n",
    "* Location of center of gravity, measured from $y$ axis $(M_R)_y = \\sum M_y \\Rightarrow \\bar x W = \\int x^\\sim  dW \\Rightarrow \\bar x = \\frac{\\int x dW}{\\int dW}$\n",
    "* 3D - $\\bar x = \\frac{\\int x dW}{\\int dW}$, $\\bar y = \\frac{\\int y dW}{\\int dW}$, $\\bar z = \\frac{\\int z dW}{\\int dW}$ &emsp; (9-1)\n",
    "* Where $\\bar x$, $\\bar y$, and $\\bar z$ are the coordinates of the center of gravity, and $x$,$y$, and $z$ are coordinates of an arbitrary point in the particle\n",
    "* The center of mass, $C_M$ is needed to study the dynamic response or accelerated motion of a boy\n",
    "* Location of center of mass can be found by substituting $dW = g dm$ into (9-1), if $g$ is constant it cancels out and becomes\n",
    "* $\\bar x = \\frac{\\int x dm}{\\int dm}$, $\\bar y = \\frac{\\int y dm}{\\int dm}$, $\\bar z = \\frac{\\int z dm}{\\int dm}$ &emsp; (9-2)\n",
    "* When a body is made of a homogenous material then its density is constant, therefore differential element of volume $dV$ has mass $dm = \\rho dV$, substitute this in (9-2) and canceling $\\rho$, we can locate centroid $C$ by $\\bar x = \\frac{\\int_V x dV}{\\int_V dV}$, $\\bar y = \\frac{\\int_V y dV}{\\int_V dV}$, $\\bar z = \\frac{\\int_V z dV}{\\int_V dV}$ &emsp; (9-3)\n",
    "* These equations represent a balance of the moments of the volume of the body, as a result if the volume has two planes of symmetry then its centroid must lie along the line of intersection of these two planes\n",
    "* When an area lies in $x$-$y$ plane and is bounded by $y = f(x)$ then its centroid will be in the plane and can be determined by $\\bar x = \\frac{\\int_A x dA}{\\int_A dA}$, $\\bar y = \\frac{\\int_A y dA}{\\int_A dA}$ &emsp; (9-4)\n",
    "* We can use single integration if we use a rectangular strip for the differential area element $dA$, example if we use a vertical strip the area is $dA = y dx$ and the centroid is at $x = x$ and $y = y/2$, we can consider the horizontal strip $dA = x dy$ and its centroid is located at $x=x/2$ and $y = y$\n",
    "* When a line segment (rod) lies in the $x$-$y$ plane and is described by $y = f(x)$ then its centroid is determined by $\\bar x = \\frac{\\int_L x dL}{\\int_L dL}$, $\\bar y = \\frac{\\int_L y dL}{\\int_L dL}$ &emsp; (9-5)\n",
    "* Length differential element is $dL = \\sqrt{(\\frac{dx}{dx})^2dx^2 + (\\frac{dy}{dx})^2dx^2} = \\sqrt{1 + (\\frac{dy}{dx})^2}dx$ or $dL = \\sqrt{(\\frac{dx}{dy})^2dy^2 + (\\frac{dy}{dy})^2dy^2} = \\sqrt{(\\frac{dy}{dx})^2+1}dy$\n",
    "* Either can be used but one will be simpler to do depending on the problem\n",
    "* Centroid - geometric center of a body, coincides with center of mass or center of gravity if the material is uniform or homogenous\n",
    "* Centroid not always located on the body, like a ring, lie on any axis of symmetry for the body\n",
    "### Procedure for Analysis - center of gravity or centroid of an object can be determined by single integration by:\n",
    "* Select coordinate system, specify axes, and choose a differential element for integration\n",
    "* For lines the element is differential line segment with length $dL$\n",
    "* For areas the element is usually a rectangle with area $dA$ having finite length and differential width\n",
    "* For volumes the element can be a circular disk with volume $dV$, with finite radius and differential thickness\n",
    "* Locate the element so it touches an arbitrary point on the curve that defines the boundary of the shape\n",
    "* Express the differential element in terms of coordinates describing the curve\n",
    "* Express the moment arms $x$,$y$,$z$ for the centroid of the element in terms of the coordinates describing the curve\n",
    "* Substitute the formulations for $x$,$y$,$z$ and $dL$,$dA$, or $dV$ into the appropriate equations\n",
    "* Express the function in the integrand in terms of the same variable as the differential thickness of the element\n",
    "* The limits are defined from the two extreme locations of the element's differential thickness, so when integration is performed the entire region is covered"
   ],
   "metadata": {
    "collapsed": false
   }
  },
  {
   "cell_type": "markdown",
   "source": [
    "Problem 44\n",
    "The hemisphere of radius $r$ is made from a stack of\n",
    "very thin plates such that the density varies with height,\n",
    "$\\rho = kz$, where $k$ is a constant. Determine its mass and the\n",
    "distance $\\bar z$ to the center of mass $G$.\n",
    "<img src=\"pictures\\problem_9_44.png\" width=\"512\"/>"
   ],
   "metadata": {
    "collapsed": false
   }
  },
  {
   "cell_type": "markdown",
   "source": [
    "## Section 9.2 Composite Bodies\n",
    "* Composite Body - series of connected simpler shaped bodies, rectangular, triangular, or circular, etc.\n",
    "* If a body is composite it can often be sectioned off into its composite parts, if provided the weight and center of gravity of each of these parts we do not need to integrate to determine the center of gravity of the entire body\n",
    "* $\\bar x = \\frac{\\sum xW}{\\sum W}$, $\\bar y = \\frac{\\sum yW}{\\sum W}$, $\\bar z = \\frac{\\sum zW}{\\sum W}$ &emsp; (9-6)\n",
    "* $\\bar x$, $\\bar y$, and $\\bar z$ are the coordinates of the center of gravity of the composite body\n",
    "* $x$, $y$, and $z$ are the coordinates of the center of gravity of each composite part\n",
    "* $\\sum W$ is the sum of all the weights of the composite parts\n",
    "* If the body has constant density or specific weight the center of gravity coincides with the centroid of the body, centroid for composite lines, areas, volumes are found using relations in (9-6) replacing $W$ by $L$, $A$, or $V$\n",
    "### Procedure for Analysis - location of center of gravity or centroid of a body that is a composite geometrical object represented by a line,area, or volume\n",
    "* Sketch and divide the body into a finite number of composite parts that have simpler shapes\n",
    "* If the composite body has a hole then consider the composite body without the hole and see the hole as an additional composite part having negative weight\n",
    "* Establish coordinate axes on the sketch, determine coordinates $x$, $y$, $z$ of the center of gravity of each part\n",
    "* Determine $\\bar x$, $\\bar y$, and $\\bar z$ by applying center of gravity equations (9-6)\n",
    "* When an object is symmetrical about an axis the centroid lies on the axis"
   ],
   "metadata": {
    "collapsed": false
   }
  },
  {
   "cell_type": "markdown",
   "source": [
    "Problem 82\n",
    "The assembly is made from a steel hemisphere,$\\rho_{st} = 7.80 Mg/m^3$,\n",
    "and an aluminum cylinder, $\\rho_{al} = 2.70 Mg/m^3$.\n",
    "Determine the height h of the cylinder so\n",
    "that the mass center of the assembly is located at $\\bar z = 160 mm$.\n",
    "<img src=\"pictures\\problem_9_82.png\" width=\"512\"/>\n"
   ],
   "metadata": {
    "collapsed": false
   }
  },
  {
   "cell_type": "markdown",
   "source": [
    "## Section 9.3 Theorems of Pappus and Guldinus\n",
    "* Pappus and Guldinus theorems are used to find the surface area and volume of any body of revolution\n",
    "* When we revolve a plane curve about an axis that does not intersect the curve it will create a surface area of revolution\n",
    "* To calculate the surface area consider the differential line element with length $dL$, when this is revolved $2 \\pi$ radians about an axis a ring with surface area $dA = 2 \\pi r dL$ is created, therefore the surface area of the entire body is $A = 2 \\pi \\int{r dL}$ and $\\int {r dL} = \\bar r L$ then $A = 2 \\pi \\bar r L$, when the curve is revolved only through angle $\\theta$ then $A = \\theta \\bar r L$ &emsp; (9-7)\n",
    "* Where $A$ is the surface area of revolution, $\\theta$ is the angle of revolution measured in radians, $\\theta \\leq 2 \\pi$, $\\bar r$ is the perpendicular distance from the axis of revolution to centroid of the generating curve, $L$ is the length of the generating curve\n",
    "* Pappus and Guldinus first theorem states the area of a surface revolution equals the product of the length of the curve and the distance traveled by the centroid of the curve in generating the surface area\n",
    "* Volume can be generated by revolving a plane area about an axis that does not intersect the area\n",
    "* Volume can be determined by revolving the differential area $dA 2 \\pi$ radians about an axis so that a ring with volume $dV = 2 \\pi r dA$ is created, the entire volume is $V = 2 \\pi \\int {r dA}$ and since $\\int {r dA} = \\bar r A$ therefore $V = 2 \\pi \\bar r A$, if the volume is revolved through angle $\\theta$ then $V = \\theta \\bar r A$ &emsp; (9-8)\n",
    "* Where $V$ is the volume of revolution,$\\theta$ is the angle of revolution measured in radians, $\\theta \\leq 2 \\pi$, $\\bar r$ is the perpendicular distance from the axis of revolution to centroid of the generating curve, $A$ is the generating area\n",
    "* Pappus and Guldinus second theorem states that the volume of a body of revolution is equal to the product of the generating area and the distance traveled by the centroid of the area in generating the volume\n",
    "* The two theorems can also be applied to lines or areas that are composed of a series of composite parts, when we apply the theorems to this the total surface area or volume genertaed is the addition of the surface areas or volumes generated by each of the composite parts, with the perpendicular distance from the axis of revolution to the centroid of each composite part represented by $r$\n",
    "* $A = \\theta \\sum (rL)$ &emsp; (9-9)\n",
    "* $V = \\theta \\sum (rA)$ &emsp; (9-10)"
   ],
   "metadata": {
    "collapsed": false
   }
  },
  {
   "cell_type": "markdown",
   "source": [
    "Problem 105\n",
    "The heat exchanger radiates thermal energy at\n",
    "the rate of $2500 kJ/h$ for each square meter of its surface\n",
    "area. Determine how many joules (J) are radiated within a\n",
    "5-hour period.\n",
    "<img src=\"pictures\\problem_9_82.png\" width=\"512\"/>"
   ],
   "metadata": {
    "collapsed": false
   }
  },
  {
   "cell_type": "markdown",
   "source": [
    "## Section 9.4 Resultant of a General Distributed Loading\n",
    "* A force $dF$ acting on differential area $dA m^2$ of a plate located at an arbitrary point $(x,y)$, has magnitude $dF = [p(x,y) N /m^2](dA \\cdot m^2) = [p(x,y)dA]N$, notice $p(x,y)dA = dV$, the magnitude of $\\vec F_R$ is the sum of the differential forces acting over the plate's entire surface area $A$\n",
    "* $F_R = \\sum F \\Rightarrow F_R = \\int_A {p(x,y)dA} = \\int_V dV = V$ &emsp; (9-11)\n",
    "* This means the magnitude of the resultant force is equal to the total volume under the distributed-loading diagram\n",
    "* Location of $\\vec F_R$ is calculated by setting the moments of $\\vec F_R$ equal to the moments of all the differential force $d\\vec F$ about the respective $y$ and $x$ axes\n",
    "* $\\bar x = \\frac{\\int_A{xp(x,y)dA}}{\\int_A{p(x,y)dA}} = \\frac{\\int_V{x dV}}{\\int_V{dV}}$,  $\\bar y = \\frac{\\int_A{yp(x,y)dA}}{\\int_A{p(x,y)dA}} = \\frac{\\int_V{y dV}}{\\int_V{dV}} $\n",
    "* The line of action of the resultant force passes through the geometric center of the volume under the distributed-loading diagram"
   ],
   "metadata": {
    "collapsed": false
   }
  }
 ],
 "metadata": {
  "kernelspec": {
   "display_name": "Python 3",
   "language": "python",
   "name": "python3"
  },
  "language_info": {
   "codemirror_mode": {
    "name": "ipython",
    "version": 2
   },
   "file_extension": ".py",
   "mimetype": "text/x-python",
   "name": "python",
   "nbconvert_exporter": "python",
   "pygments_lexer": "ipython2",
   "version": "2.7.6"
  }
 },
 "nbformat": 4,
 "nbformat_minor": 0
}
