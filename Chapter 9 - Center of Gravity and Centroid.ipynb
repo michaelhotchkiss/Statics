{
 "cells": [
  {
   "cell_type": "markdown",
   "source": [
    "# Chapter 9 Center of Gravity and Centroid"
   ],
   "metadata": {
    "collapsed": false
   }
  },
  {
   "cell_type": "markdown",
   "source": [
    "## Section 9.1 Center of Gravity, Center of Mass, and the Centroid of a Body\n",
    "* It is important to know the weight and its location when looking at the effect of the force on the body\n",
    "* Center of gravity, $\\vec G$ - point in which the resultant of a system,  total weight of body, passes through\n",
    "* $W = \\int dW$\n",
    "* Location of center of gravity, measured from $y$ axis $(M_R)_y = \\sum M_y \\Rightarrow \\bar x W = \\int x^\\sim  dW \\Rightarrow \\bar x = \\frac{\\int x dW}{\\int dW}$\n",
    "* 3D - $\\bar x = \\frac{\\int x dW}{\\int dW}$, $\\bar y = \\frac{\\int y dW}{\\int dW}$, $\\bar z = \\frac{\\int z dW}{\\int dW}$ &emsp; (9-1)\n",
    "* Where $\\bar x$, $\\bar y$, and $\\bar z$ are the coordinates of the center of gravity, and $x$,$y$, and $z$ are coordinates of an arbitrary point in the particle\n",
    "* The center of mass, $C_M$ is needed to study the dynamic response or accelerated motion of a boy\n",
    "* Location of center of mass can be found by substituting $dW = g dm$ into (9-1), if $g$ is constant it cancels out and becomes\n",
    "* $\\bar x = \\frac{\\int x dm}{\\int dm}$, $\\bar y = \\frac{\\int y dm}{\\int dm}$, $\\bar z = \\frac{\\int z dm}{\\int dm}$ &emsp; (9-2)\n",
    "* When a body is made of a homogenous material then its density is constant, therefore differential element of volume $dV$ has mass $dm = \\rho dV$, substitute this in (9-2) and canceling $\\rho$, we can locate centroid $C$ by $\\bar x = \\frac{\\int_V x dV}{\\int_V dV}$, $\\bar y = \\frac{\\int_V y dV}{\\int_V dV}$, $\\bar z = \\frac{\\int_V z dV}{\\int_V dV}$ &emsp; (9-3)\n",
    "* These equations represent a balance of the moments of the volume of the body, as a result if the volume has two planes of symmetry then its centroid must lie along the line of intersection of these two planes\n",
    "* When an area lies in $x$-$y$ plane and is bounded by $y = f(x)$ then its centroid will be in the plane and can be determined by $\\bar x = \\frac{\\int_A x dA}{\\int_A dA}$, $\\bar y = \\frac{\\int_A y dA}{\\int_A dA}$ &emsp; (9-4)\n",
    "* We can use single integration if we use a rectangular strip for the differential area element $dA$, example if we use a vertical strip the area is $dA = y dx$ and the centroid is at $x = x$ and $y = y/2$, we can consider the horizontal strip $dA = x dy$ and its centroid is located at $x=x/2$ and $y = y$\n",
    "* When a line segment (rod) lies in the $x$-$y$ plane and is described by $y = f(x)$ then its centroid is determined by $\\bar x = \\frac{\\int_L x dL}{\\int_L dL}$, $\\bar y = \\frac{\\int_L y dL}{\\int_L dL}$ &emsp; (9-5)\n",
    "* Length differential element is $dL = \\sqrt{(\\frac{dx}{dx})^2dx^2 + (\\frac{dy}{dx})^2dx^2} = \\sqrt{1 + (\\frac{dy}{dx})^2}dx$ or $dL = \\sqrt{(\\frac{dx}{dy})^2dy^2 + (\\frac{dy}{dy})^2dy^2} = \\sqrt{(\\frac{dy}{dx})^2+1}dy$\n",
    "* Either can be used but one will be simpler to do depending on the problem\n",
    "* Centroid - geometric center of a body, coincides with center of mass or center of gravity if the material is uniform or homogenous\n",
    "* Centroid not always located on the body, like a ring, lie on any axis of symmetry for the body\n",
    "### Procedure for Analysis - center of gravity or centroid of an object can be determined by single integration by:\n",
    "* Select coordinate system, specify axes, and choose a differential element for integration\n",
    "* For lines the element is differential line segment with length $dL$\n",
    "* For areas the element is usually a rectangle with area $dA$ having finite length and differential width\n",
    "* For volumes the element can be a circular disk with volume $dV$, with finite radius and differential thickness\n",
    "* Locate the element so it touches an arbitrary point on the curve that defines the boundary of the shape\n",
    "* Express the differential element in terms of coordinates describing the curve\n",
    "* Express the moment arms $x$,$y$,$z$ for the centroid of the element in terms of the coordinates describing the curve\n",
    "* Substitute the formulations for $x$,$y$,$z$ and $dL$,$dA$, or $dV$ into the appropriate equations\n",
    "* Express the function in the integrand in terms of the same variable as the differential thickness of the element\n",
    "* The limits are defined from the two extreme locations of the element's differential thickness, so when integration is performed the entire region is covered"
   ],
   "metadata": {
    "collapsed": false
   }
  },
  {
   "cell_type": "markdown",
   "source": [
    "Problem 44\n",
    "The hemisphere of radius $r$ is made from a stack of\n",
    "very thin plates such that the density varies with height,\n",
    "$\\rho = kz$, where $k$ is a constant. Determine its mass and the\n",
    "distance $\\bar z$ to the center of mass $G$.\n",
    "<img src=\"pictures\\problem_9_44.png\" width=\"512\"/>"
   ],
   "metadata": {
    "collapsed": false
   }
  },
  {
   "cell_type": "code",
   "execution_count": 1,
   "outputs": [
    {
     "name": "stdout",
     "output_type": "stream",
     "text": [
      "mass = 0.785398163397448*k*r**4\n",
      "z distance to center of mass = 0.533333333333333*r\n"
     ]
    }
   ],
   "source": [
    "from sympy.abc import z, r\n",
    "from scipy import integrate\n",
    "import numpy as np\n",
    "from sympy import integrate, symbols\n",
    "\n",
    "#rho = kz\n",
    "#dm = rho * dV = rho * pi y**2 dz = k * z * (pi(r**2 - z**2)) dz\n",
    "#m = int(k * z * pi(r**2 - z**2) dz ,0,r)\n",
    "z,r,k = symbols('z r k')\n",
    "equation = k * z * (np.pi * (r**2 - z**2))\n",
    "# int(z dm,m)\n",
    "equation_2 = z * k * z * np.pi * (r**2 - z**2)\n",
    "m = integrate(equation,(z,0,r))\n",
    "z_m = integrate(equation_2,(z,0,r))\n",
    "print(f'mass = {m}')\n",
    "z_bar = z_m / m\n",
    "print(f'z distance to center of mass = {z_bar}')"
   ],
   "metadata": {
    "collapsed": false,
    "ExecuteTime": {
     "end_time": "2023-06-15T20:39:41.730034500Z",
     "start_time": "2023-06-15T20:39:39.890932500Z"
    }
   }
  },
  {
   "cell_type": "markdown",
   "source": [
    "## Section 9.2 Composite Bodies\n",
    "* Composite Body - series of connected simpler shaped bodies, rectangular, triangular, or circular, etc.\n",
    "* If a body is composite it can often be sectioned off into its composite parts, if provided the weight and center of gravity of each of these parts we do not need to integrate to determine the center of gravity of the entire body\n",
    "* $\\bar x = \\frac{\\sum xW}{\\sum W}$, $\\bar y = \\frac{\\sum yW}{\\sum W}$, $\\bar z = \\frac{\\sum zW}{\\sum W}$ &emsp; (9-6)\n",
    "* $\\bar x$, $\\bar y$, and $\\bar z$ are the coordinates of the center of gravity of the composite body\n",
    "* $x$, $y$, and $z$ are the coordinates of the center of gravity of each composite part\n",
    "* $\\sum W$ is the sum of all the weights of the composite parts\n",
    "* If the body has constant density or specific weight the center of gravity coincides with the centroid of the body, centroid for composite lines, areas, volumes are found using relations in (9-6) replacing $W$ by $L$, $A$, or $V$\n",
    "### Procedure for Analysis - location of center of gravity or centroid of a body that is a composite geometrical object represented by a line,area, or volume\n",
    "* Sketch and divide the body into a finite number of composite parts that have simpler shapes\n",
    "* If the composite body has a hole then consider the composite body without the hole and see the hole as an additional composite part having negative weight\n",
    "* Establish coordinate axes on the sketch, determine coordinates $x$, $y$, $z$ of the center of gravity of each part\n",
    "* Determine $\\bar x$, $\\bar y$, and $\\bar z$ by applying center of gravity equations (9-6)\n",
    "* When an object is symmetrical about an axis the centroid lies on the axis"
   ],
   "metadata": {
    "collapsed": false
   }
  },
  {
   "cell_type": "markdown",
   "source": [
    "Problem 82\n",
    "The assembly is made from a steel hemisphere,$\\rho_{st} = 7.80 Mg/m^3$,\n",
    "and an aluminum cylinder, $\\rho_{al} = 2.70 Mg/m^3$.\n",
    "Determine the height h of the cylinder so\n",
    "that the mass center of the assembly is located at $\\bar z = 160 mm$.\n",
    "<img src=\"pictures\\problem_9_82.png\" width=\"512\"/>\n"
   ],
   "metadata": {
    "collapsed": false
   }
  },
  {
   "cell_type": "code",
   "execution_count": 6,
   "outputs": [
    {
     "name": "stdout",
     "output_type": "stream",
     "text": [
      "(0.0542867210540316*h*(h/2 + 0.16) + 0.00669134102473397)/(0.0542867210540316*h + 0.0669134102473397)\n",
      "height = 0.385 m \n"
     ]
    }
   ],
   "source": [
    "from scipy.optimize import fsolve\n",
    "import numpy as np\n",
    "from sympy import symbols\n",
    "z_bar = 160e-3\n",
    "rho_hemisphere = 7.8\n",
    "rho_cylinder = 2.7\n",
    "r_hemisphere = 160e-3\n",
    "r_cylinder = 80e-3\n",
    "h = symbols('h')\n",
    "\n",
    "volume_hemisphere = 4 / 3 * np.pi * r_hemisphere**3 /2\n",
    "mass_hemisphere = volume_hemisphere * rho_hemisphere\n",
    "volume_cylinder = np.pi * h * r_cylinder**2\n",
    "mass_cylinder = volume_cylinder * rho_cylinder\n",
    "sum_mass = mass_hemisphere + mass_cylinder\n",
    "z_m_hemisphere = (z_bar - 3/8 * r_hemisphere) * mass_hemisphere\n",
    "z_m_cylinder = (z_bar + h / 2) * mass_cylinder\n",
    "sum_z_m = z_m_hemisphere + z_m_cylinder\n",
    "z_bar_1 = sum_z_m / sum_mass\n",
    "\n",
    "def height_function(h):\n",
    "    return (0.0542867210540316*h*(h/2 + 0.16) + 0.00669134102473397)/(0.0542867210540316*h + 0.0669134102473397) - 160e-3\n",
    "h = fsolve(height_function,1)[0]\n",
    "print(f'height = {h:.3f} m ')"
   ],
   "metadata": {
    "collapsed": false,
    "ExecuteTime": {
     "end_time": "2023-06-15T20:43:41.472302100Z",
     "start_time": "2023-06-15T20:43:41.395539600Z"
    }
   }
  },
  {
   "cell_type": "markdown",
   "source": [
    "## Section 9.3 Theorems of Pappus and Guldinus\n",
    "* Pappus and Guldinus theorems are used to find the surface area and volume of any body of revolution\n",
    "* When we revolve a plane curve about an axis that does not intersect the curve it will create a surface area of revolution\n",
    "* To calculate the surface area consider the differential line element with length $dL$, when this is revolved $2 \\pi$ radians about an axis a ring with surface area $dA = 2 \\pi r dL$ is created, therefore the surface area of the entire body is $A = 2 \\pi \\int{r dL}$ and $\\int {r dL} = \\bar r L$ then $A = 2 \\pi \\bar r L$, when the curve is revolved only through angle $\\theta$ then $A = \\theta \\bar r L$ &emsp; (9-7)\n",
    "* Where $A$ is the surface area of revolution, $\\theta$ is the angle of revolution measured in radians, $\\theta \\leq 2 \\pi$, $\\bar r$ is the perpendicular distance from the axis of revolution to centroid of the generating curve, $L$ is the length of the generating curve\n",
    "* Pappus and Guldinus first theorem states the area of a surface revolution equals the product of the length of the curve and the distance traveled by the centroid of the curve in generating the surface area\n",
    "* Volume can be generated by revolving a plane area about an axis that does not intersect the area\n",
    "* Volume can be determined by revolving the differential area $dA 2 \\pi$ radians about an axis so that a ring with volume $dV = 2 \\pi r dA$ is created, the entire volume is $V = 2 \\pi \\int {r dA}$ and since $\\int {r dA} = \\bar r A$ therefore $V = 2 \\pi \\bar r A$, if the volume is revolved through angle $\\theta$ then $V = \\theta \\bar r A$ &emsp; (9-8)\n",
    "* Where $V$ is the volume of revolution,$\\theta$ is the angle of revolution measured in radians, $\\theta \\leq 2 \\pi$, $\\bar r$ is the perpendicular distance from the axis of revolution to centroid of the generating curve, $A$ is the generating area\n",
    "* Pappus and Guldinus second theorem states that the volume of a body of revolution is equal to the product of the generating area and the distance traveled by the centroid of the area in generating the volume\n",
    "* The two theorems can also be applied to lines or areas that are composed of a series of composite parts, when we apply the theorems to this the total surface area or volume genertaed is the addition of the surface areas or volumes generated by each of the composite parts, with the perpendicular distance from the axis of revolution to the centroid of each composite part represented by $r$\n",
    "* $A = \\theta \\sum (rL)$ &emsp; (9-9)\n",
    "* $V = \\theta \\sum (rA)$ &emsp; (9-10)"
   ],
   "metadata": {
    "collapsed": false
   }
  },
  {
   "cell_type": "markdown",
   "source": [
    "Problem 105\n",
    "The heat exchanger radiates thermal energy at\n",
    "the rate of $2500 kJ/h$ for each square meter of its surface\n",
    "area. Determine how many joules (J) are radiated within a\n",
    "5-hour period.\n",
    "<img src=\"pictures\\problem_9_105.png\" width=\"350\"/>"
   ],
   "metadata": {
    "collapsed": false
   }
  },
  {
   "cell_type": "code",
   "execution_count": 8,
   "outputs": [
    {
     "name": "stdout",
     "output_type": "stream",
     "text": [
      "16.41929379028939\n",
      "Joules radiated in 5 hours is 205.24 MJ\n"
     ]
    }
   ],
   "source": [
    "import numpy as np\n",
    "heat_exchanger_rate = 2500e3\n",
    "theta = 2 * np.pi\n",
    "L_1 = 1.5\n",
    "r_1 = .75\n",
    "L_2 = 1\n",
    "r_2 = 0.5\n",
    "L_3 = np.sqrt(.75**2 + .25**2)\n",
    "r_3 = (.75 + .5)/2\n",
    "time = 5\n",
    "#A = sum (theta * bar r * L)\n",
    "surface_area = 2 * np.pi * (L_1 * r_1 + L_2 * r_2 + 2 * (L_3 * r_3))\n",
    "heat = heat_exchanger_rate * surface_area * time / 1e6\n",
    "print(f'Joules radiated in 5 hours is {heat:.2f} MJ')"
   ],
   "metadata": {
    "collapsed": false,
    "ExecuteTime": {
     "end_time": "2023-06-15T20:48:08.292901900Z",
     "start_time": "2023-06-15T20:48:08.233849100Z"
    }
   }
  },
  {
   "cell_type": "markdown",
   "source": [
    "## Section 9.4 Resultant of a General Distributed Loading\n",
    "* A force $dF$ acting on differential area $dA m^2$ of a plate located at an arbitrary point $(x,y)$, has magnitude $dF = [p(x,y) N /m^2](dA \\cdot m^2) = [p(x,y)dA]N$, notice $p(x,y)dA = dV$, the magnitude of $\\vec F_R$ is the sum of the differential forces acting over the plate's entire surface area $A$\n",
    "* $F_R = \\sum F \\Rightarrow F_R = \\int_A {p(x,y)dA} = \\int_V dV = V$ &emsp; (9-11)\n",
    "* This means the magnitude of the resultant force is equal to the total volume under the distributed-loading diagram\n",
    "* Location of $\\vec F_R$ is calculated by setting the moments of $\\vec F_R$ equal to the moments of all the differential force $d\\vec F$ about the respective $y$ and $x$ axes\n",
    "* $\\bar x = \\frac{\\int_A{xp(x,y)dA}}{\\int_A{p(x,y)dA}} = \\frac{\\int_V{x dV}}{\\int_V{dV}}$,  $\\bar y = \\frac{\\int_A{yp(x,y)dA}}{\\int_A{p(x,y)dA}} = \\frac{\\int_V{y dV}}{\\int_V{dV}} $ &emsp; (9-12)\n",
    "* The line of action of the resultant force passes through the geometric center of the volume under the distributed-loading diagram"
   ],
   "metadata": {
    "collapsed": false
   }
  },
  {
   "cell_type": "markdown",
   "source": [
    "## Section 9.5 Fluid Pressure\n",
    "* Pascal's law - fluid at rest creates pressure $p$ at a point that is the same in al directions, magnitude of $p$, with units force per unit area, is dependent on the specific weight $\\gamma$ or mass density $\\rho$ of the fluid and the depth $z$ of the point from the fluid surface, $p = \\gamma z = \\rho g z$ &emsp; (9-13)\n",
    "* This equation only holds for fluids that are assumed to be incompressible which is true in most cases for liquids, gases however are compressible so this equation cannot be used\n",
    "* We can find the resultant force caused by a liquid and its location on the surface of a submerged by using (9-13) and what we learned in section 9.4, we will look at 3 different shapes of plates\n",
    "### Flat Plate of Constant Width\n",
    "* Let the plate be a flat rectangular plate of constant width be submerged in a liquid with specific weight $\\gamma$\n",
    "* Pressure varies linearly with depth so the distribution of pressure over the plate's surface is represented by trapezoidal volume with intensity of $p_1 = \\gamma z_1$ at depth $z_1$ and $p_2 = \\gamma z_2$ at depth $z_2$, from section 9.4, the magnitude of resultant force is equal to the volume of the loading diagram and $\\vec F_R$ has a line of action that passes through the volume's centroid $C$, therefore $\\vec F_R$ does not act at the centroid of the plate, instead it acts at point $P$ called the center of pressure\n",
    "* The plate has constant width therefore the loading distribution can be viewed in 2D, the loading intensity with units of force/length varies linearly from $w_1 = b p_1 = b \\gamma z_1$ to $w_2 = b p_2 = b \\gamma z_2$, the magnitude of $\\vec F_R$ is equal to the trapezoidal area and has a line of action that passes through the area's centroid $C$, area and location of centroid for a trapezoid in back cover\n",
    "### Curved Plate of Constant Width\n",
    "* Let the plate be a submerged curved plate with constant width, the pressure acting normal to the plate continually changes in magnitude and direction\n",
    "* Consider a distributed loading acting on the plate, the plate supports the weight of liquid $W_f$ contained in the block $DA$, $W_f = (\\gamma b) (area_{BDA})$, this force acts through the centroid of $BDA$, pressure distributions are created by the liquid acting along the vertical and horizontal sides of the block, the vertical side $AD$ the force $\\vec F_{AD}$ has magnitude equal to the area of the trapezoid, and acts through the centroid $C_{AD}$ of this area, the horizontal side $AB$ is constant since all points lying in this plane are the same depth from the surface of the liquid, $\\vec F_{AB}$ is the area of the rectangle acting through centroid $C_{AB}$ or the midpoint of $AB$, therefore $\\vec F_R = \\sum \\vec F = \\vec F_{AD} + \\vec F_{AB} + \\vec W_f$, location $P$ being the center of pressure is found by applying $M_R = \\sum M$ which states the moment of $\\vec F_R$ about a convenient reference point like $D$ or $B$ is equal to the sum of the moments of the three forces about this same point\n",
    "### Flat Plate of Variable Width\n",
    "* Let the plate be a submerged plate with variable width, consider the force $d\\vec F$ acting on the differential area strip $dA$ parallel to the $x$ axis, the magnitude is $dF = p dA$, the depth of $dA$ is $z$ therefore the pressure on the element is $p = \\gamma z$, therefore $dF = (\\gamma z)dA$, the resultant force becomes\n",
    "* $F_R = \\int dF = \\gamma \\int zdA$\n",
    "* Let the depth of the centroid $C'$ of the area is $\\bar z$ then $\\int zdA = \\bar z A$, substitute to get\n",
    "* $F_R = \\gamma \\bar z A$ &emsp; (9-14)\n",
    "* This means the magnitude of the resultant force acting on any flat plate is equal to the product of area $A$ of the plate and the pressure $p = \\gamma \\bar z$ at the depth of the area's centroid $C'$, this force is equivalent to the volume under the pressure distribution, from section 9.4, the line of action of this force passes through the centroid $C$ of this volume and intersects the plate at $P$ or the center of pressure, location of $C'$ does not coincide with location of $P$"
   ],
   "metadata": {
    "collapsed": false
   }
  },
  {
   "cell_type": "markdown",
   "source": [
    "Problem 127\n",
    "The 2-m-wide rectangular gate is pinned at its\n",
    "center $A$ and is prevented from rotating by the block at $B$.\n",
    "Determine the reactions at these supports due to hydrostatic\n",
    "pressure. $\\rho_w = 1.0 Mg/m^3$.\n",
    "<img src=\"pictures\\problem_9_127.png\" width=\"500\"/>\n"
   ],
   "metadata": {
    "collapsed": false
   }
  },
  {
   "cell_type": "code",
   "execution_count": 15,
   "outputs": [
    {
     "data": {
      "text/plain": "<Figure size 640x480 with 1 Axes>",
      "image/png": "[encoded data removed]"
     },
     "metadata": {},
     "output_type": "display_data"
    }
   ],
   "source": [
    "from matplotlib import pyplot as plt\n",
    "\n",
    "height_AB = 1.5\n",
    "height_B_top = 3\n",
    "depths = np.linspace(3,6,10)\n",
    "load = 19620 * (depths-3) + 58860\n",
    "plt.plot(depths,load)\n",
    "plt.fill_between(depths,load)\n",
    "plt.xlabel(r'$d$')\n",
    "plt.ylabel(r'$w$')\n",
    "plt.show()"
   ],
   "metadata": {
    "collapsed": false,
    "ExecuteTime": {
     "end_time": "2023-06-15T20:59:26.324421200Z",
     "start_time": "2023-06-15T20:59:26.018254500Z"
    }
   }
  },
  {
   "cell_type": "code",
   "execution_count": 19,
   "outputs": [
    {
     "name": "stdout",
     "output_type": "stream",
     "text": [
      " F_A = 235.44kN\n",
      " F_B = 29.43kN\n"
     ]
    }
   ],
   "source": [
    "width = 2\n",
    "gravitation_constant = 9.81\n",
    "rho = 1e3\n",
    "z_1 = 3\n",
    "z_2 = 6\n",
    "h = 3\n",
    "d_1 = 1.5\n",
    "w_1 = rho * gravitation_constant * width * z_1\n",
    "w_2 = rho * gravitation_constant * width * z_2\n",
    "\n",
    "\n",
    "F_1 = 1/2 * (w_2 - w_1) * h\n",
    "F_2 = w_1 * h\n",
    "#F_1 acts at 1 m above B\n",
    "#F_2 acts at A\n",
    "\n",
    "#moment about A\n",
    "F_B = F_1 * (d_1 - 1) / d_1\n",
    "\n",
    "#sum of F_x\n",
    "F_A = -F_B + F_2 + F_1\n",
    "\n",
    "print(f' F_A = {F_A*1e-3:.2f}kN')\n",
    "print(f' F_B = {F_B*1e-3:.2f}kN')"
   ],
   "metadata": {
    "collapsed": false,
    "ExecuteTime": {
     "end_time": "2023-06-15T21:04:43.949570600Z",
     "start_time": "2023-06-15T21:04:43.923932600Z"
    }
   }
  }
 ],
 "metadata": {
  "kernelspec": {
   "display_name": "Python 3",
   "language": "python",
   "name": "python3"
  },
  "language_info": {
   "codemirror_mode": {
    "name": "ipython",
    "version": 2
   },
   "file_extension": ".py",
   "mimetype": "text/x-python",
   "name": "python",
   "nbconvert_exporter": "python",
   "pygments_lexer": "ipython2",
   "version": "2.7.6"
  }
 },
 "nbformat": 4,
 "nbformat_minor": 0
}
