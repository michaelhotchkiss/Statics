{
 "cells": [
  {
   "cell_type": "markdown",
   "source": [
    "# Chapter 5 Equilibrium of a Rigid Body"
   ],
   "metadata": {
    "collapsed": false
   }
  },
  {
   "cell_type": "markdown",
   "source": [
    "## Section 5.1 Conditions for Rigid-Body Equilibrium\n",
    "* We can use the same methods from the last chapter to reduce the force and couple moment system to an equivalent resultant force and couple moment at any point $O$\n",
    "* Equilibrium - when both resultant force and couple moment are both equal to $0$ the body is equilibrium, $\\vec F_R = \\sum \\vec F = 0$ and $(\\vec M_R)_O = \\sum \\vec M_O = 0$\n",
    "* This is true since $\\sum \\vec M_A = \\vec r \\times \\vec F_R + (\\vec M_R)_O = 0$, and since $r \\neq 0 \\Rightarrow \\vec F_R = 0$ and $(\\vec M_R)_O = 0$\n",
    "* Applying these equations of equilibrium assume that the body remain rigid, this is because in the real world the bodies deform only slightly since steel and concrete is very rigid, this assumption allows the direction of the applied forces and their moment arms with respect to a fixed reference remain the same both before and after the load\n",
    "* 2D - coplanar force system, rigid body lives inside a single plane, couple moments acting on the body are directed perpendicular to the plane,"
   ],
   "metadata": {
    "collapsed": false
   }
  },
  {
   "cell_type": "markdown",
   "source": [
    "## Section 5.2 Free-Body Diagrams\n",
    "* Support Reactions\n",
    "    * A support prevents the translation of a body in a given direction by exerting a force on the body in the opposite direction\n",
    "    * A support prevents the rotation of a body in a given direction by exerting a couple moment on the body in the opposite direction\n",
    "    * 3 ways a horizontal member (beam) is supported at its ends\n",
    "        * Roller - prevents only the beam from translating in the vertical direction, roller only exerts a force on the beam in this direction $\\uparrow$\\\\\n",
    "        * Pin - pin passes through a hole in the beam and two leaves which are fixed to the ground, the pin prevents translation of the beam in any direction $\\phi$ the pin exerts a force $\\vec F$ on the beam in the opposite direction, can represent $\\vec F$ in rectangular coordinates for simplification\n",
    "        * Fixed Support - prevents translation and rotation on the beam by creating a force and couple moment on the beam at its point of connection, can be represented in $\\vec F_x$ and $\\vec F_y$\n",
    "* Internal Forces that act between adjacent particles in a body occur in collinear pairs that have the same magnitude but act in opposite directions (Newton's Third Law)\n",
    "* There is no external effect on the body from internal forces, therefore internal forces are not included in free-body diagram\n",
    "* Weight - force resultant from the weight of every particle in the body, denoted $\\vec W$, location of its point of application is the center of gravity\n",
    "* If the body is uniform or made from the same material the center of gravity will be located at the geometric center of the body, if it not uniform the center of Gravity ($G$) will be given\n",
    "* If rotation is prevented then when the support is removed exerts a couple moment on the body"
   ],
   "metadata": {
    "collapsed": false
   }
  },
  {
   "cell_type": "markdown",
   "source": [
    "| Connection Type | Number of Unknowns  | Reaction Direction |\n",
    "|:----------------|:-------------------:| :----------------: |\n",
    "| Cable           |         one         | away from the member in the direction of the cable |"
   ],
   "metadata": {
    "collapsed": false
   }
  },
  {
   "cell_type": "markdown",
   "source": [
    "Problem 5d\n"
   ],
   "metadata": {
    "collapsed": false
   }
  },
  {
   "cell_type": "code",
   "execution_count": 27,
   "outputs": [
    {
     "data": {
      "text/plain": "<Figure size 640x480 with 1 Axes>",
      "image/png": "[encoded data removed]"
     },
     "metadata": {},
     "output_type": "display_data"
    }
   ],
   "source": [
    "import np as np\n",
    "import numpy as np\n",
    "from matplotlib.patches import FancyArrow\n",
    "import matplotlib.pyplot as plt\n",
    "spring_length = 3\n",
    "beam_length = 6\n",
    "vectors = {\n",
    "    'F_{s,A}': {'origin': np.array([0,0]), 'vector': np.array([0,0.5 * spring_length])},\n",
    "    'F_{s,B}': {'origin': np.array([beam_length,0]), 'vector': np.array([0,0.5 * spring_length])},\n",
    "    'F_R': {'origin': np.array([beam_length / 3,0]), 'vector': np.array([0,-0.75 * spring_length])},\n",
    "    'F_A': {'origin': np.array([0,spring_length]), 'vector': np.array([0,0.5 * spring_length])},\n",
    "    'F_B': {'origin': np.array([beam_length,spring_length]), 'vector': np.array([0,0.5 * spring_length])},\n",
    "}\n",
    "figure, axes = plt.subplots()\n",
    "axes.set_xlim([-0.5 * spring_length, beam_length + 0.5 * spring_length])\n",
    "axes.set_ylim([-spring_length,2 * spring_length])\n",
    "\n",
    "for label, vector_dictionary in vectors.items():\n",
    "    origin = vector_dictionary['origin']\n",
    "    vector = vector_dictionary['vector']\n",
    "    vector_arrow = FancyArrow(origin[0], origin[1], vector[0], vector[1],\n",
    "    width=.02,length_includes_head=True, color='k')\n",
    "    axes.text(origin[0] + 0.5*vector[0],\n",
    "              origin[1] + 0.5*vector[1],\n",
    "              r'$\\vec{'+label[0]+r'}' + label[1:] + r'$', color='k', fontsize=14,\n",
    "              va='bottom',ha='right'\n",
    "                              )\n",
    "    axes.add_patch(vector_arrow)\n",
    "\n",
    "axes.axis('off')\n",
    "plt.show()"
   ],
   "metadata": {
    "collapsed": false,
    "ExecuteTime": {
     "end_time": "2023-05-30T16:57:02.276319500Z",
     "start_time": "2023-05-30T16:57:02.105740400Z"
    }
   }
  },
  {
   "cell_type": "markdown",
   "source": [
    "## Section 5.3 Equations of Equilibrium\n",
    "* Equilibrium in 2D - $\\sum F_x = 0$, $\\sum F_y = 0$, and $\\sum M_O = 0$ (5-2)\n",
    "* Alternate set of equations - $\\sum F_x = 0$, $\\sum M_A = 0$, and $\\sum M_B = 0$ (5-3), using these equations require a line passing through points $A$ and $B$ is not parallel to the $y$ axis\n",
    "* Another alternate set of equations - $\\sum M_A = 0$, $\\sum M_B = 0$, and $\\sum M_C = 0$, all points $A$, $B$, and $C$ do not lie on the same line\n",
    "* Procedure for Analysis - establish x,y coordinate axes, remove all supports and draw an outlined shape of the body, show all forces and couple moments acting on the body, label loadings and specify their directions relative to the $x$ or $y$ axis, the sense of a force or couple moment having an unknown magnitude but known line of action can be assumed. Then apply moment equation of equilibrium about a point $O$ that lies at the intersection of the lines of action of two unknown forces, apply the force equilibrium equations and orient the $x$ and $y$ axes along lines that will provide the simplest resolution of the forces into their $x$ and $y$ components, finally if the solution of equilibrium is a negative scalar for a force or couple moment magnitude, then the sense is opposite to what was assumed"
   ],
   "metadata": {
    "collapsed": false
   }
  },
  {
   "cell_type": "markdown",
   "source": [
    "## Section 5.4 Two-and Three-Force Members\n",
    "* Two-Force Members - has forces applied at only two points on the member, to satisfy force equilibrium $F_A$ and $F_B$ must be equal in magnitude but opposite in direction, $\\sum \\vec F = 0$, moment equilibrium requires $F_A$ and $F_B$ share the sane line of action, only happens when if they are directed along the line joining two points $A$ and $B$, $\\sum \\vec M_A = 0$ or $\\sum \\vec M_B = 0$. Two-force member systems the two forces acting on the member must have same magnitude, but opposite direction, have the same line of action, directed along the line joining the two points where these forces act\n",
    "* Three-Force Members - member subjected to only three forces, moment equilibrium can be satisfied only if the three forces form a concurrent or parallel force system, if the lines of action of $\\vec F_1$ and $\\vec F_2$ intersect at point $O$ then the line of action of $\\vec F_3$ must also pass through point $O$ so that the forces satisfy $\\sum \\vec M_O = 0$, if the three forces are parallel, the location of the point of intersection $O$ will approach infinity."
   ],
   "metadata": {
    "collapsed": false
   }
  },
  {
   "cell_type": "markdown",
   "source": [
    "Problem 36\n",
    "The beam of negligible weight is supported\n",
    "horizontally by two springs. If the beam is horizontal and\n",
    "the springs are unstretched when the load is removed,\n",
    "determine the angle of tilt of the beam when the load is\n",
    "applied.\n",
    "<img src=\"pictures\\problem_5_36.png\" width=\"512\"/>"
   ],
   "metadata": {
    "collapsed": false
   }
  },
  {
   "cell_type": "code",
   "execution_count": 28,
   "outputs": [
    {
     "name": "stdout",
     "output_type": "stream",
     "text": [
      "2.0\n",
      "[600. 300.]\n",
      "F_A = 600.0\n",
      "F_B = 300.0\n",
      "F_R = 900.0\n",
      "s_A = 0.6\n",
      "s_B = 0.2\n",
      "Θ = 3.8°\n"
     ]
    }
   ],
   "source": [
    "import numpy as np\n",
    "import scipy.integrate as integrate\n",
    "force = 600\n",
    "force_distance = 3\n",
    "w = lambda x: (force/force_distance) * x\n",
    "x_w =lambda x: x * (force/force_distance) * x\n",
    "k_A = 1000\n",
    "k_B = 1500\n",
    "\n",
    "displacement = integrate.quad(x_w, 0,3)[0] / integrate.quad(w, 0,3)[0]\n",
    "print(displacement)\n",
    "F_R = force * force_distance / 2\n",
    "#moment_C = 0 = -F_R * 2 + F_B(6)\n",
    "F_B = F_R * 2 / 6\n",
    "force_coefficients = np.array([\n",
    "    [1,1],\n",
    "    [0,1]\n",
    "])\n",
    "right_hand_side = np.array([1 , 1/3]) * F_R\n",
    "reaction_forces = np.linalg.solve(force_coefficients, right_hand_side)\n",
    "print(reaction_forces)\n",
    "F_A = reaction_forces[0]\n",
    "F_B = reaction_forces[1]\n",
    "#F_y = 0, F_A + F_B = F_R\n",
    "F_A = F_R - F_B\n",
    "s_A = F_A / k_A\n",
    "s_B = F_B / k_B\n",
    "for variable in [F_A,F_B,F_R,s_A,s_B]:\n",
    "    print(f'{[name for name in globals() if globals()[name] is variable][0] } = {variable}')\n",
    "\n",
    "#6 sin(theta) = .4\n",
    "theta = np.degrees(np.arcsin(.4/6))\n",
    "print(f'\\u0398 = {theta:1.1f}\\u00B0')"
   ],
   "metadata": {
    "collapsed": false,
    "ExecuteTime": {
     "end_time": "2023-05-30T16:57:02.405081700Z",
     "start_time": "2023-05-30T16:57:02.286082200Z"
    }
   }
  },
  {
   "cell_type": "markdown",
   "source": [
    "## Section 5.5 Free-Body Diagrams - 3D\n",
    "* As in 2D case a force is developed by a support that restricts the translation of its attached member\n",
    "* A couple moment is developed when rotation of the attached member is prevented\n",
    "* Ball-and-socket joint - prevents any translation of the connecting member, a force acts on the member at the point of connection, $\\vec F$ has 3 magnitudes $F_x$,$ F_y$,$ F_x$, $F = \\sqrt{F_x^2 + F_y^2 + F_z^2}$, force's orientation are defined by coordinate direction angles, $\\alpha$,$\\beta$,$\\gamma$. Connecting member is allowed to rotate freely about any axis, no couple moment is resisted by a ball-and-socket join.\n",
    "* Same setup to draw a Free-Body Diagram as in 2D except with 3 axes"
   ],
   "metadata": {
    "collapsed": false
   }
  },
  {
   "cell_type": "markdown",
   "source": [
    "## Section 5.6 Equations of Equilibrium\n",
    "* Equilibrium of a rigid body - $\\vec F_R = 0$ and $(\\vec M_R)_O = 0$\n",
    "* Vector Equations of Equilibrium - $\\sum \\vec F = 0$ and $\\sum \\vec M_O = 0$ (5-5)\n",
    "* Scalar Equations of Equilibrium - $\\sum F_x = 0$, $\\sum F_y = 0$, and $\\sum F_z = 0$ (5-6a) and $\\sum M_x = 0$, $\\sum M_y = 0$, and $\\sum M_z = 0$ (5-6b)"
   ],
   "metadata": {
    "collapsed": false
   }
  },
  {
   "cell_type": "markdown",
   "source": [
    "## Section 5.7 Constraints and Statical Determinacy\n",
    "* For a rigid body to be in equilibrium it also must be properly held or constrained by its supports as well as satisfying equations of equilibrium, the lines of action of the reactive forces cannot intersect a common axis and are not parallel to each other\n",
    "* If a body has redundant supports, i.e. there is more supports than necessary to hold it in equilibrium, then it is statically indeterminate\n",
    "* Statically indeterminate - there will be more unknown loadings on the body than equations of equilibrium available for their solution\n",
    "* To solve a statically indeterminate problem we can obtain the other equations needed from the deformation conditions at the point of support. These equations deal with the physical properties of the body.\n",
    "* A body is improperly constrained if all the reactive forces intersect at a common point or pass through a common axis, or if all reactive forces are parallel to each other.\n",
    "* Having same number of unknowns reactive forces as equations does not guarantee that a body will be stable under a load\n"
   ],
   "metadata": {
    "collapsed": false
   }
  },
  {
   "cell_type": "markdown",
   "source": [
    "Problem 82\n",
    "The sign has a mass of 100 kg with center of mass\n",
    "at G. Determine the x, y, z components of reaction at the\n",
    "ball-and-socket joint A and the tension in wires BC and BD.\n",
    "<img src=\"pictures\\problem_5_82.png\" width=\"330\"/>\n"
   ],
   "metadata": {
    "collapsed": false
   }
  },
  {
   "cell_type": "code",
   "execution_count": 29,
   "outputs": [
    {
     "ename": "TypeError",
     "evalue": "unsupported operand type(s) for *: 'function' and 'float'",
     "output_type": "error",
     "traceback": [
      "\u001B[1;31m---------------------------------------------------------------------------\u001B[0m",
      "\u001B[1;31mTypeError\u001B[0m                                 Traceback (most recent call last)",
      "Cell \u001B[1;32mIn[29], line 18\u001B[0m\n\u001B[0;32m     16\u001B[0m unit_vector_BC \u001B[38;5;241m=\u001B[39m position_vector_BC \u001B[38;5;241m/\u001B[39m magnitude_position_vector_BC\n\u001B[0;32m     17\u001B[0m unit_vector_BD \u001B[38;5;241m=\u001B[39m position_vector_BD \u001B[38;5;241m/\u001B[39m magnitude_position_vector_BD\n\u001B[1;32m---> 18\u001B[0m F_BC \u001B[38;5;241m=\u001B[39m \u001B[43mmagnitude_BC\u001B[49m\u001B[43m \u001B[49m\u001B[38;5;241;43m*\u001B[39;49m\u001B[43m \u001B[49m\u001B[43munit_vector_BC\u001B[49m\n\u001B[0;32m     19\u001B[0m F_BD \u001B[38;5;241m=\u001B[39m magnitude_BD \u001B[38;5;241m*\u001B[39m unit_vector_BD\n\u001B[0;32m     20\u001B[0m \u001B[38;5;66;03m#position_vector_AB cross (F_BC + F_BD) + j cross weight = 0\u001B[39;00m\n",
      "\u001B[1;31mTypeError\u001B[0m: unsupported operand type(s) for *: 'function' and 'float'"
     ]
    }
   ],
   "source": [
    "from astropy.constants import g0\n",
    "position_vector_A = np.array([0,0,0])\n",
    "position_vector_B = np.array([0,2,0])\n",
    "position_vector_C = np.array([1,0,2])\n",
    "position_vector_D = np.array([-2,0,1])\n",
    "mass = 100\n",
    "magnitude_BC = lambda x: x\n",
    "magnitude_BD = lambda y: y\n",
    "\n",
    "weight = mass * (g0)\n",
    "position_vector_AB = position_vector_B - position_vector_A\n",
    "position_vector_BC = position_vector_C - position_vector_B\n",
    "position_vector_BD = position_vector_D - position_vector_B\n",
    "magnitude_position_vector_BC = np.linalg.norm(position_vector_BC)\n",
    "magnitude_position_vector_BD = np.linalg.norm(position_vector_BD)\n",
    "unit_vector_BC = position_vector_BC / magnitude_position_vector_BC\n",
    "unit_vector_BD = position_vector_BD / magnitude_position_vector_BD\n",
    "F_BC = magnitude_BC * unit_vector_BC\n",
    "F_BD = magnitude_BD * unit_vector_BD\n",
    "#position_vector_AB cross (F_BC + F_BD) + j cross weight = 0\n",
    "force = np.cross(position_vector_AB, (F_BC + F_BD))\n",
    "print(force)\n"
   ],
   "metadata": {
    "collapsed": false,
    "ExecuteTime": {
     "end_time": "2023-05-30T16:57:02.405081700Z",
     "start_time": "2023-05-30T16:57:02.304260400Z"
    }
   }
  }
 ],
 "metadata": {
  "kernelspec": {
   "display_name": "Python 3",
   "language": "python",
   "name": "python3"
  },
  "language_info": {
   "codemirror_mode": {
    "name": "ipython",
    "version": 2
   },
   "file_extension": ".py",
   "mimetype": "text/x-python",
   "name": "python",
   "nbconvert_exporter": "python",
   "pygments_lexer": "ipython2",
   "version": "2.7.6"
  }
 },
 "nbformat": 4,
 "nbformat_minor": 0
}
