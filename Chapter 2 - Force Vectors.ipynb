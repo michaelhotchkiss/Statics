{
 "cells": [
  {
   "cell_type": "markdown",
   "source": [
    "# Chapter 2 Force Vectors"
   ],
   "metadata": {
    "collapsed": false
   }
  },
  {
   "cell_type": "markdown",
   "source": [
    "## Section 2.1 Scalars and Vectors\n",
    "* Scalar - any positive or negative physical quantity that can be completely specifeid by its magnitude.\n",
    "* Vector - any physical quantity that requires both a magnitude and direction.\n"
   ],
   "metadata": {
    "collapsed": false
   }
  },
  {
   "cell_type": "markdown",
   "source": [
    "## Section 2.2 Vector Operations\n",
    "* Multiplication and Division of a Vector by a Scalar - when a vector is multiplied or divided by a positive scalar its magnitude increases or decreases by that amount, if it is multiplied or divided by a negative scalar it will also change directions.\n",
    "* Vector Addition - $\\vec R = \\vec A + \\vec B$ , $\\vec R$ is the resultant vector, $\\vec A$ and $\\vec B$ are the component vectors\n",
    "* Vector Subtraction - $\\vec R = \\vec A - \\vec B =  \\vec A + (-\\vec B)$"
   ],
   "metadata": {
    "collapsed": false
   }
  },
  {
   "cell_type": "markdown",
   "source": [
    "## Section 2.3 Vector Addition of Forces\n",
    "* Resultant Force - addition of two component forces, $\\vec F_R = \\vec F_1 + \\vec F_2$\n",
    "* Finding the Components of a Force - $\\vec F = \\vec F_u + \\vec F_v$ u and v are axes\n",
    "* Addition of Multiple Forces - $\\vec F_R = \\vec F_1 + \\vec F_2 + \\vec F_3 = (\\vec F_1 + \\vec F_2) + \\vec F_3$\n",
    "\n"
   ],
   "metadata": {
    "collapsed": false
   }
  },
  {
   "cell_type": "markdown",
   "source": [
    "Problem 20 - Determine the design angle $\\theta (0^\\circ \\leq \\phi \\leq 90^\\circ)$\n",
    "between struts $AB$ and $AC$ so that the 400-lb horizontal\n",
    "force has a component of 600 lb which acts up to the left, in\n",
    "the same direction as from $B$ towards $A$. Take $\\theta = 30^\\circ$\n",
    "<img src=\"problem_2_20.png\"/>"
   ],
   "metadata": {
    "collapsed": false
   }
  },
  {
   "cell_type": "code",
   "execution_count": 93,
   "outputs": [
    {
     "name": "stdout",
     "output_type": "stream",
     "text": [
      " φ =  18.2°\n"
     ]
    }
   ],
   "source": [
    "import numpy as np\n",
    "theta = np.radians(30)\n",
    "force = 600\n",
    "force_x = 400\n",
    "phi = -theta + np.arccos(force_x/force)\n",
    "print(f' \\u03C6 =  {np.degrees(phi):.1f}\\u00B0')"
   ],
   "metadata": {
    "collapsed": false,
    "ExecuteTime": {
     "end_time": "2023-05-23T05:07:40.358828Z",
     "start_time": "2023-05-23T05:07:40.337885600Z"
    }
   }
  },
  {
   "cell_type": "markdown",
   "source": [
    "## Section 2.4 Addition of a System of Coplanar Forces\n",
    "* Rectangular Components of a force - $\\vec F = \\vec F_x + \\vec F_y$, $F_x =  F cos(\\theta) $, $ F_y =  F sin(\\theta)$\n",
    "* Cartesian Vector Notation - $\\vec F = F_x \\vec i + F_y \\vec j$"
   ],
   "metadata": {
    "collapsed": false
   }
  },
  {
   "cell_type": "markdown",
   "source": [
    "Problem 41\n",
    "Determine the magnitude of the resultant force\n",
    "and its direction, measured counterclockwise from the\n",
    "positive x axis.\n",
    "<img src=\"problem_2_41.png\"/>"
   ],
   "metadata": {
    "collapsed": false
   }
  },
  {
   "cell_type": "code",
   "execution_count": 94,
   "outputs": [
    {
     "name": "stdout",
     "output_type": "stream",
     "text": [
      "F_R = 5465.0î + 11262.9ĵ\n",
      "|F_R| = 12518.8 N\n",
      "θ = 64.1°\n"
     ]
    }
   ],
   "source": [
    "import numpy as np\n",
    "force_1_x = 4 * 1000\n",
    "force_2_x = 5 * 1000 * np.cos(np.radians(45))\n",
    "force_3_x = -8 * 1000 * np.sin(np.radians(15))\n",
    "force_x = force_1_x + force_2_x + force_3_x\n",
    "force_1_y = 0\n",
    "force_2_y = 5 * 1000 * np.sin(np.radians(45))\n",
    "force_3_y = 8 * 1000 * np.cos(np.radians(15))\n",
    "force_y = force_1_y + force_2_y + force_3_y\n",
    "print(f'F_R = {force_x:.1f}i\\u0302 + {force_y:.1f}j\\u0302')\n",
    "print(f'|F_R| = {np.sqrt(force_x**2+force_y**2):.1f} N')\n",
    "print(f'\\u03B8 = {np.degrees(np.arctan(force_y/force_x)):.1f}\\u00B0')"
   ],
   "metadata": {
    "collapsed": false,
    "ExecuteTime": {
     "end_time": "2023-05-23T05:07:40.410543100Z",
     "start_time": "2023-05-23T05:07:40.348855200Z"
    }
   }
  },
  {
   "cell_type": "markdown",
   "source": [
    "## Section 2.5 Cartesian Vectors\n",
    "* Right-Handed Coordinate System - thumb points in positive z direction, fingers curled about z axis and directed from the positive x-axis to the y-axis\n",
    "* Cartesian Vector Form -$\\vec A = A_x \\vec i + A_y \\vec j + A_z \\vec k$\n",
    "* Magnitude of Cartesian Vector - Magnitude of $\\vec A$ = A = $\\sqrt{A_x^2 + A_y^2 + A_z^2} $\n",
    "* Coordinate Direction Angles - $\\alpha, \\beta, \\gamma$; $cos\\alpha = {A_x \\over A}$, $cos\\beta = {A_y \\over A}$, $cos\\gamma = {A_z \\over A}$\n",
    "* $\\vec u_A = cos \\alpha \\vec i + cos \\beta \\vec j + cos \\gamma \\vec k$\n",
    "* $ cos^2 \\alpha \\vec i + cos^2 \\beta \\vec j + cos^2 \\gamma \\vec k = 1$\n",
    "* Transverse and Azmuth Angles - $\\theta$ and $\\phi$ respectively, $A_x = A sin \\phi cos \\theta$, $A_y = A sin \\phi sin \\theta$ $A_z = A cos \\phi$\n",
    "* $\\vec A = A sin \\phi cos\\theta \\vec i + A sin \\phi sin \\theta \\vec j + A cos \\phi \\vec k$"
   ],
   "metadata": {
    "collapsed": false
   }
  },
  {
   "cell_type": "markdown",
   "source": [
    "## Section 2.6 Addition of Cartesian Vectors\n",
    "* $\\vec R = \\vec A + \\vec B = (A_x + B_x) \\vec i + (A_y + B_y) \\vec j + (A_z + B_z) \\vec k$\n",
    "* $\\vec F_R = \\sum \\vec F = \\sum F_x \\vec i + \\sum F_y \\vec j + \\sum F_z \\vec k$"
   ],
   "metadata": {
    "collapsed": false
   }
  },
  {
   "cell_type": "markdown",
   "source": [
    "Problem 78\n",
    "The two forces $\\vec F_1$ and $\\vec F_2$ acting at $A$ have a resultant\n",
    "force of $\\vec F_R = {-100 \\vec k}$ lb. Determine the magnitude and\n",
    "coordinate direction angles of $\\vec F_2$.\n",
    "<img src=\"problem_2_78.png\"/>"
   ],
   "metadata": {
    "collapsed": false
   }
  },
  {
   "cell_type": "code",
   "execution_count": 95,
   "outputs": [
    {
     "name": "stdout",
     "output_type": "stream",
     "text": [
      "[ 33.40022395 -19.28362829 -54.03733341]\n",
      " magnitude of F_2 = 66.38875418752987\n",
      " angle alpha = 59.794651176696796°\n",
      " angle beta = 106.88581390133362°\n",
      " angle gamma = 144.48397962005987°\n"
     ]
    }
   ],
   "source": [
    "\n",
    "force_1_x = 60 * np.cos(np.radians(50)) * -np.cos(np.radians(30))\n",
    "force_1_y = 60 * np.cos(np.radians(50)) * np.sin(np.radians(30))\n",
    "force_1_z = 60 * np.sin(np.radians(-50))\n",
    "force_1 = np.array((force_1_x,force_1_y,force_1_z))\n",
    "# force_R = force_1 + force_2\n",
    "force_R = np.array((0,0,-100))\n",
    "force_2 = force_R - force_1\n",
    "print(force_2)\n",
    "magnitude_force_2 = np.sqrt((force_2[0]**2 + force_2[1]**2 + force_2[2]**2))\n",
    "print(f' magnitude of F_2 = {magnitude_force_2}')\n",
    "angle_alpha = np.degrees(np.arccos((force_2[0]/magnitude_force_2)))\n",
    "print(f' angle alpha = {angle_alpha}\\u00B0')\n",
    "angle_beta = np.degrees((np.arccos(force_2[1]/magnitude_force_2)))\n",
    "print(f' angle beta = {angle_beta}\\u00B0')\n",
    "angle_gamma = np.degrees((np.arccos(force_2[2]/magnitude_force_2)))\n",
    "print(f' angle gamma = {angle_gamma}\\u00B0')\n"
   ],
   "metadata": {
    "collapsed": false,
    "ExecuteTime": {
     "end_time": "2023-05-23T05:07:40.411512300Z",
     "start_time": "2023-05-23T05:07:40.364812900Z"
    }
   }
  },
  {
   "cell_type": "markdown",
   "source": [
    "## Section 2.7 Position Vectors\n",
    "* Position Vector - A fixed vector which locates a point in space relative to another point, denoted $\\vec{r}$, $\\vec r = x \\hat{\\imath} + y \\hat{\\jmath} + z \\hat {k}$"
   ],
   "metadata": {
    "collapsed": false
   }
  },
  {
   "cell_type": "markdown",
   "source": [
    "## Section 2.8 Vector Directed Along a Line\n",
    "* Unit Vector $(\\vec u)$ - $\\vec F = F \\vec u = F \\frac{\\vec r}{r}  = F$$  (x_B - x_A) \\vec i + (y_B - y_A) \\vec j + (z_B - z_A) \\vec k \\over \\sqrt{(x_B-x_A)^2 + (y_B - y_A)^2 + (z_B - z_A)^2}$\n",
    "* $\\vec F$ has units of force, $\\vec r$ has units of length\n",
    "* A force $\\vec F$ acting in the direction of a position vector $\\vec r$ can be represented in Cartesian form if the unit vector $\\vec u$ if the position vector is determined, and it is multiplied by the magnitude of the force , $\\vec F = F \\vec u = F {\\vec r \\over r}$"
   ],
   "metadata": {
    "collapsed": false
   }
  },
  {
   "cell_type": "markdown",
   "source": [
    "Problem 95\n",
    "The plate is suspended using the three cables which\n",
    "exert the forces shown. Express each force as a Cartesian\n",
    "vector.\n",
    "<img src=\"problem_2_95.png\"/>"
   ],
   "metadata": {
    "collapsed": false
   }
  },
  {
   "cell_type": "code",
   "execution_count": 96,
   "outputs": [
    {
     "name": "stdout",
     "output_type": "stream",
     "text": [
      "F_BA = (-109.16î + 130.99ĵ + 305.65k̂) lb\n",
      "F_CA = (102.54î + 102.54ĵ + 478.51k̂) lb\n",
      "F_DA = (-62.47î + -187.41ĵ + 437.29k̂) lb\n"
     ]
    }
   ],
   "source": [
    "force_BA = np.round(350 * np.array((-5,6,14))/np.sqrt((-5)**2 + 6**2 + 14**2),2)\n",
    "force_CA = np.round(500 * np.array((3,3,14))/np.sqrt(3**2 + 3**2 + 14**2),2)\n",
    "force_DA = np.round(400 * np.array((-2,-6,14))/np.sqrt((-2)**2 + -6**2 + 14**2),2)\n",
    "print(f'F_BA = ({force_BA[0]}i\\u0302 + {force_BA[1]}j\\u0302 + {force_BA[2]}k\\u0302) lb')\n",
    "print(f'F_CA = ({force_CA[0]}i\\u0302 + {force_CA[1]}j\\u0302 + {force_CA[2]}k\\u0302) lb')\n",
    "print(f'F_DA = ({force_DA[0]}i\\u0302 + {force_DA[1]}j\\u0302 + {force_DA[2]}k\\u0302) lb')"
   ],
   "metadata": {
    "collapsed": false,
    "ExecuteTime": {
     "end_time": "2023-05-23T05:07:40.411512300Z",
     "start_time": "2023-05-23T05:07:40.379535800Z"
    }
   }
  },
  {
   "cell_type": "markdown",
   "source": [
    "## Section 2.9 Dot Product\n",
    "* Dot Product -  $ \\vec A \\cdot \\vec B = A B cos{\\theta}$\n",
    "* Laws of Operation\n",
    "    * Commutative law - $ \\vec A \\cdot \\vec B =  \\vec B \\cdot \\vec A$\n",
    "    * Multiplication by Scalar - $ a ( \\vec A \\cdot \\vec B) =  (a\\vec A) \\cdot \\vec B =  \\vec A \\cdot (a\\vec B) $\n",
    "    * Distributive Law - $ \\vec A \\cdot (\\vec B + \\vec C) =  \\vec A \\cdot \\vec B +  \\vec A \\cdot \\vec C$\n",
    "* Cartesian Vectors - $ \\vec A \\cdot \\vec B = A_x B_x + A_y B_y + A_z + B_z$\n",
    "* Applications of Dot Product\n",
    "    * Used to determine the angle formed between two vectors or intersecting lines\n",
    "        * $\\theta = cos^{-1}$ $(\\vec A \\cdot \\vec B)\\over(AB)$\n",
    "    * The components of a vector parallel and perpendicular to a line, component vector $\\vec A$ parallel or collinear with the line aa is defined by $A_a$, $A_a = A cos \\theta$, referred to as projection of $\\vec A$ onto the line, a right angle is formed in the construction, if the direction of the line is denoted by $\\vec u_a$, then $A_a = A cos \\theta = \\vec A \\cdot \\vec u_a$, $\\vec A_a = A_a \\vec u_a$\n"
   ],
   "metadata": {
    "collapsed": false
   }
  },
  {
   "cell_type": "markdown",
   "source": [
    "Problem 114\n",
    "Determine the angle u between the two cables.\n",
    "<img src=\"problem_2_114.png\"/>"
   ],
   "metadata": {
    "collapsed": false
   }
  },
  {
   "cell_type": "code",
   "execution_count": 97,
   "outputs": [
    {
     "name": "stdout",
     "output_type": "stream",
     "text": [
      "θ = 36.4°\n"
     ]
    }
   ],
   "source": [
    "position_vector_A = np.array((2,-3,3))\n",
    "position_vector_B = np.array((0,3,0))\n",
    "position_vector_C = np.array((-2,3,4))\n",
    "difference_AB = position_vector_B - position_vector_A\n",
    "unit_vector_AB = difference_AB / (np.sqrt(difference_AB[0]**2+ difference_AB[1]**2 + difference_AB[2]**2))\n",
    "difference_AC = position_vector_C - position_vector_A\n",
    "unit_vector_AC = difference_AC / (np.sqrt(difference_AC[0]**2+ difference_AC[1]**2 + difference_AC[2]**2))\n",
    "dot_product = np.dot(unit_vector_AB, unit_vector_AC)\n",
    "theta = round(np.degrees(np.arccos(dot_product)),1)\n",
    "print(F'\\u03B8 = {theta}\\u00B0')"
   ],
   "metadata": {
    "collapsed": false,
    "ExecuteTime": {
     "end_time": "2023-05-23T05:07:40.412509800Z",
     "start_time": "2023-05-23T05:07:40.406526500Z"
    }
   }
  }
 ],
 "metadata": {
  "kernelspec": {
   "display_name": "Python 3",
   "language": "python",
   "name": "python3"
  },
  "language_info": {
   "codemirror_mode": {
    "name": "ipython",
    "version": 2
   },
   "file_extension": ".py",
   "mimetype": "text/x-python",
   "name": "python",
   "nbconvert_exporter": "python",
   "pygments_lexer": "ipython2",
   "version": "2.7.6"
  }
 },
 "nbformat": 4,
 "nbformat_minor": 0
}
