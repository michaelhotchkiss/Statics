{
 "cells": [
  {
   "cell_type": "markdown",
   "source": [
    "# Chapter 2 Force Vectors"
   ],
   "metadata": {
    "collapsed": false,
    "pycharm": {
     "name": "#%% md\n"
    }
   }
  },
  {
   "cell_type": "markdown",
   "source": [
    "## Section 2.1 Scalars and Vectors\n",
    "* Scalar - any positive or negative physical quantity that can be completely specifeid by its magnitude.\n",
    "* Vector - any physical quantity that requires both a magnitude and direction.\n"
   ],
   "metadata": {
    "collapsed": false,
    "pycharm": {
     "name": "#%% md\n"
    }
   }
  },
  {
   "cell_type": "markdown",
   "source": [
    "## Section 2.2 Vector Operations\n",
    "* Multiplication and Division of a Vector by a Scalar - when a vector is multiplied or divided by a positive scalar its magnitude increases or decreases by that amount, if it is multiplied or divided by a negative scalar it will also change directions.\n",
    "* Vector Addition - $\\vec R = \\vec A + \\vec B$ , $\\vec R$ is the resultant vector, $\\vec A$ and $\\vec B$ are the component vectors\n",
    "* Vector Subtraction - $\\vec R = \\vec A - \\vec B =  \\vec A + (-\\vec B)$"
   ],
   "metadata": {
    "collapsed": false,
    "pycharm": {
     "name": "#%% md\n"
    }
   }
  },
  {
   "cell_type": "markdown",
   "source": [
    "## Section 2.3 Vector Addition of Forces\n",
    "* Resultant Force - addition of two component forces, $\\vec F_R = \\vec F_1 + \\vec F_2$\n",
    "* Finding the Components of a Force - $\\vec F = \\vec F_u + \\vec F_v$ u and v are axes\n",
    "* Addition of Multiple Forces - $\\vec F_R = \\vec F_1 + \\vec F_2 + \\vec F_3 = (\\vec F_1 + \\vec F_2) + \\vec F_3$\n",
    "\n"
   ],
   "metadata": {
    "collapsed": false,
    "pycharm": {
     "name": "#%% md\n"
    }
   }
  },
  {
   "cell_type": "markdown",
   "source": [
    "Problem 20 - Determine the design angle f (0 … f … 90)\n",
    "between struts AB and AC so that the 400-lb horizontal\n",
    "force has a component of 600 lb which acts up to the left, in\n",
    "the same direction as from B towards A. Take u = 30."
   ],
   "metadata": {
    "collapsed": false,
    "pycharm": {
     "name": "#%% md\n"
    }
   }
  },
  {
   "cell_type": "code",
   "execution_count": 35,
   "outputs": [
    {
     "data": {
      "text/plain": "<Figure size 640x480 with 1 Axes>",
      "image/png": "[encoded data removed]"
     },
     "metadata": {},
     "output_type": "display_data"
    }
   ],
   "source": [
    "import numpy as np\n",
    "from matplotlib.patches import FancyArrow\n",
    "import matplotlib.pyplot as plt\n",
    "\n",
    "plt.rcParams[\"figure.autolayout\"] = True\n",
    "\n",
    "def plot_vector(tail, components, vector_color='black', vector_width=0):\n",
    "    \"\"\"\n",
    "    :param tail: array of x, y coordinates of vector tail\n",
    "    :param components: array of x, y coordinates of vector components\n",
    "    :param vector_color: string of vector color\n",
    "    :param vector_width: float of vector width\n",
    "    :return: (nothing)\n",
    "    \"\"\"\n",
    "    if vector_width == 0:\n",
    "        actual_vector_width = 0.02*np.max(components)\n",
    "    else:\n",
    "        actual_vector_width = vector_width\n",
    "    vector_arrow = FancyArrow(tail[0], tail[1], components[0], components[1],\n",
    "                              width=actual_vector_width, length_includes_head=True, color=vector_color)\n",
    "    axes.add_patch(vector_arrow)\n",
    "    return\n",
    "\n",
    "\n",
    "def label_vectors(tail, components, label, space_factor=0.15, text_color='black'):\n",
    "    text_position = tail + (1. + space_factor) * components\n",
    "    axes.text(text_position[0], text_position[1], label, ha='center', va='center', color=text_color, fontsize=14)\n",
    "    return\n",
    "\n",
    "\n",
    "def mark_origin(position=[0, 0], marker_color='black', marker_size=8):\n",
    "    plt.plot(position[0], position[1], 'o', markersize=marker_size, color=marker_color)\n",
    "    return\n",
    "\n",
    "# Problem givens\n",
    "theta = np.radians(30)\n",
    "force = 600\n",
    "force_x = 400\n",
    "\n",
    "# Solution for unknown hinge angle\n",
    "phi = -theta + np.arccos(force_x/force)\n",
    "\n",
    "# Create plot area\n",
    "figures, axes = plt.subplots()\n",
    "\n",
    "# Both vectors tail at origin\n",
    "vector_tail = np.array([0, 0])\n",
    "# Angle of up-left force with horizontal\n",
    "vector_horizontal_angle = np.pi - (phi + theta)\n",
    "# Define both force vectors by component\n",
    "vectors = np.array([\n",
    "    [-force_x, 0], # horizontal force\n",
    "    force*np.array([np.cos(vector_horizontal_angle), np.sin(vector_horizontal_angle)])\n",
    "])\n",
    "vector_labels = [r'$F_x \\hat{\\imath}$', r'$\\vec{F}$']\n",
    "\n",
    "for vector_label, vector in zip(vector_labels, vectors):\n",
    "    plot_vector(vector_tail, vector, vector_width=0.01*1000)\n",
    "    label_vectors(vector_tail, vector, vector_label)\n",
    "\n",
    "mark_origin()\n",
    "\n",
    "# Set axis limits\n",
    "maximum_component = np.max(vectors)\n",
    "# minimum_component = np.min(vectors)\n",
    "# axes_limits = 10**np.ceil(np.log10(maximum_component))\n",
    "axes_limits = 1.3 * maximum_component\n",
    "axes.set_xlim([-axes_limits, axes_limits])\n",
    "axes.set_ylim([-axes_limits, axes_limits])\n",
    "\n",
    "# Turn off axes and axis ticks\n",
    "axes.set_xticks([])\n",
    "axes.set_yticks([])\n",
    "axes.axis('off')\n",
    "\n",
    "# Make the axes of equal proportion (1 x = 1 y)\n",
    "axes.set_aspect('equal')\n",
    "\n",
    "# Show the plot\n",
    "plt.show()\n"
   ],
   "metadata": {
    "collapsed": false,
    "pycharm": {
     "name": "#%%\n"
    }
   }
  },
  {
   "cell_type": "code",
   "execution_count": 15,
   "outputs": [
    {
     "name": "stdout",
     "output_type": "stream",
     "text": [
      " φ =  18.2°\n"
     ]
    }
   ],
   "source": [
    "import numpy as np\n",
    "theta = np.radians(30)\n",
    "force = 600\n",
    "force_x = 400\n",
    "phi = -theta + np.arccos(force_x/force)\n",
    "print(f' \\u03C6 =  {np.degrees(phi):.1f}\\u00B0')"
   ],
   "metadata": {
    "collapsed": false,
    "ExecuteTime": {
     "end_time": "2023-05-22T17:04:39.157733Z",
     "start_time": "2023-05-22T17:04:39.082144600Z"
    },
    "pycharm": {
     "name": "#%%\n"
    }
   }
  },
  {
   "cell_type": "markdown",
   "source": [
    "## Section 2.4 Addition of a System of Coplanar Forces\n",
    "* Rectangular Components of a force - $\\vec F = \\vec F_x + \\vec F_y$, $F_x =  F cos(\\theta) $, $ F_y =  F sin(\\theta)$\n",
    "* Cartesian Vector Notation - $\\vec F = F_x \\vec i + F_y \\vec j$"
   ],
   "metadata": {
    "collapsed": false,
    "pycharm": {
     "name": "#%% md\n"
    }
   }
  },
  {
   "cell_type": "markdown",
   "source": [
    "Problem 41\n",
    "Determine the magnitude of the resultant force\n",
    "and its direction, measured counterclockwise from the\n",
    "positive x axis."
   ],
   "metadata": {
    "collapsed": false,
    "pycharm": {
     "name": "#%% md\n"
    }
   }
  },
  {
   "cell_type": "code",
   "execution_count": 15,
   "outputs": [],
   "source": [],
   "metadata": {
    "collapsed": false,
    "ExecuteTime": {
     "end_time": "2023-05-22T17:04:39.227844100Z",
     "start_time": "2023-05-22T17:04:39.096186600Z"
    },
    "pycharm": {
     "name": "#%%\n"
    }
   }
  },
  {
   "cell_type": "markdown",
   "source": [
    "## Section 2.5 Cartesian Vectors\n",
    "* Right-Handed Coordinate System - thumb points in positive z direction, fingers curled about z axis and directed from the positive x-axis to the y-axis\n",
    "* Cartesian Vector Form -$\\vec A = A_x \\vec i + A_y \\vec j + A_z \\vec k$\n",
    "* Magnitude of Cartesian Vector - Magnitude of $\\vec A$ = A = $\\sqrt{A_x^2 + A_y^2 + A_z^2} $\n",
    "* Coordinate Direction Angles - $\\alpha, \\beta, \\gamma$; $cos\\alpha = {A_x \\over A}$, $cos\\beta = {A_y \\over A}$, $cos\\gamma = {A_z \\over A}$\n",
    "* $\\vec u_A = cos \\alpha \\vec i + cos \\beta \\vec j + cos \\gamma \\vec k$\n",
    "* $ cos^2 \\alpha \\vec i + cos^2 \\beta \\vec j + cos^2 \\gamma \\vec k = 1$\n",
    "* Transverse and Azmuth Angles - $\\theta$ and $\\phi$ respectively, $A_x = A sin \\phi cos \\theta$, $A_y = A sin \\phi sin \\theta$ $A_z = A cos \\phi$\n",
    "* $\\vec A = A sin \\phi cos\\theta \\vec i + A sin \\phi sin \\theta \\vec j + A cos \\phi \\vec k$"
   ],
   "metadata": {
    "collapsed": false,
    "pycharm": {
     "name": "#%% md\n"
    }
   }
  },
  {
   "cell_type": "markdown",
   "source": [
    "## Section 2.6 Addition of Cartesian Vectors\n",
    "* $\\vec R = \\vec A + \\vec B = (A_x + B_x) \\vec i + (A_y + B_y) \\vec j + (A_z + B_z) \\vec k$\n",
    "* $\\vec F_R = \\sum \\vec F = \\sum F_x \\vec i + \\sum F_y \\vec j + \\sum F_z \\vec k$"
   ],
   "metadata": {
    "collapsed": false,
    "pycharm": {
     "name": "#%% md\n"
    }
   }
  },
  {
   "cell_type": "markdown",
   "source": [
    "Problem 78\n",
    "The two forces F1 and F2 acting at A have a resultant\n",
    "force of FR = 5-100k6 lb. Determine the magnitude and\n",
    "coordinate direction angles of F2."
   ],
   "metadata": {
    "collapsed": false,
    "pycharm": {
     "name": "#%% md\n"
    }
   }
  },
  {
   "cell_type": "markdown",
   "source": [
    "## Section 2.7 Position Vectors\n",
    "* Position Vector - A fixed vector which locates a point in space relative to another point, denoted $\\vec{r}$, $\\vec r = x \\hat{\\imath} + y \\hat{\\jmath} + z \\hat {k}$"
   ],
   "metadata": {
    "collapsed": false,
    "pycharm": {
     "name": "#%% md\n"
    }
   }
  },
  {
   "cell_type": "markdown",
   "source": [
    "## Section 2.8 Vector Directed Along a Line\n",
    "* Unit Vector $(\\vec u)$ - $\\vec F = F \\vec u = F \\frac{\\vec r}{r}  = F$$  (x_B - x_A) \\vec i + (y_B - y_A) \\vec j + (z_B - z_A) \\vec k \\over \\sqrt{(x_B-x_A)^2 + (y_B - y_A)^2 + (z_B - z_A)^2}$\n",
    "* $\\vec F$ has units of force, $\\vec r$ has units of length\n",
    "* A force $\\vec F$ acting in the direction of a position vector $\\vec r$ can be represented in Cartesian form if the unit vector $\\vec u$ if the position vector is determined, and it is multiplied by the magnitude of the force , $\\vec F = F \\vec u = F {\\vec r \\over r}$"
   ],
   "metadata": {
    "collapsed": false,
    "pycharm": {
     "name": "#%% md\n"
    }
   }
  },
  {
   "cell_type": "markdown",
   "source": [
    "Problem 95\n",
    "The plate is suspended using the three cables which\n",
    "exert the forces shown. Express each force as a Cartesian\n",
    "vector."
   ],
   "metadata": {
    "collapsed": false,
    "pycharm": {
     "name": "#%% md\n"
    }
   }
  },
  {
   "cell_type": "markdown",
   "source": [
    "## Section 2.9 Dot Product\n",
    "* Dot Product -  $ \\vec A \\cdot \\vec B = A B cos{\\theta}$\n",
    "* Laws of Operation\n",
    "    * Commutative law - $ \\vec A \\cdot \\vec B =  \\vec B \\cdot \\vec A$\n",
    "    * Multiplication by Scalar - $ a ( \\vec A \\cdot \\vec B) =  (a\\vec A) \\cdot \\vec B =  \\vec A \\cdot (a\\vec B) $\n",
    "    * Distributive Law - $ \\vec A \\cdot (\\vec B + \\vec C) =  \\vec A \\cdot \\vec B +  \\vec A \\cdot \\vec C$\n",
    "* Cartesian Vectors - $ \\vec A \\cdot \\vec B = A_x B_x + A_y B_y + A_z + B_z$\n",
    "* Applications of Dot Product\n",
    "    * Used to determine the angle formed between two vectors or intersecting lines\n",
    "        * $\\theta = cos^{-1}$ $(\\vec A \\cdot \\vec B)\\over(AB)$\n",
    "    * The components of a vector parallel and perpendicular to a line, component vector $\\vec A$ parallel or collinear with the line aa is defined by $A_a$, $A_a = A cos \\theta$, referred to as projection of $\\vec$ onto the line, a right angle is formed in the construction, if the direction of the line is denoted by $\\vec u_a$, then $A_a = A cos \\theta = \\vec A \\cdot \\vec u_a$, $\\vec A_a = A_a \\vec u_a$\n"
   ],
   "metadata": {
    "collapsed": false,
    "pycharm": {
     "name": "#%% md\n"
    }
   }
  },
  {
   "cell_type": "markdown",
   "source": [
    "Problem 114\n",
    "Determine the angle u between the two cables.\n",
    "<img src=\"problem_2_114.png\"/>"
   ],
   "metadata": {
    "collapsed": false,
    "pycharm": {
     "name": "#%% md\n"
    }
   }
  }
 ],
 "metadata": {
  "kernelspec": {
   "display_name": "Python 3",
   "language": "python",
   "name": "python3"
  },
  "language_info": {
   "codemirror_mode": {
    "name": "ipython",
    "version": 2
   },
   "file_extension": ".py",
   "mimetype": "text/x-python",
   "name": "python",
   "nbconvert_exporter": "python",
   "pygments_lexer": "ipython2",
   "version": "2.7.6"
  }
 },
 "nbformat": 4,
 "nbformat_minor": 0
}