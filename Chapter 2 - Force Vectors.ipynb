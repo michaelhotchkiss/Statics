{
 "cells": [
  {
   "cell_type": "markdown",
   "source": [
    "# Chapter 2 Force Vectors"
   ],
   "metadata": {
    "collapsed": false
   }
  },
  {
   "cell_type": "markdown",
   "source": [
    "## Section 2.1 Scalars and Vectors\n",
    "* Scalar - any positive or negative physical quantity that can be completely specifeid by its magnitude.\n",
    "* Vector - any physical quantity that requires both a magnitude and direction."
   ],
   "metadata": {
    "collapsed": false
   }
  },
  {
   "cell_type": "markdown",
   "source": [
    "## Section 2.2 Vector Operations\n",
    "* Multiplication and Division of a Vector by a Scalar - when a vector is multiplied or divided by a positive scalar its magnitude increases or decreases by that amount, if it is multiplied or divided by a negative scalar it will also change directions.\n",
    "* Vector Addition - $\\vec R = \\vec A + \\vec B$ , $\\vec R$ is the resultant vector, $\\vec A$ and $\\vec B$ are the component vectors\n",
    "* Vector Subtraction - $\\vec R = \\vec A - \\vec B =  \\vec A + (-\\vec B)$"
   ],
   "metadata": {
    "collapsed": false
   }
  },
  {
   "cell_type": "markdown",
   "source": [
    "## Section 2.3 Vector Addition of Forces\n",
    "* Resultant Force - addition of two component forces, $\\vec F_R = \\vec F_1 + \\vec F_2$\n",
    "* Finding the Components of a Force - $\\vec F = \\vec F_u + \\vec F_v$ u and v are axes\n",
    "* Addition of Multiple Forces - $\\vec F_R = \\vec F_1 + \\vec F_2 + \\vec F_3 = (\\vec F_1 + \\vec F_2) + \\vec F_3$"
   ],
   "metadata": {
    "collapsed": false
   }
  },
  {
   "cell_type": "markdown",
   "source": [
    "## Section 2.4 Addition of a System of Coplanar Forces\n",
    "* Rectangular Components of a force - $\\vec F = \\vec F_x + \\vec F_y$, $F_x =  F cos(\\theta) $, $ F_y =  F sin(\\theta)$\n",
    "* Cartesian Vector Notation - $\\vec F = F_x \\vec i + F_y \\vec j$"
   ],
   "metadata": {
    "collapsed": false
   }
  },
  {
   "cell_type": "markdown",
   "source": [
    "## Section 2.5 Cartesian Vectors\n",
    "* Right-Handed Coordinate System - thumb points in positive z direction, fingers curled about z axis and directed from the positive x-axis to the y-axis\n",
    "* Cartesian Vector Form -$\\vec A = A_x \\vec i + A_y \\vec j + A_z \\vec k$\n",
    "* Magnitude of Cartesian Vector - Magnitude of $\\vec A$ = A = $\\sqrt{A_x^2 + A_y^2 + A_z^2} $\n",
    "* Coordinate Direction Angles - $\\alpha, \\beta, \\gamma$; $cos\\alpha = {A_x \\over A}$, $cos\\beta = {A_y \\over A}$, $cos\\gamma = {A_z \\over A}$\n",
    "* $\\vec u_A = cos \\alpha \\vec i + cos \\beta \\vec j + cos \\gamma \\vec k$\n",
    "* $ cos^2 \\alpha \\vec i + cos^2 \\beta \\vec j + cos^2 \\gamma \\vec k = 1$\n",
    "* Transverse and Azmuth Angles - $\\theta$ and $\\phi$ respectively, $A_x = A sin \\phi cos \\theta$, $A_y = A sin \\phi sin \\theta$ $A_z = A cos \\phi$\n",
    "* $\\vec A = A sin \\phi cos\\theta \\vec i + A sin \\phi sin \\theta \\vec j + A cos \\phi \\vec k$"
   ],
   "metadata": {
    "collapsed": false
   }
  },
  {
   "cell_type": "markdown",
   "source": [
    "## Section 2.6 Addition of Cartesian Vectors\n",
    "* $\\vec R = \\vec A + \\vec B = (A_x + B_x) \\vec i + (A_y + B_y) \\vec j + (A_z + B_z) \\vec k$\n",
    "* $\\vec F_R = \\sum \\vec F = \\sum F_x \\vec i + \\sum F_y \\vec j + \\sum F_z \\vec k$"
   ],
   "metadata": {
    "collapsed": false
   }
  },
  {
   "cell_type": "markdown",
   "source": [
    "## Section 2.7 Position Vectors\n",
    "* Position Vector - A fixed vector which locates a point in space relative to another point, denoted $\\vec{r}$, $\\vec r = x \\hat{\\imath} + y \\hat{\\jmath} + z \\hat {k}$"
   ],
   "metadata": {
    "collapsed": false
   }
  },
  {
   "cell_type": "markdown",
   "source": [
    "## Section 2.8 Vector Directed Along a Line\n",
    "* Unit Vector $(\\vec u)$ - $\\vec F = F \\vec u = F \\frac{\\vec r}{r}  = F$$  (x_B - x_A) \\vec i + (y_B - y_A) \\vec j + (z_B - z_A) \\vec k \\over \\sqrt{(x_B-x_A)^2 + (y_B - y_A)^2 + (z_B - z_A)^2}$\n",
    "* $\\vec F$ has units of force, $\\vec r$ has units of length\n",
    "* A force $\\vec F$ acting in the direction of a position vector $\\vec r$ can be represented in Cartesian form if the unit vector $\\vec u$ if the position vector is determined, and it is multiplied by the magnitude of the force , $\\vec F = F \\vec u = F {\\vec r \\over r}$"
   ],
   "metadata": {
    "collapsed": false
   }
  },
  {
   "cell_type": "markdown",
   "source": [
    "## Section 2.9 Dot Product\n",
    "* Dot Product -  $ \\vec A \\cdot \\vec B = A B cos{\\theta}$\n",
    "* Laws of Operation\n",
    "    * Commutative law - $ \\vec A \\cdot \\vec B =  \\vec B \\cdot \\vec A$\n",
    "    * Multiplication by Scalar - $ a ( \\vec A \\cdot \\vec B) =  (a\\vec A) \\cdot \\vec B =  \\vec A \\cdot (a\\vec B) $\n",
    "    * Distributive Law - $ \\vec A \\cdot (\\vec B + \\vec C) =  \\vec A \\cdot \\vec B +  \\vec A \\cdot \\vec C$\n",
    "* Cartesian Vectors - $ \\vec A \\cdot \\vec B = A_x B_x + A_y B_y + A_z + B_z$\n",
    "* Applications of Dot Product\n",
    "    * Used to determine the angle formed between two vectors or intersecting lines\n",
    "        * $\\theta = cos^{-1}$ $(\\vec A \\cdot \\vec B)\\over(AB)$\n",
    "    * The components of a vector parallel and perpendicular to a line, component vector $\\vec A$ parallel or collinear with the line aa is defined by $A_a$, $A_a = A cos \\theta$, referred to as projection of $\\vec$ onto the line, a right angle is formed in the construction, if the direction of the line is denoted by $\\vec u_a$, then $A_a = A cos \\theta = \\vec A \\cdot \\vec u_a$, $\\vec A_a = A_a \\vec u_a$\n"
   ],
   "metadata": {
    "collapsed": false
   }
  }
 ],
 "metadata": {
  "kernelspec": {
   "display_name": "Python 3",
   "language": "python",
   "name": "python3"
  },
  "language_info": {
   "codemirror_mode": {
    "name": "ipython",
    "version": 2
   },
   "file_extension": ".py",
   "mimetype": "text/x-python",
   "name": "python",
   "nbconvert_exporter": "python",
   "pygments_lexer": "ipython2",
   "version": "2.7.6"
  }
 },
 "nbformat": 4,
 "nbformat_minor": 0
}
