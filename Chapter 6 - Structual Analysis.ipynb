{
 "cells": [
  {
   "cell_type": "markdown",
   "source": [
    "# Chapter 6 Structural Analysis"
   ],
   "metadata": {
    "collapsed": false
   }
  },
  {
   "cell_type": "markdown",
   "source": [
    "## Section 6.1 Simple Trusses\n",
    "* Truss - Structural composed of slender members joined together at their end points, members usually made of wooden struts or metal bars\n",
    "* Planar truss - lie in a single plane, used to support roofs and bridges\n",
    "* Rollers or rockers are used for supporting one end of a bridge or roof truss over a longer distance so there is freedom of expansion or contraction of the members due to temperature change or load\n",
    "* Designing members and connections of a truss - first determine the force in each member when the truss is loaded, make 2 assumptions,\n",
    "    * All loadings are applied at the joints - this is true in most situations, like bridges and trusses, neglect weight of the members since the load is much larger, if weight is included apply it as a vertical force, with half of its magnitude applied at each end of the member\n",
    "    * The members are joined together by smooth pins - joint connections formed by bolting or welding the ends of the members to a common plate, or gusset plate, or by passing a large bolt or pin through each of the members, we can assume these connections act as pins provided the center lines of the joining members are concurrent\n",
    "* As a result of these assumptions each truss member acts a two-force member, and the force acting at each end of the member will be directed along the axis of the member\n",
    "* Tensile Force - a force that elongates the member\n",
    "* Compressive Force - a force that tends to shorten the member\n",
    "* Compression members made thicker than tension members because of buckling or column effect that occurs when a member is in compression\n",
    "* Triangular Truss - 3 members are pin connected at the ends, truss will be rigid\n",
    "* Adding 2 more members to a triangular truss and form a new joint $D$ forms a larger truss\n",
    "* A truss that can be constructed by expanding the basic triangular truss this way, are called simple truss"
   ],
   "metadata": {
    "collapsed": false
   }
  },
  {
   "cell_type": "markdown",
   "source": [
    "## Section 6.2 The Method of Joints\n",
    "* Method of Joints - if the entire truss is in equilibrium then each of its joints are also in equilibrium\n",
    "* Can draw FBD of each joint and use force equilibrium equations to obtain the member forces acting on each joint\n",
    "* Members of plane trust are straight two-force members in a single plane, each joint is subjected to a force system that is coplanar and concurrent, therefore only $\\sum F_x = 0$ and $\\sum F_y = 0$ need to be satisfied for equilibrium.\n",
    "* Applying method of joints - start with a joint having at least one unknown, at most two unknown, this way application of equilibrium equations, $\\sum F_x = 0$ and $\\sum F_y = 0$, yields two equations, which can be solved for two unknowns.\n",
    "* Determining sense of unknown member force, two ways\n",
    "    * Can determine the sense of the force by inspection or assumption in complex cases, after computations if the answer is positive it is the correct sense, if it is negative the sense should be flipped\n",
    "    * Assume the member forces acting on the joint to be tension, the forces pull the pin, if the equilibrium equations yield a positive scalar then the members are in tension and if it is negative then the members are in compression, then use its correct magnitude and sense on the FBD\n",
    "* A force pushing on a joint is caused by compression\n",
    "* A force pulling on a joint is caused by tension in a member\n",
    "* The internal forces in the members are drawn in the FBD of the joints, i.e. the internal forces become external"
   ],
   "metadata": {
    "collapsed": false
   }
  },
  {
   "cell_type": "markdown",
   "source": [
    "## Section 6.3 Zero-Force Members\n",
    "* We can simplify method of joints by finding which members support no loading, these zero-force members increase stability of the truss during construction and to provide added support if the load is changed\n",
    "* These can be found through inspection of the joints, if only two non-collinear members form a truss joint and no external load or support reaction is applied to the joint then the two members are zero-force members\n",
    "* In general if three members form a truss joint and two of the members are collinear the third member is a zero-force member provided no external force or support reaction has a component that acts along this member\n",
    "* Zero-force members do not support the load"
   ],
   "metadata": {
    "collapsed": false
   }
  },
  {
   "cell_type": "markdown",
   "source": [
    "Problems - 11,46, use dictionary for forces, label applied force by point of application, position and vector, position of joints, 54, 95"
   ],
   "metadata": {
    "collapsed": false
   }
  },
  {
   "cell_type": "markdown",
   "source": [
    "## Section 6.4 The Method of Sections\n",
    "* Method of Sections - used when we only need to find the force in only a few members of a truss, based on the principle that if the truss is in equilibrium then any segment of the truss is also in equilibrium, can be used to section the members of a truss, if the section passes through the truss and the FBD of either of the two parts is drawn, we can use the equations of equilibrium to that part to determine the member forces at the cut, only 3 independent equilibrium equations can be applied to an FBD, therefore pick a section that passes through no more than 3 members in which the forces are unknown\n",
    "* The line of action of each member force is along its member axis\n",
    "* Member forces acting on one part of the truss are equal but opposite direction to the other part\n",
    "* Determine sense of unknown member force\n",
    "    * Can be determined by inspection or assumption, if the solution is a negative scalar then the force's direction or sense is opposite to the FBD\n",
    "    * Assume the unknown member forces at the cut section are tensile forces, they are pulling on the member, then if the solution is positive the member is in tension, and negative for members in comperession\n",
    "* Internal forces become external forces when FBD of a segment is drawn"
   ],
   "metadata": {
    "collapsed": false
   }
  }
 ],
 "metadata": {
  "kernelspec": {
   "display_name": "Python 3",
   "language": "python",
   "name": "python3"
  },
  "language_info": {
   "codemirror_mode": {
    "name": "ipython",
    "version": 2
   },
   "file_extension": ".py",
   "mimetype": "text/x-python",
   "name": "python",
   "nbconvert_exporter": "python",
   "pygments_lexer": "ipython2",
   "version": "2.7.6"
  }
 },
 "nbformat": 4,
 "nbformat_minor": 0
}
