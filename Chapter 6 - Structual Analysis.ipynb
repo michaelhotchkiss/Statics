{
 "cells": [
  {
   "cell_type": "markdown",
   "source": [
    "# Chapter 6 Structural Analysis"
   ],
   "metadata": {
    "collapsed": false
   }
  },
  {
   "cell_type": "markdown",
   "source": [
    "## Section 6.1 Simple Trusses\n",
    "* Truss - Structural composed of slender members joined together at their end points, members usually made of wooden struts or metal bars\n",
    "* Planar truss - lie in a single plane, used to support roofs and bridges\n",
    "* Rollers or rockers are used for supporting one end of a bridge or roof truss over a longer distance so there is freedom of expansion or contraction of the members due to temperature change or load\n",
    "* Designing members and connections of a truss - first determine the force in each member when the truss is loaded, make 2 assumptions,\n",
    "    * All loadings are applied at the joints - this is true in most situations, like bridges and trusses, neglect weight of the members since the load is much larger, if weight is included apply it as a vertical force, with half of its magnitude applied at each end of the member\n",
    "    * The members are joined together by smooth pins - joint connections formed by bolting or welding the ends of the members to a common plate, or gusset plate, or by passing a large bolt or pin through each of the members, we can assume these connections act as pins provided the center lines of the joining members are concurrent\n",
    "* As a result of these assumptions each truss member acts a two-force member, and the force acting at each end of the member will be directed along the axis of the member\n",
    "* Tensile Force - a force that elongates the member\n",
    "* Compressive Force - a force that tends to shorten the member\n",
    "* Compression members made thicker than tension members because of buckling or column effect that occurs when a member is in compression\n",
    "* Triangular Truss - 3 members are pin connected at the ends, truss will be rigid\n",
    "* Adding 2 more members to a triangular truss and form a new joint $D$ forms a larger truss\n",
    "* A truss that can be constructed by expanding the basic triangular truss this way, are called simple truss"
   ],
   "metadata": {
    "collapsed": false
   }
  },
  {
   "cell_type": "markdown",
   "source": [
    "## Section 6.2 The Method of Joints\n",
    "* Method of Joints - if the entire truss is in equilibrium then each of its joints are also in equilibrium\n",
    "* Can draw FBD of each joint and use force equilibrium equations to obtain the member forces acting on each joint\n",
    "* Members of plane trust are straight two-force members in a single plane, each joint is subjected to a force system that is coplanar and concurrent, therefore only $\\sum F_x = 0$ and $\\sum F_y = 0$ need to be satisfied for equilibrium.\n",
    "* Applying method of joints - start with a joint having at least one unknown, at most two unknown, this way application of equilibrium equations, $\\sum F_x = 0$ and $\\sum F_y = 0$, yields two equations, which can be solved for two unknowns.\n",
    "* Determining sense of unknown member force, two ways\n",
    "    * Can determine the sense of the force by inspection or assumption in complex cases, after computations if the answer is positive it is the correct sense, if it is negative the sense should be flipped\n",
    "    * Assume the member forces acting on the joint to be tension, the forces pull the pin, if the equilibrium equations yield a positive scalar then the members are in tension and if it is negative then the members are in compression, then use its correct magnitude and sense on the FBD\n",
    "* A force pushing on a joint is caused by compression\n",
    "* A force pulling on a joint is caused by tension in a member\n",
    "* The internal forces in the members are drawn in the FBD of the joints, i.e. the internal forces become external"
   ],
   "metadata": {
    "collapsed": false
   }
  },
  {
   "cell_type": "markdown",
   "source": [
    "## Section 6.3 Zero-Force Members\n",
    "* We can simplify method of joints by finding which members support no loading, these zero-force members increase stability of the truss during construction and to provide added support if the load is changed\n",
    "* These can be found through inspection of the joints, if only two non-collinear members form a truss joint and no external load or support reaction is applied to the joint then the two members are zero-force members\n",
    "* In general if three members form a truss joint and two of the members are collinear the third member is a zero-force member provided no external force or support reaction has a component that acts along this member\n",
    "* Zero-force members do not support the load"
   ],
   "metadata": {
    "collapsed": false
   }
  },
  {
   "cell_type": "markdown",
   "source": [
    "Problem 11\n",
    "Determine the force in each member of the Pratt\n",
    "truss, and state if the members are in tension or compression.\n",
    "<img src=\"pictures\\problem_6_11.png\" width=\"512\"/>\n"
   ],
   "metadata": {
    "collapsed": false
   }
  },
  {
   "cell_type": "code",
   "execution_count": 13,
   "outputs": [
    {
     "name": "stdout",
     "output_type": "stream",
     "text": [
      "F_AB = 20.0\n",
      "F_BC = -20.0\n",
      "F_CD = 20.0\n",
      "F_CD = 20.0\n",
      "F_BC = -20.0\n",
      "F_AB = 20.0\n",
      "F_AL = -28.2842712474619\n",
      "F_LK = 28.2842712474619\n",
      "F_KJ = 32.99831645537221\n",
      "F_KJ = 32.99831645537221\n",
      "F_LK = 28.2842712474619\n",
      "F_AL = -28.2842712474619\n",
      "F_JD = -46.666666666666664\n",
      "F_KD = -7.453559924999298\n",
      "F_1 = 10\n",
      "F_BL = 0\n",
      "F_BL = 0\n",
      "F_KJ = 32.99831645537221\n",
      "F_1 = 10\n",
      "F_BL = 0\n",
      "F_BL = 0\n"
     ]
    }
   ],
   "source": [
    "import numpy as np\n",
    "#F_BL = F_FL = 0\n",
    "#F_CL = F_EH = 0\n",
    "#Symetrical so forces are the same on the other side of the truss\n",
    "F_1 = 10\n",
    "F_2 = 20\n",
    "F_3 = 10\n",
    "F_A_Y = 20\n",
    "theta = np.radians(45)\n",
    "beam_length = 2\n",
    "alpha = (np.arctan(beam_length*2/beam_length))\n",
    "F_BL = 0\n",
    "F_CL = 0\n",
    "F_EH = 0\n",
    "F_FH = 0\n",
    "F_AL = -F_A_Y/np.sin(theta)\n",
    "F_AB = -F_AL * np.cos(theta)\n",
    "F_BC = -F_AB\n",
    "F_LK = -F_AL\n",
    "F_KC = F_1\n",
    "F_CD = -F_BC\n",
    "#0 = (F_KJ * cos(theta) + F_KD * cos(alpha) - F_LK * cos(theta)\n",
    "#F_KJ = (F_LK * cos(theta) - F_KD * cos(alpha)) / cos(theta)\n",
    "#0 = F_KJ * sin(theta) - F_KD * sin(alpha) - F_LK * sin(theta) - F_KC\n",
    "# ((F_LK * cos(theta) - F_KD * cos(alpha)) / cos(theta)) * sin(theta) - F_KD * sin(alpha) - F_LK * sin(theta) - F_KC\n",
    "# (F_LK * cos(theta)* sin(theta)/ cos(theta)) - F_KD * cos(alpha))* sin(theta) / cos(theta)) - F_KD * sin(alpha) - F_LK * sin(theta) - F_KC\n",
    "#F_KD * cos(alpha))* sin(theta) / cos(theta)) + F_KD * sin(alpha)  =  (F_LK * cos(theta)* sin(theta)/ cos(theta))- F_LK * sin(theta) - F_KC\n",
    "F_KD = (np.cos(theta) / (np.cos(alpha)* np.sin(theta) + np.sin(alpha) * np.cos(theta))) * ((F_LK * np.cos(theta)* np.sin(theta)/ np.cos(theta))- F_LK * np.sin(theta) - F_KC)\n",
    "F_KJ = (F_LK * np.cos(theta) - F_KD * np.cos(alpha)) / np.cos(theta)\n",
    "F_IJ = F_KJ\n",
    "F_JD = - F_KJ * np.sin(theta) - F_IJ * np.sin(theta)\n",
    "F_ID = F_KJ\n",
    "F_DE = F_CD\n",
    "F_IE = F_KC\n",
    "F_EG = F_BC\n",
    "F_GH = F_AL\n",
    "F_FG = F_AB\n",
    "F_EF = F_BC\n",
    "F_DI = F_KD\n",
    "F_IH = F_LK\n",
    "for variable in [F_AB,F_BC,F_CD,F_DE,F_EF,F_FG,F_AL,F_LK,F_KJ,F_IJ,F_IH,F_GH,F_JD,F_KD,F_KC,F_BL,F_CL,F_ID,F_IE,F_EH,F_FH]:\n",
    "    print(f'{[name for name in globals() if globals()[name] is variable][0] } = {variable}')"
   ],
   "metadata": {
    "collapsed": false,
    "ExecuteTime": {
     "end_time": "2023-06-01T19:12:10.709233600Z",
     "start_time": "2023-06-01T19:12:10.578514800Z"
    }
   }
  },
  {
   "cell_type": "code",
   "execution_count": 14,
   "outputs": [
    {
     "name": "stdout",
     "output_type": "stream",
     "text": [
      "CL\n",
      "[0 0]\n",
      "diff = [-2  2]\n",
      "nan\n",
      "CK\n",
      "[   -0. 10000.]\n",
      "diff = [-4  0]\n",
      "0.0\n",
      "CD\n",
      "[20000.     0.]\n",
      "diff = [ 0 -2]\n",
      "0.0\n",
      "DK\n",
      "[ 3333.33333333 -6666.66666667]\n",
      "diff = [-4  2]\n",
      "-0.7999999999999999\n",
      "DI\n",
      "[-3333.33333333 -6666.66666667]\n",
      "diff = [-4 -2]\n",
      "0.7999999999999999\n",
      "DJ\n",
      "[    0.         33333.33333333]\n",
      "diff = [-6  0]\n",
      "0.0\n",
      "EH\n",
      "[0 0]\n",
      "diff = [-2 -2]\n",
      "nan\n",
      "AL\n",
      "[-20000. -20000.]\n",
      "diff = [-2 -2]\n",
      "0.9999999999999998\n",
      "AB\n",
      "[20000.     0.]\n",
      "diff = [ 0 -2]\n",
      "0.0\n",
      "BL\n",
      "[0 0]\n",
      "diff = [-2  0]\n",
      "nan\n",
      "BC\n",
      "[20000.     0.]\n",
      "diff = [ 0 -2]\n",
      "0.0\n",
      "FH\n",
      "[0 0]\n",
      "diff = [-2  0]\n",
      "nan\n",
      "JD\n",
      "[    -0.         -33333.33333333]\n",
      "diff = [6 0]\n",
      "0.0\n",
      "JK\n",
      "[16666.66666667 16666.66666667]\n",
      "diff = [2 2]\n",
      "1.0\n",
      "JI\n",
      "[-16666.66666667  16666.66666667]\n",
      "diff = [ 2 -2]\n",
      "-1.0\n",
      "KL\n",
      "[20000. 20000.]\n",
      "diff = [2 2]\n",
      "0.9999999999999998\n",
      "KC\n",
      "[     0. -10000.]\n",
      "diff = [4 0]\n",
      "0.0\n",
      "KD\n",
      "[-3333.33333333  6666.66666667]\n",
      "diff = [ 4 -2]\n",
      "-0.7999999999999999\n",
      "KJ\n",
      "[-16666.66666667 -16666.66666667]\n",
      "diff = [-2 -2]\n",
      "1.0\n",
      "LK\n",
      "[-20000. -20000.]\n",
      "diff = [-2 -2]\n",
      "0.9999999999999998\n"
     ]
    },
    {
     "name": "stderr",
     "output_type": "stream",
     "text": [
      "C:\\Users\\Michael\\AppData\\Local\\Temp\\ipykernel_5692\\2707809321.py:76: RuntimeWarning: invalid value encountered in scalar divide\n",
      "  test = np.dot(difference,vector) / (np.linalg.norm(difference) * np.linalg.norm(vector))\n"
     ]
    }
   ],
   "source": [
    "angles = np.array([np.pi/4,np.arctan(4/2)])\n",
    "beam_length = 2\n",
    "positions = {\n",
    "    'A': np.array([0,0]),\n",
    "    'B': np.array([0,beam_length]),\n",
    "    'C': np.array([0,2 * beam_length]),\n",
    "    'D': np.array([0,3 * beam_length]),\n",
    "    'E': np.array([0,4 * beam_length]),\n",
    "    'F': np.array([0,5 * beam_length]),\n",
    "    'G': np.array([0,6 * beam_length]),\n",
    "    'H': np.array([beam_length,5 * beam_length]),\n",
    "    'I': np.array([2 * beam_length,4 * beam_length]),\n",
    "    'J': np.array([3 * beam_length,3 * beam_length]),\n",
    "    'K': np.array([2 * beam_length,2 * beam_length]),\n",
    "    'L': np.array([beam_length,beam_length]),\n",
    "}\n",
    "vectors_by_joint = {\n",
    "    'C': {'C': np.array([0,-10e3])},\n",
    "    'D': {'D': np.array([0,-20e3])},\n",
    "    'E': {'E': np.array([0,-10e3])},\n",
    "}\n",
    "for joint in ['A','B','F','G','H','I','J','K','L']:\n",
    "    vectors_by_joint[joint] = {}\n",
    "F_R = np.zeros(2)\n",
    "for vectors in vectors_by_joint.values():\n",
    "    for vector in vectors.values():\n",
    "        F_R = F_R + vector\n",
    "vectors_by_joint['A']['A'] = -0.5 * F_R\n",
    "vectors_by_joint['G']['G'] = -0.5 * F_R\n",
    "A_magnitude = np.linalg.norm(vectors_by_joint['A']['A'])\n",
    "#zero force members\n",
    "vectors_by_joint['B']['BL'] = np.array([0,0])\n",
    "vectors_by_joint['C']['CL'] = np.array([0,0])\n",
    "vectors_by_joint['E']['EH'] = np.array([0,0])\n",
    "vectors_by_joint['F']['FH'] = np.array([0,0])\n",
    "\n",
    "vectors_by_joint['A']['AL'] = A_magnitude * np.array([-1/np.tan(angles[0]),-1])\n",
    "vectors_by_joint['A']['AB'] = A_magnitude * np.array([1/np.tan(angles[0]),0])\n",
    "\n",
    "vectors_by_joint['B']['BC'] = vectors_by_joint['A']['AB']\n",
    "\n",
    "vectors_by_joint['C']['CK'] = -vectors_by_joint['C']['C']\n",
    "vectors_by_joint['C']['CD'] = vectors_by_joint['B']['BC']\n",
    "\n",
    "vectors_by_joint['L']['LK'] = vectors_by_joint['A']['AL']\n",
    "\n",
    "vectors_by_joint['K']['KL'] = -vectors_by_joint['L']['LK']\n",
    "vectors_by_joint['K']['KC'] = -vectors_by_joint['C']['CK']\n",
    "\n",
    "coefficients = np.array([\n",
    "    [-np.cos(angles[0]),np.cos(angles[1])],\n",
    "    [-np.sin(angles[0]),-np.sin(angles[1])]\n",
    "])\n",
    "\n",
    "right_hand_side = np.array([-vectors_by_joint['K']['KL'][0],-vectors_by_joint['K']['KL'][1] - vectors_by_joint['K']['KC'][1]])\n",
    "solution = np.linalg.solve(coefficients,right_hand_side)\n",
    "vectors_by_joint['K']['KD'] = solution[1] * np.array([np.cos(angles[1]),-np.sin(angles[1])])\n",
    "vectors_by_joint['K']['KJ'] = solution[0] * np.array([-np.cos(angles[0]),-np.sin(angles[0])])\n",
    "\n",
    "#joint D\n",
    "vectors_by_joint['D']['DK'] = -vectors_by_joint['K']['KD']\n",
    "vectors_by_joint['D']['DI'] = np.array([-vectors_by_joint['D']['DK'][0],vectors_by_joint['D']['DK'][1]])\n",
    "vectors_by_joint['D']['DJ'] = np.array([0, -vectors_by_joint['D']['DK'][1] - vectors_by_joint['D']['DI'][1] - vectors_by_joint['D']['D'][1]])\n",
    "\n",
    "vectors_by_joint['J']['JD'] = -vectors_by_joint['D']['DJ']\n",
    "vectors_by_joint['J']['JK'] = -vectors_by_joint['K']['KJ']\n",
    "vectors_by_joint['J']['JI'] = -vectors_by_joint['J']['JD'] - vectors_by_joint['J']['JK']\n",
    "\n",
    "for joint_label, joint in vectors_by_joint.items():\n",
    "    for vector_label,vector in joint.items():\n",
    "        if len(vector_label)>1:\n",
    "            print(vector_label)\n",
    "            print(vector)\n",
    "            difference = positions[vector_label[0]] - positions[vector_label[1]]\n",
    "            print(f'diff = {difference}')\n",
    "            test = np.dot(difference,vector) / (np.linalg.norm(difference) * np.linalg.norm(vector))\n",
    "            print(test)\n",
    "            magnitude = np.linalg.norm(joint[vector_label])\n",
    "            #print(f' {vector_label} = {magnitude/1e3:.2f}')\n",
    "        #print()\n",
    "# for position, vector in zip(positions,vectors_by_joint):\n",
    "\n"
   ],
   "metadata": {
    "collapsed": false,
    "ExecuteTime": {
     "end_time": "2023-06-01T19:12:10.714485900Z",
     "start_time": "2023-06-01T19:12:10.600895500Z"
    }
   }
  },
  {
   "cell_type": "markdown",
   "source": [
    "## Section 6.4 The Method of Sections\n",
    "* Method of Sections - used when we only need to find the force in only a few members of a truss, based on the principle that if the truss is in equilibrium then any segment of the truss is also in equilibrium, can be used to section the members of a truss, if the section passes through the truss and the FBD of either of the two parts is drawn, we can use the equations of equilibrium to that part to determine the member forces at the cut, only 3 independent equilibrium equations can be applied to an FBD, therefore pick a section that passes through no more than 3 members in which the forces are unknown\n",
    "* The line of action of each member force is along its member axis\n",
    "* Member forces acting on one part of the truss are equal but opposite direction to the other part\n",
    "* Determine sense of unknown member force\n",
    "    * Can be determined by inspection or assumption, if the solution is a negative scalar then the force's direction or sense is opposite to the FBD\n",
    "    * Assume the unknown member forces at the cut section are tensile forces, they are pulling on the member, then if the solution is positive the member is in tension, and negative for members in comperession\n",
    "* Internal forces become external forces when FBD of a segment is drawn"
   ],
   "metadata": {
    "collapsed": false
   }
  },
  {
   "cell_type": "markdown",
   "source": [
    "Problem 46\n",
    "Determine the force in members BC, CH, GH, and\n",
    "CG of the truss and state if the members are in tension or\n",
    "compression.\n",
    "<img src=\"pictures\\problem_6_46.png\" width=\"512\"/>"
   ],
   "metadata": {
    "collapsed": false
   }
  },
  {
   "cell_type": "code",
   "execution_count": 15,
   "outputs": [
    {
     "name": "stdout",
     "output_type": "stream",
     "text": [
      "8.75\n"
     ]
    }
   ],
   "source": [
    "import numpy as np\n",
    "beam_length_bottom = 4\n",
    "beam_length_middle = 3\n",
    "beam_length_top = 2\n",
    "F_1= 4\n",
    "F_2 = 8\n",
    "F_3 = 5\n",
    "theta = np.arctan(beam_length_middle/beam_length_bottom)\n",
    "alpha = np.arctan(beam_length_top / beam_length_bottom)\n",
    "F_Y_left = (3 * beam_length_bottom * F_3 + 2 * beam_length_bottom * F_2 + beam_length_bottom * F_1) / (beam_length_bottom * 4)\n",
    "F_GH = beam_length_bottom * F_Y_left / np.cos(alpha)\n",
    "print(F_Y_left)"
   ],
   "metadata": {
    "collapsed": false,
    "ExecuteTime": {
     "end_time": "2023-06-01T19:12:10.715485600Z",
     "start_time": "2023-06-01T19:12:10.659491800Z"
    }
   }
  },
  {
   "cell_type": "markdown",
   "source": [
    "## Section 6.5\n",
    "* Space Truss - truss that consists of members joined together ast their ends to form a stable 3D structure\n",
    "* Tetrahedron - simplest space truss, created by connecting six members together\n",
    "* Simple Space Truss - built from a tetrahedron, and adding three more members and a joint, and continuing this to form a system of multi connected tetrahedrons\n",
    "* Members of a space truss can be treated as two-force members, if the external loading is applied at the joints and the joints are ball-and-socket connections\n",
    "* This assumption is valid if the weight of the members is negligible and the welded or bolted connections of the joined members intersect a common point\n",
    "* If weight is included then we can apply it as a vertical force with half the magnitude applied at each end of the member"
   ],
   "metadata": {
    "collapsed": false
   }
  },
  {
   "cell_type": "markdown",
   "source": [
    "Problem 54\n",
    "The space truss supports a force\n",
    "F = {600i + 450j - 750k} lb. Determine the force in each\n",
    "member, and state if the members are in tension or\n",
    "compression.\n",
    "<img src=\"pictures\\problem_6_54.png\" width=\"512\"/>"
   ],
   "metadata": {
    "collapsed": false
   }
  },
  {
   "cell_type": "markdown",
   "source": [
    "## Section 6.6\n",
    "* Multiforce members - members that are subjected to more than two forces\n",
    "* Frame - used to support loads\n",
    "* Machine - contains moving parts that are designed to transmit and alter the effect of forces\n",
    "* Can determine the forces acting at the joints of frames or machines with equations of equilibrium to each of the members if the frame or machine contains no addition members than what's needed to prevent it from collapse\n",
    "* With these forces we can design the size of the members, connections, and supports\n",
    "* FBD\n",
    "    * Isolate each part by drawing its outlined shape, show all forces and couple moments acting on that part, label forces, and coordinate system, indicate dimensions used for taking moments\n",
    "    * Identify two-force members and draw the FBD with 2 equal but opposite collinear forces acting at the joint\n",
    "    * Forces common to any two contacting members act with equal magnitudes but opposite sense on their members. If the two members are a system of connected members then the forces are internal and not included in FBD of the system, if a FBD is drawn for each member is drawn then the forces are external and are included in the FBD, and will be shown as equal but opposite forces"
   ],
   "metadata": {
    "collapsed": false
   }
  },
  {
   "cell_type": "markdown",
   "source": [
    "Problem 95\n",
    "The nail cutter consists of the handle and the two\n",
    "cutting blades. Assuming the blades are pin connected at B\n",
    "and the surface at D is smooth, determine the normal force\n",
    "on the fingernail when a force of 1 lb is applied to the\n",
    "handles as shown. The pin AC slides through a smooth hole\n",
    "at A and is attached to the bottom member at C.\n",
    "<img src=\"pictures\\problem_6_95.png\" width=\"512\"/>"
   ],
   "metadata": {
    "collapsed": false
   }
  },
  {
   "cell_type": "markdown",
   "source": [
    "Problems - 11,46, use dictionary for forces, label applied force by point of application, position and vector, position of joints, 54, 95\n"
   ],
   "metadata": {
    "collapsed": false
   }
  }
 ],
 "metadata": {
  "kernelspec": {
   "display_name": "Python 3",
   "language": "python",
   "name": "python3"
  },
  "language_info": {
   "codemirror_mode": {
    "name": "ipython",
    "version": 2
   },
   "file_extension": ".py",
   "mimetype": "text/x-python",
   "name": "python",
   "nbconvert_exporter": "python",
   "pygments_lexer": "ipython2",
   "version": "2.7.6"
  }
 },
 "nbformat": 4,
 "nbformat_minor": 0
}
