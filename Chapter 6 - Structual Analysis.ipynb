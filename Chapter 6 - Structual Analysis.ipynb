{
 "cells": [
  {
   "cell_type": "markdown",
   "source": [
    "# Chapter 6 Structural Analysis"
   ],
   "metadata": {
    "collapsed": false
   }
  },
  {
   "cell_type": "markdown",
   "source": [
    "## Section 6.1 Simple Trusses\n",
    "* Truss - Structural composed of slender members joined together at their end points, members usually made of wooden struts or metal bars\n",
    "* Planar truss - lie in a single plane, used to support roofs and bridges\n",
    "* Rollers or rockers are used for supporting one end of a bridge or roof truss over a longer distance so there is freedom of expansion or contraction of the members due to temperature change or load\n",
    "* Designing members and connections of a truss - first determine the force in each member when the truss is loaded, make 2 assumptions,\n",
    "    * All loadings are applied at the joints - this is true in most situations, like bridges and trusses, neglect weight of the members since the load is much larger, if weight is included apply it as a vertical force, with half of its magnitude applied at each end of the member\n",
    "    * The members are joined together by smooth pins - joint connections formed by bolting or welding the ends of the members to a common plate, or gusset plate, or by passing a large bolt or pin through each of the members, we can assume these connections act as pins provided the center lines of the joining members are concurrent\n",
    "* As a result of these assumptions each truss member acts a two-force member, and the force acting at each end of the member will be directed along the axis of the member\n",
    "* Tensile Force - a force that elongates the member\n",
    "* Compressive Force - a force that tends to shorten the member\n",
    "* Compression members made thicker than tension members because of buckling or column effect that occurs when a member is in compression\n",
    "* Triangular Truss - 3 members are pin connected at the ends, truss will be rigid\n",
    "* Adding 2 more members to a triangular truss and form a new joint $D$ forms a larger truss\n",
    "* A truss that can be constructed by expanding the basic triangular truss this way, are called simple truss"
   ],
   "metadata": {
    "collapsed": false
   }
  },
  {
   "cell_type": "markdown",
   "source": [
    "## Section 6.2 The Method of Joints\n",
    "*"
   ],
   "metadata": {
    "collapsed": false
   }
  }
 ],
 "metadata": {
  "kernelspec": {
   "display_name": "Python 3",
   "language": "python",
   "name": "python3"
  },
  "language_info": {
   "codemirror_mode": {
    "name": "ipython",
    "version": 2
   },
   "file_extension": ".py",
   "mimetype": "text/x-python",
   "name": "python",
   "nbconvert_exporter": "python",
   "pygments_lexer": "ipython2",
   "version": "2.7.6"
  }
 },
 "nbformat": 4,
 "nbformat_minor": 0
}
