{
 "cells": [
  {
   "cell_type": "markdown",
   "source": [
    "# Chapter 3 Equilibrium of a Particle"
   ],
   "metadata": {
    "collapsed": false
   }
  },
  {
   "cell_type": "markdown",
   "source": [
    "## Section 3.1 Condition for the Equilibrium of a Particle\n",
    "* Equilibrium - a particle is in equilibrium if it stays at rest if originally at rest, or has a constant velocity if originally in motion\n",
    "* Maintaining Equilibrium - needs to satisfy Newton's first law of motion, $\\sum \\vec F = 0$, this is sufficient since $\\sum \\vec F = m \\vec a$, therefore $\\vec a = 0$, therefore constant velocity"
   ],
   "metadata": {
    "collapsed": false
   }
  },
  {
   "cell_type": "markdown",
   "source": [
    "## Section 3.2 The Free-Body Diagram\n",
    "* Free-Body Diagram - drawing that shows the particle with all the forces that act on it\n",
    "* Springs\n",
    "    * linearly elastic spring of unreformed length $l_0$ is used to support a particle, the length of the spring will change directly proportionally to $\\vec F$ acting on it.\n",
    "    * spring constant or stiffness (denoted $k$) - characteristic that defined the elasticity of a spring\n",
    "    * magnitude of force exerted on a linearly elastic spring can be expressed as $F = ks$, where $k$ is the stiffness, $s$ is the deformed distance, $s = l - l_0$, if $s$ is positive it is an elongation and $\\vec F$ must pull on the sting, if $s$ is negative it causes a shortening then $\\vec F$ must push on it.\n",
    "* Cables and Pulleys\n",
    "    * Cables will be assumed to have negligible weight and cannot stretch\n",
    "    * Cables can only support a tension force, and this force always acts in direction of the cable\n",
    "    * Tension force must have a constant magnitude to keep it in equilibrium when the cable is continuous, and it passes over a frictionless pulley\n",
    "* Smooth Contact\n",
    "    * When an object rests on a smooth surface, then the surface will exert a force on the object that is normal to the surface at the point of contact, denoted $\\vec N$"
   ],
   "metadata": {
    "collapsed": false
   }
  },
  {
   "cell_type": "markdown",
   "source": [
    "## Section 3.3 Coplanar Force Systems\n",
    "* Equilibrium in 2D - $\\sum \\vec F = 0 = \\sum F_x \\hat i + \\sum F_y \\hat j = 0$, i.e. $\\sum F_x \\hat i = 0$ and $\\sum F_y \\hat j = 0$\n",
    "* If a force has an unknown magnitude the direction of force can be assumed, but if the solution produces a negative scalar then the force is opposite to what it was assumed."
   ],
   "metadata": {
    "collapsed": false
   }
  },
  {
   "cell_type": "markdown",
   "source": [
    "## Problem 39\n",
    "The ball $D$ has a mass of 20 kg. If a force of $F = 100 \\mathrm N$\n",
    "is applied horizontally to the ring at $A$, determine the\n",
    "dimension $d$ so that the force in cable $AC$ is zero.\n",
    "<!--<img src=\"pictures\\problem_3_39.png\" width=\"330\"/>-->\n",
    "![figure 39](pictures/problem_3_39.png)\n"
   ],
   "metadata": {
    "collapsed": false
   }
  },
  {
   "cell_type": "code",
   "execution_count": 28,
   "outputs": [
    {
     "data": {
      "text/plain": "<Figure size 1000x1000 with 1 Axes>",
      "image/png": "[encoded data removed]"
     },
     "metadata": {},
     "output_type": "display_data"
    }
   ],
   "source": [
    "from IPython.core.pylabtools import figsize\n",
    "import string\n",
    "import numpy as np\n",
    "from matplotlib.patches import FancyArrow, Rectangle, Circle\n",
    "import matplotlib.pyplot as plt\n",
    "figure, axes = plt.subplots()\n",
    "#plt.figure(figsize=(10,10))\n",
    "wall_length = 8\n",
    "wall_thickness = .1\n",
    "d_1 = 2\n",
    "theta = np.arctan(2.5/d_1)\n",
    "alpha = np.arctan((2.5 + 1.5)/d_1)\n",
    "\n",
    "wall = Rectangle((0,-1/2 * wall_length),wall_thickness,wall_length,edgecolor='black',facecolor='tab:blue')\n",
    "axes.add_patch(wall)\n",
    "\n",
    "point_labels = list(string.ascii_uppercase)[:4]\n",
    "point_positions = [(d_1,0),(wall_thickness,d_1 + 1.5),(wall_thickness,d_1),(d_1,-d_1)]\n",
    "point_orientation = ['bottom','right','right','right']\n",
    "for label,point,orientation in zip(point_labels,point_positions,point_orientation):\n",
    "    dot = Circle(point, radius=0.01 * wall_length, fill=True, color='black')\n",
    "    axes.add_patch(dot)\n",
    "    if orientation=='top':\n",
    "        plt.text(point[0],point[1],label,va='bottom',ha='center')\n",
    "    elif orientation=='bottom':\n",
    "        plt.text(point[0],point[1] - 0.15,label,va='top',ha='center')\n",
    "    elif orientation=='left':\n",
    "        plt.text(point[0] - 0.05 * wall_length,point[1],label,va='center',ha='center')\n",
    "    elif orientation=='right':\n",
    "        plt.text(point[0] + 0.05 * wall_length,point[1],label,va='center',ha='center')\n",
    "    else:\n",
    "        plt.text(point[0],point[1],label,va='center',ha='center')\n",
    "vectors = {\n",
    "    'F': {'origin': np.array([d_1,0]), 'vector': np.array([1.5,0])},\n",
    "    'W': {'origin': np.array([d_1,0]), 'vector': np.array([0,-1.75])},\n",
    "    'F_{AC}': {'origin': np.array([d_1,0]), 'vector': np.array([-1.5 * np.cos(theta),1.5 * np.sin(theta)])},\n",
    "    'F_{AB}': {'origin': np.array([d_1,0]), 'vector': np.array([-1.5 * np.cos(alpha),1.5 * np.sin(alpha)])},\n",
    "}\n",
    "axes.set_xlim([-0.5 * wall_thickness, wall_length + 1])\n",
    "axes.set_ylim([-.65 * wall_length ,.65 * wall_length])\n",
    "\n",
    "for label, vector_dictionary in vectors.items():\n",
    "    origin = vector_dictionary['origin']\n",
    "    vector = vector_dictionary['vector']\n",
    "    vector_arrow = FancyArrow(origin[0], origin[1], vector[0], vector[1],\n",
    "    width=.02,length_includes_head=True, color='k')\n",
    "    axes.text(origin[0] + vector[0] * 1.1,\n",
    "               origin[1] + vector[1] * 1.1,\n",
    "               r'$\\vec{'+label[0]+r'}' + label[1:] + r'$', color='k', fontsize=14,\n",
    "               va='center',ha='right'\n",
    "                               )\n",
    "    axes.add_patch(vector_arrow)\n",
    "\n",
    "axes.set_aspect('equal')\n",
    "#axes.axis('off')\n",
    "plt.show()"
   ],
   "metadata": {
    "collapsed": false,
    "ExecuteTime": {
     "end_time": "2023-06-21T16:19:36.407996400Z",
     "start_time": "2023-06-21T16:19:36.099330Z"
    }
   }
  },
  {
   "cell_type": "markdown",
   "source": [
    "## Solution\n",
    "$\\begin{array}{ll}\n",
    "\\sum F_x &= F-F_{AB} \\cos \\theta = 0 \\\\\n",
    "\\Rightarrow F_{AB}   &= \\frac{F}{\\cos\\theta} \\\\\n",
    "\\sum F_y &= F_{AB} \\sin \\theta - mg = 0  \\\\\n",
    "\\Rightarrow \\frac{F}{\\cos\\theta} \\sin\\theta = mg \\\\\n",
    "\\Rightarrow \\tan\\theta = \\frac{mg}{F}\\\\\n",
    "\\end{array}$"
   ],
   "metadata": {
    "collapsed": false
   }
  },
  {
   "cell_type": "code",
   "execution_count": 5,
   "outputs": [
    {
     "name": "stdout",
     "output_type": "stream",
     "text": [
      "d = 2.42 m\n"
     ]
    }
   ],
   "source": [
    "from astropy.constants import g0\n",
    "import numpy as np\n",
    "mass = 20\n",
    "force = 100\n",
    "wall_distance = 2\n",
    "hook_separation = 1.5\n",
    "theta = np.arctan(mass * g0.value / force)\n",
    "d = wall_distance * np.tan(theta) -hook_separation\n",
    "print(f'd = {d:.2f} m')"
   ],
   "metadata": {
    "collapsed": false,
    "ExecuteTime": {
     "end_time": "2023-06-21T03:07:47.589169Z",
     "start_time": "2023-06-21T03:07:47.419713600Z"
    }
   }
  },
  {
   "cell_type": "markdown",
   "source": [
    "## Section 3.4 Three-Dimensional Force Systems\n",
    "* Equilibrium in 3D - $\\sum \\vec F = 0 = \\sum F_x \\hat i + \\sum F_y \\hat j + \\sum F_z \\hat k = 0$, i.e. $\\sum F_x \\hat i = 0$, $\\sum F_y \\hat j = 0$, and $\\sum F_z \\hat k =0$\n",
    "* Procedure for analysis - set up Free-Body Diagram, solve for $F_x, F_y, F_z$, flip direction of force if solution produces a negative result"
   ],
   "metadata": {
    "collapsed": false
   }
  },
  {
   "cell_type": "markdown",
   "source": [
    "## Problem 46\n",
    "Determine the stretch in each of the two springs\n",
    "required to hold the 20-kg crate in the equilibrium position\n",
    "shown. Each spring has an unstretched length of 2 m and a\n",
    "stiffness of k = 300 N/m\n",
    "<img src=\"pictures/problem_3_46.png\" width=\"512\"/>\n"
   ],
   "metadata": {
    "collapsed": false
   }
  },
  {
   "cell_type": "code",
   "execution_count": 6,
   "outputs": [
    {
     "name": "stdout",
     "output_type": "stream",
     "text": [
      "stretch of spring OA = 0.218 m\n",
      "stretch of spring OB = 0.327 m\n"
     ]
    }
   ],
   "source": [
    "from astropy.constants import g0\n",
    "import numpy as np\n",
    "stiffness = 300\n",
    "mass = 20\n",
    "position_vector = np.array((6,4,12))\n",
    "magnitude_OC = np.linalg.norm(position_vector)\n",
    "unit_vector = position_vector / magnitude_OC\n",
    "force_crate = np.array((0,0,mass * -g0.value))\n",
    "#F_OC +#F_OA + #F_OB + #F = 0\n",
    "F_OC = -force_crate[2]/unit_vector[2]  #z\n",
    "F_OA = unit_vector[1] * F_OC  #y\n",
    "F_OB = unit_vector[0] * F_OC  #x\n",
    "s_OB = F_OB / stiffness\n",
    "s_OA = F_OA /stiffness\n",
    "print(f'stretch of spring OA = {s_OA:.3f} m')\n",
    "print(f'stretch of spring OB = {s_OB:.3f} m')"
   ],
   "metadata": {
    "collapsed": false,
    "ExecuteTime": {
     "end_time": "2023-06-21T03:07:47.611111700Z",
     "start_time": "2023-06-21T03:07:47.592161300Z"
    }
   }
  }
 ],
 "metadata": {
  "kernelspec": {
   "display_name": "Python 3",
   "language": "python",
   "name": "python3"
  },
  "language_info": {
   "codemirror_mode": {
    "name": "ipython",
    "version": 2
   },
   "file_extension": ".py",
   "mimetype": "text/x-python",
   "name": "python",
   "nbconvert_exporter": "python",
   "pygments_lexer": "ipython2",
   "version": "2.7.6"
  }
 },
 "nbformat": 4,
 "nbformat_minor": 0
}
