{
 "cells": [
  {
   "cell_type": "markdown",
   "source": [
    "# Chapter 3 Equilibrium of a Particle"
   ],
   "metadata": {
    "collapsed": false
   }
  },
  {
   "cell_type": "markdown",
   "source": [
    "## Section 3.1 Condition for the Equilibrium of a Particle\n",
    "* Equilibrium - a particle is in equilibrium if it stays at rest if originally at rest, or has a constant velocity if originally in motion\n",
    "* Maintaining Equilibrium - needs to satisfy Newton's first law of motion, $\\sum \\vec F = 0$, this is sufficient since $\\sum \\vec F = m \\vec a$, therefore $\\vec a = 0$, therefore constant velocity"
   ],
   "metadata": {
    "collapsed": false
   }
  },
  {
   "cell_type": "markdown",
   "source": [
    "## Section 3.2 The Free-Body Diagram\n",
    "* Free-Body Diagram - drawing that shows the particle with all the forces that act on it\n",
    "* Springs\n",
    "    * linearly elastic spring of unreformed length $l_0$ is used to support a particle, the length of the spring will change directly proportionally to $\\vec F$ acting on it.\n",
    "    * spring constant or stiffness (denoted $k$) - characteristic that defined the elasticity of a spring\n",
    "    * magnitude of force exerted on a linearly elastic spring can be expressed as $F = ks$, where $k$ is the stiffness, $s$ is the deformed distance, $s = l - l_0$, if $s$ is positive it is an elongation and $\\vec F$ must pull on the sting, if $s$ is negative it causes a shortening then $\\vec F$ must push on it.\n",
    "* Cables and Pulleys\n",
    "    * Cables will be assumed to have negligible weight and cannot stretch\n",
    "    * Cables can only support a tension force, and this force always acts in direction of the cable\n",
    "    * Tension force must have a constant magnitude to keep it in equilibrium when the cable is continuous, and it passes over a frictionless pulley\n",
    "* Smooth Contact\n",
    "    * When an object rests on a smooth surface, then the surface will exert a force on the object that is normal to the surface at the point of contact, denoted $\\vec N$"
   ],
   "metadata": {
    "collapsed": false
   }
  },
  {
   "cell_type": "markdown",
   "source": [
    "## Section 3.3 Coplanar Force Systems\n",
    "* Equilibrium in 2D - $\\sum \\vec F = 0 = \\sum F_x \\hat i + \\sum F_y \\hat j = 0$, i.e. $\\sum F_x \\hat i = 0$ and $\\sum F_y \\hat j = 0$\n",
    "* If a force has an unknown magnitude the direction of force can be assumed, but if the solution produces a negative scalar then the force is opposite to what it was assumed."
   ],
   "metadata": {
    "collapsed": false
   }
  },
  {
   "cell_type": "markdown",
   "source": [
    "## Problem 39\n",
    "The ball $D$ has a mass of 20 kg. If a force of $F = 100 \\mathrm N$\n",
    "is applied horizontally to the ring at $A$, determine the\n",
    "dimension $d$ so that the force in cable $AC$ is zero.\n",
    "<img src=\"pictures\\problem_3_39.png\" width=\"330\"/>\n"
   ],
   "metadata": {
    "collapsed": false
   }
  },
  {
   "cell_type": "markdown",
   "source": [
    "## Solution\n",
    "$\\begin{array}{ll}\n",
    "\\sum F_x = 100-F_{AB} cos \\theta = 0 \\\\\n",
    "F_{AB}  = \\frac{100}{cos\\theta} \\\\\n",
    "\\end{array}$\n",
    "$$$$\n",
    "$\\sum F_y = F_{AB} sin \\theta - 196.2 \\mathrm N = 0 $\n",
    "$$$$\n",
    "$tan\\theta = 1.962$\n"
   ],
   "metadata": {
    "collapsed": false
   }
  },
  {
   "cell_type": "code",
   "execution_count": 25,
   "outputs": [
    {
     "name": "stdout",
     "output_type": "stream",
     "text": [
      "d = 2.42 m\n"
     ]
    }
   ],
   "source": [
    "import numpy as np\n",
    "theta = np.arctan(1.962)\n",
    "tan = np.tan(theta)\n",
    "d = 2 * tan -1.5\n",
    "print(f'd = {d:.2f} m')"
   ],
   "metadata": {
    "collapsed": false,
    "ExecuteTime": {
     "end_time": "2023-05-24T19:30:39.829278800Z",
     "start_time": "2023-05-24T19:30:39.812325Z"
    }
   }
  },
  {
   "cell_type": "markdown",
   "source": [
    "## Section 3.4 Three-Dimensional Force Systems\n",
    "* Equilibrium in 3D - $\\sum \\vec F = 0 = \\sum F_x \\hat i + \\sum F_y \\hat j + \\sum F_z \\hat k = 0$, i.e. $\\sum F_x \\hat i = 0$, $\\sum F_y \\hat j = 0$, and $\\sum F_z \\hat k =0$\n",
    "* Procedure for analysis - set up Free-Body Diagram, solve for $F_x, F_y, F_z$, flip direction of force if solution produces a negative result"
   ],
   "metadata": {
    "collapsed": false
   }
  },
  {
   "cell_type": "markdown",
   "source": [
    "## Problem 46\n",
    "Determine the stretch in each of the two springs\n",
    "required to hold the 20-kg crate in the equilibrium position\n",
    "shown. Each spring has an unstretched length of 2 m and a\n",
    "stiffness of k = 300 N/m\n",
    "<img src=\"pictures\\problem_3_46.png\" width=\"512\"/>\n"
   ],
   "metadata": {
    "collapsed": false
   }
  },
  {
   "cell_type": "code",
   "execution_count": 26,
   "outputs": [
    {
     "name": "stdout",
     "output_type": "stream",
     "text": [
      "stretch of spring OA = 0.218 m\n",
      "stretch of spring OB = 0.327 m\n"
     ]
    }
   ],
   "source": [
    "position_vector = np.array((6,4,12))\n",
    "magnitude_OC = np.linalg.norm(position_vector)\n",
    "unit_vector = position_vector / magnitude_OC\n",
    "force_crate = np.array((0,0,-196.2))\n",
    "#F_OC +#F_OA + #F_OB + #F = 0\n",
    "F_OC = -force_crate[2]/unit_vector[2]\n",
    "F_OA = unit_vector[1] * F_OC\n",
    "F_OB = unit_vector[0] * F_OC\n",
    "s_OB = F_OB / 300\n",
    "s_OA = F_OA /300\n",
    "print(f'stretch of spring OA = {s_OA:.3f} m')\n",
    "print(f'stretch of spring OB = {s_OB:.3f} m')"
   ],
   "metadata": {
    "collapsed": false,
    "ExecuteTime": {
     "end_time": "2023-05-24T19:30:39.855209600Z",
     "start_time": "2023-05-24T19:30:39.824293500Z"
    }
   }
  }
 ],
 "metadata": {
  "kernelspec": {
   "display_name": "Python 3",
   "language": "python",
   "name": "python3"
  },
  "language_info": {
   "codemirror_mode": {
    "name": "ipython",
    "version": 2
   },
   "file_extension": ".py",
   "mimetype": "text/x-python",
   "name": "python",
   "nbconvert_exporter": "python",
   "pygments_lexer": "ipython2",
   "version": "2.7.6"
  }
 },
 "nbformat": 4,
 "nbformat_minor": 0
}
