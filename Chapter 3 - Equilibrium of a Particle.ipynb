{
 "cells": [
  {
   "cell_type": "markdown",
   "source": [
    "# Chapter 3 Equilibrium of a Particle"
   ],
   "metadata": {
    "collapsed": false
   }
  },
  {
   "cell_type": "markdown",
   "source": [
    "## Section 3.1 Condition for the Equilibrium of a Particle\n",
    "* Equilibrium - a particle is in equilibrium if it stays at rest if originally at rest, or has a constant velocity if originally in motion\n",
    "* Maintaining Equilibrium - needs to satisfy Newton's first law of motion, $\\sum \\vec F = 0$, this is sufficient since $\\sum \\vec F = m \\vec a$, therefore $\\vec a = 0$, therefore constant velocity"
   ],
   "metadata": {
    "collapsed": false
   }
  },
  {
   "cell_type": "markdown",
   "source": [
    "## Section 3.2 The Free-Body Diagram\n",
    "* Free-Body Diagram - drawing that shows the particle with all the forces that act on it\n",
    "* Springs\n",
    "    * linearly elastic spring of unreformed length $l_0$ is used to support a particle, the length of the spring will change directly proportionally to $\\vec F$ acting on it.\n",
    "    * spring constant or stiffness (denoted $k$) - characteristic that defined the elasticity of a spring\n",
    "    * magnitude of force exerted on a linearly elastic spring can be expressed as $F = ks$, where $k$ is the stiffness, $s$ is the deformed distance, $s = l - l_0$, if $s$ is positive it is an elongation and $\\vec F$ must pull on the sting, if $s$ is negative it causes a shortening then $\\vec F$ must push on it.\n",
    "* Cables and Pulleys\n",
    "    * Cables will be assumed to have negligible weight and cannot stretch\n",
    "    * Cables can only support a tension force, and this force always acts in direction of the cable\n",
    "    * Tension force must have a constant magnitude to keep it in equilibrium when the cable is continuous, and it passes over a frictionless pulley\n",
    "* Smooth Contact\n",
    "    * When an object rests on a smooth surface, then the surface will exert a force on the object that is normal to the surface at the point of contact, denoted $\\vec N$"
   ],
   "metadata": {
    "collapsed": false
   }
  },
  {
   "cell_type": "markdown",
   "source": [
    "## Section 3.3 Coplanar Force Systems\n",
    "* Equilibrium in 2D - $\\sum \\vec F = 0 = \\sum F_x \\hat i + \\sum F_y \\hat j = 0$, i.e. $\\sum F_x \\hat i = 0$ and $\\sum F_y \\hat j = 0$\n",
    "* If a force has an unknown magnitude the direction of force can be assumed, but if the solution produces a negative scalar then the force is opposite to what it was assumed."
   ],
   "metadata": {
    "collapsed": false
   }
  },
  {
   "cell_type": "markdown",
   "source": [
    "Problem"
   ],
   "metadata": {
    "collapsed": false
   }
  },
  {
   "cell_type": "code",
   "execution_count": null,
   "outputs": [],
   "source": [],
   "metadata": {
    "collapsed": false,
    "ExecuteTime": {
     "end_time": "2023-05-24T05:46:43.858072800Z",
     "start_time": "2023-05-24T05:46:43.843112900Z"
    }
   }
  },
  {
   "cell_type": "markdown",
   "source": [
    "## Section 3.4 Three-Dimensional Force Systems\n",
    "* Equilibrium in 3D - $\\sum \\vec F = 0 = \\sum F_x \\hat i + \\sum F_y \\hat j + \\sum F_z \\hat k = 0$, i.e. $\\sum F_x \\hat i = 0$, $\\sum F_y \\hat j = 0$, and $\\sum F_z \\hat k =0$\n",
    "* Procedure for analysis - set up Free-Body Diagram, solve for $F_x, F_y, F_z$, flip direction of force if solution produces a negative result"
   ],
   "metadata": {
    "collapsed": false
   }
  },
  {
   "cell_type": "markdown",
   "source": [
    "Problem"
   ],
   "metadata": {
    "collapsed": false
   }
  },
  {
   "cell_type": "code",
   "execution_count": null,
   "outputs": [],
   "source": [],
   "metadata": {
    "collapsed": false,
    "ExecuteTime": {
     "end_time": "2023-05-24T05:46:43.871038100Z",
     "start_time": "2023-05-24T05:46:43.853086Z"
    }
   }
  }
 ],
 "metadata": {
  "kernelspec": {
   "display_name": "Python 3",
   "language": "python",
   "name": "python3"
  },
  "language_info": {
   "codemirror_mode": {
    "name": "ipython",
    "version": 2
   },
   "file_extension": ".py",
   "mimetype": "text/x-python",
   "name": "python",
   "nbconvert_exporter": "python",
   "pygments_lexer": "ipython2",
   "version": "2.7.6"
  }
 },
 "nbformat": 4,
 "nbformat_minor": 0
}
