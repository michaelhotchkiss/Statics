{
 "cells": [
  {
   "cell_type": "markdown",
   "source": [
    "# Chapter 3 Equilibrium of a Particle"
   ],
   "metadata": {
    "collapsed": false
   }
  },
  {
   "cell_type": "markdown",
   "source": [
    "## Section 3.1 Condition for the Equilibrium of a Particle\n",
    "* Equilibrium - a particle is in equilibrium if it stays at rest if originally at rest, or has a constant velocity if originally in motion\n",
    "* Maintaining Equilibrium - needs to satisfy Newton's first law of motion, $\\sum \\vec F = 0$, this is sufficient since $\\sum \\vec F = m \\vec a$, therefore $\\vec a = 0$, therefore constant velocity"
   ],
   "metadata": {
    "collapsed": false
   }
  }
 ],
 "metadata": {
  "kernelspec": {
   "display_name": "Python 3",
   "language": "python",
   "name": "python3"
  },
  "language_info": {
   "codemirror_mode": {
    "name": "ipython",
    "version": 2
   },
   "file_extension": ".py",
   "mimetype": "text/x-python",
   "name": "python",
   "nbconvert_exporter": "python",
   "pygments_lexer": "ipython2",
   "version": "2.7.6"
  }
 },
 "nbformat": 4,
 "nbformat_minor": 0
}
