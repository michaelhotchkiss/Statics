{
 "cells": [
  {
   "cell_type": "markdown",
   "source": [
    "# Chapter 10 Moments of Inertia"
   ],
   "metadata": {
    "collapsed": false,
    "pycharm": {
     "name": "#%% md\n"
    }
   }
  },
  {
   "cell_type": "markdown",
   "source": [
    "## Section 10.1 Definition of Moments of Inertia for Areas\n",
    "* If a distributed load acts perpendicular to an area and its intensity varies linearly, then to calculate the moment of the loading about an axis it will involve an integral, $\\int y^2dA$\n",
    "* Consider a plate submerged in a fluid and subjected to pressure $p$, since the pressure varies linearly with depth, $p = \\gamma y$ with $\\gamma$ being the specific weight of the fluid, therefore the force acting on the differential area $dA$ is $dF = p dA = (\\gamma y)dA$, the moment of this force about $x$ axis is $dM = y dF = \\gamma y^2 dA$, when we integrate this over the area of the plate we get $M = \\gamma \\int y^2dA$, the integral is referred to as the second moment of the area about an axis, or it is called the moment of inertia of the area.\n",
    "* Moments of inertia of differential area $dA$ about the $x$ and $y$ axes are $dI_x = y^2 dA$ and $dI_y = x^2 dA$, for the entire area $A$ the moments of inertia are $I_x = \\int_A y^2dA$ and $I_y = \\int_A x^2dA$ &emsp; (10-1)\n",
    "* Polar moment of inertia, formulate quantity for $dA$ about pole $O$ ($z$ axis), defined as $dJ_O = r^2 dA$, with $r$ being the perpendicular distance from the pole or $z$ axis to element $dA$, the polar moment of inertia for the entire area is $J_O = \\int_A r^2dA = I_x + I_y$ &emsp; (10-2)\n",
    "* This relationship is possible since $r^2 = x^2 + y^2$\n",
    "* $I_x, I_y, J_O$ will always be positive\n",
    "* Units for moment of inertia is length to the fourth power"
   ],
   "metadata": {
    "collapsed": false
   }
  },
  {
   "cell_type": "markdown",
   "source": [
    "## Section 10.2 Parallel-Axis Theorem\n",
    "* Parallel-axis theorem - used to find the moment of inertia of an area about any axis that is parallel to an axis passing through the centroid and about which the moment of inertia is known\n",
    "* To derive this theorem consider finding the moment of inertia of a shaded area about the $x$ axis, choose differential element $dA$ located at an arbitrary distance $y'$ from the centroidal $x'$ axis, if the distance between the parallel $x$ and $x'$ axis is $d_y$ then the moment of inertia of $dA$ about the $x$ axis is $dI_x = (y' + d_y)^2 dA$, for the entire area we can integrate to find $I_x = \\int_A{(y' + d_y)^2 dA} = \\int_A({y'^2 dA}) + 2d_y \\int_A{(y' dA} )+ d^2_y \\int_A{dA}$\n",
    "* The first integral represents the moment of inertia of the area about centroidal axis $\\bar I_{x'}$, the second integral is $0$ since the $x'$ axis passes through the area's centroid $C$, $\\int y'dA = \\bar y' \\int dA = 0$, this is because $\\bar y' = 0$, the third integral represents the area, therefore the final result is $I_x = \\bar I_{x'} + Ad^2_y$ &emsp; (10-3), $I_y = \\bar I_{y'} + Ad^2_x$ &emsp; (10-4)\n",
    "* The polar moment of inertia is expressed as $J_O = \\bar J_C + Ad^2$ &emsp; (10-5)\n",
    "* We get the polar moment of inertia from $\\bar J_C = \\bar I_{x'} + \\bar I_{y'}$ and $d^2 = d^2_x + d^2_y$\n",
    "* Each of these equations state the moment of inertia for an area about an axis is equal to its moment of inertia about a parallel axis passing through the area's centroid plus the product of the area and the square of the perpendicular distance between the axes\n"
   ],
   "metadata": {
    "collapsed": false,
    "pycharm": {
     "name": "#%% md\n"
    }
   }
  },
  {
   "cell_type": "markdown",
   "source": [
    "## Section 10.3 Radius of Gyration of an Area\n",
    "* Radius of gyration of an area about an axis is a quantity that is used for design of columns in structural mechanics, unit is length\n",
    "* If the areas and moments of inertia are given then the radii of gyration can be found from $k_x = \\sqrt{\\frac{I_x}{A}}$, $k_y = \\sqrt{\\frac{I_y}{A}}$, $k_O = \\sqrt{\\frac{J_O}{A}}$ &emsp; (10-6)\n",
    "* Moment of inertia is a geometric property of an area that is used to determine the strength of a structural member or the location of a resultant pressure force acting on a plane submerged in a fluid\n",
    "* When the moment of inertia of an area is known about its centroidal axis then the moment of inertia about a corresponding parallel axis can be determined using the parallel-axis theorem\n",
    "### Procedure for Analysis - moment of inertia\n",
    "* If the curve defining the boundary of the area is expressed as $y = f(x)$, then we can choose a rectangular differential element so that it has finite length and differential width\n",
    "* The element should be located so it intersects the curve at an arbitrary point $(x,y)$\n",
    "* Case 1 - Orient the element so the length is parallel to the axis about which the moment of inertia is computed, the element is at distance $y$ from the $x$ axis, since the thickness of the area is $dy$, therefore $I_x = \\int y^2dA$, for $I_y$ orient the element parallel to the $y$ axis, then the element is at distance $x$ from the $y$ axis so $I_y = \\int x^2dA$\n",
    "* Case 2 - Orient the length of the element so that it is perpendicular to the axis about which the moment of inertia is computed, when doing this (10-1) does not apply because all the points of the element do not lie at the same moment-arm distance from the axis, for $I_y$ first calculate moment of inertia of the element about an axis parallel to the $y$ axis that passes through the element's centroid, then determine the moment of inertia of the element about the $y$ axis using the parallel-axis theorem, integrate to obtain $I_y$, same procedure for $I_x$"
   ],
   "metadata": {
    "collapsed": false,
    "pycharm": {
     "name": "#%% md\n"
    }
   }
  },
  {
   "cell_type": "markdown",
   "source": [
    "# Problem 23\n",
    "Determine the moment of inertia for the shaded area about the axis."
   ],
   "metadata": {
    "collapsed": false,
    "pycharm": {
     "name": "#%% md\n"
    }
   }
  },
  {
   "cell_type": "code",
   "execution_count": 1,
   "outputs": [
    {
     "data": {
      "image/png": "[encoded data removed]",
      "text/plain": "<IPython.core.display.Image object>"
     },
     "execution_count": 1,
     "metadata": {},
     "output_type": "execute_result"
    }
   ],
   "source": [
    "from IPython.display import Image\n",
    "Image(\"pictures/problem_10_23.png\")"
   ],
   "metadata": {
    "collapsed": false,
    "ExecuteTime": {
     "end_time": "2023-07-21T04:01:45.004730800Z",
     "start_time": "2023-07-21T04:01:44.675610400Z"
    }
   }
  },
  {
   "cell_type": "code",
   "execution_count": 2,
   "outputs": [
    {
     "name": "stdout",
     "output_type": "stream",
     "text": [
      "I_x = 0.0857142857142857*a*b**3.0\n"
     ]
    }
   ],
   "source": [
    "from sympy import symbols, integrate, fraction, pprint\n",
    "\n",
    "a,b,x,y = symbols('a b x y',positive=True)\n",
    "x_1 = a / b**2 * y**2\n",
    "x_2 = a / b**(1/2) * y**(1/2)\n",
    "dA = (x_2 - x_1)\n",
    "dI_x = y**2 * dA\n",
    "I_x = integrate(dI_x, (y,0,b))\n",
    "\n",
    "pprint(f'I_x = {I_x}')"
   ],
   "metadata": {
    "collapsed": false,
    "ExecuteTime": {
     "end_time": "2023-07-21T04:01:46.804932400Z",
     "start_time": "2023-07-21T04:01:44.701542200Z"
    }
   }
  },
  {
   "cell_type": "markdown",
   "source": [
    "## Section 10.4 Moments of Inertia for Composite Areas\n",
    "* Remember a composite area consists of a series of connected simpler parts or shapes\n",
    "* If the moment of inertia for each part is known or can be determined about a common axis then the moment of inertia of the composite area about this axis is equal to the sum of the moments of inertia for all the parts\n",
    "### Procedure for Analysis - moment of inertia for composite area\n",
    "* Sketch the composite area into its composite parts and indicate perpendicular distance from the centroid of each part to reference axis\n",
    "* If the centroidal axis for each part does not coincide with the reference axis, we need to use the parallel-axis theorem, $I = \\bar I + Ad^2$ to solve for the moment of inertia for the part about the reference axis,$\\bar I$ can be calculated using a table\n",
    "* To obtain the moment of inertia of the entire area about the reference axis, sum all the moments of inertia for all the composite parts about the reference axis\n",
    "* If there is an empty region in a composite part, then its moment of inertia is calculated by subtracting the moment of inertia of this region from the moment of inertia of the entire part, including the empty region\n"
   ],
   "metadata": {
    "collapsed": false,
    "pycharm": {
     "name": "#%% md\n"
    }
   }
  },
  {
   "cell_type": "markdown",
   "source": [
    "# Problem 36\n",
    "Determine the moment of inertia about the $x$ axis."
   ],
   "metadata": {
    "collapsed": false,
    "pycharm": {
     "name": "#%% md\n"
    }
   }
  },
  {
   "cell_type": "code",
   "execution_count": 3,
   "outputs": [
    {
     "data": {
      "image/png": "[encoded data removed]",
      "text/plain": "<IPython.core.display.Image object>"
     },
     "execution_count": 3,
     "metadata": {},
     "output_type": "execute_result"
    }
   ],
   "source": [
    "from IPython.display import Image\n",
    "Image(\"pictures/problem_10_36.png\")"
   ],
   "metadata": {
    "collapsed": false,
    "ExecuteTime": {
     "end_time": "2023-07-21T04:01:46.851806900Z",
     "start_time": "2023-07-21T04:01:46.805930Z"
    }
   }
  },
  {
   "cell_type": "code",
   "execution_count": 4,
   "outputs": [
    {
     "name": "stdout",
     "output_type": "stream",
     "text": [
      "I_x = 511360000.0 mm⁴\n"
     ]
    }
   ],
   "source": [
    "#I_x = \\bar I + Ad_x**2\n",
    "h_1 = 20\n",
    "b_1 = 300\n",
    "h_2 = 360\n",
    "b_2 = 20\n",
    "h_3 = 200\n",
    "d_x_1 = h_3 - 1/2 * h_1\n",
    "d_x_2 = 0\n",
    "A_1 = b_1 * h_1\n",
    "A_2 = b_2 * h_2\n",
    "\n",
    "I_x_1 = 1/12 * b_1 * h_1**3 + A_1 * d_x_1**2\n",
    "I_x_2 = 1/12 * b_2 * h_2**3 + A_2 * d_x_2**2\n",
    "I_x = 2 * I_x_1 + I_x_2\n",
    "print(f'I_x = {I_x} mm\\u2074')"
   ],
   "metadata": {
    "collapsed": false,
    "ExecuteTime": {
     "end_time": "2023-07-21T04:01:46.853802Z",
     "start_time": "2023-07-21T04:01:46.824878400Z"
    }
   }
  },
  {
   "cell_type": "markdown",
   "source": [
    "## Section 10.5 Product of Inertia for an Area\n",
    "* The property of an area, called product of inertia, is needed to calculate the maximum and minimum moments of inertia for the area, these values are important properties used for designing structural and mechanical members\n",
    "* Product of inertia of an area with respect to $x$ and $y$ axes can be defined as $I_{xy} = \\int_A {xydA}$ &emsp; (10-7)\n",
    "* If the element of area has differential size in two directions then double integration is needed to evaluate $I_{xy}$, it is usually easier to choose an element which is only differentiable in size or thickness in one direction therefore only single integration is needed\n",
    "* Product of inertia has units of length to the fourth power\n",
    "* Product of inertia can be positive negative, or zero since $x$ or $y$ can be negative, this depends on the location and orientation of the coordinate axes\n",
    "* Product of inertia will be zero if the $x$ or $y$ axis is an axis of symmetry for the area\n",
    "* The sign of product of inertia depends on which quadrant the area is located\n",
    "* Consider an area where $x'$ and $y'$ represent a set of axes passing through the centroid of the area, $x$ and $y$ represent a corresponding set of parallel axes, the product of inertia of $dA$ with respect to the $x$ and $y$ axes is $dI_{xy} = (x' + d_x) (y' + d_y) dA$, then we can integrate for the entire area to get $I_{xy} = \\int_A{(x' + d_x) (y' + d_y) dA} = \\int_A({x'y'dA)} + d_x \\int_A{(y'dA)} + d_y \\int_A{(x'dA)} + d_x d_y \\int_A dA$\n",
    "* The first term is the product of inertia for the area with respect to the centroidal axes, $\\bar I_{x'y'}$, the middle two integrals are the moments of the area taken about the centroidal axis, and are therefore zero, and the last integral is the entire area $A$, therefore the simplified parallel-axis theorem for product of inertia is $I_{xy} = \\bar I_{x'y'} + A d_x d_y$ &emsp; (10-8)\n",
    "* Need to keep the sign of $d_x$ and $d_y$ through computation"
   ],
   "metadata": {
    "collapsed": false,
    "pycharm": {
     "name": "#%% md\n"
    }
   }
  },
  {
   "cell_type": "markdown",
   "source": [
    "## Section 10.6 Moments of Inertia for an Area about Inclined Axes\n",
    "* Moments and product of inertia $I_u$, $I_v$, and $I_{uv}$ for an area with respect to a set of inclined $u$ and $v$ axes when the values for $\\theta , I_x, I_y, I_{xy}$ are known, can be found using transformation equations that relate $x,y$ coordinates to $u,v$ coordinates\n",
    "* $u = x \\cos\\theta + y\\sin\\theta$ and $v = y \\cos\\theta + x\\sin\\theta$\n",
    "* We can use these equations to find the moment and product of inertia of $dA$ about $u,v$ axes\n",
    "* $dI_u = v^2 dA = (y \\cos \\theta - x \\sin \\theta)^2 dA$, $dI_v = u^2 dA = (x \\cos \\theta + y \\sin \\theta)^2 dA$, $dI_{uv} = uv dA = (x \\cos \\theta + y \\sin \\theta)(y \\cos \\theta - x \\sin \\theta) dA$\n",
    "* Expand each equation and integrate, use equations (10-1) and (10-7) to obtain\n",
    "* $I_u = I_x \\cos^2 \\theta + I_y \\sin^2 \\theta - 2I_{xy} \\sin \\theta \\cos \\theta$\n",
    "* $I_v = I_x \\sin^2 \\theta + I_y \\cos^2 \\theta + 2I_{xy} \\sin \\theta \\cos \\theta$\n",
    "* $I_{uv} = I_x \\sin \\theta \\cos \\theta - I_y \\sin \\theta \\cos \\theta + I_{xy}(\\cos^2 \\theta - \\sin^2 \\theta)$\n",
    "* Use the trig identities $\\sin 2\\theta = 2 \\sin \\theta \\cos \\theta$ and $\\cos 2\\theta = \\cos^2\\theta - \\sin^2\\theta$\n",
    "* $I_u = \\frac{I_x + I_y}{2} + \\frac{I_x - I_y}{2} \\cos 2\\theta - I_{xy} \\sin 2\\theta$, $I_v = \\frac{I_x + I_y}{2} - \\frac{I_x - I_y}{2} \\cos 2\\theta + I_{xy} \\sin 2\\theta$, and $I_{uv} = \\frac{I_x - I_y}{2} \\sin 2\\theta + I_{xy} \\cos 2\\theta$ &emsp; (10-9)\n",
    "* We can show that the polar moment of inertia about the $z$ axis passing through point $O$ is independent of the orientation of $u$ and $v$ axes by adding the first and second equations together, $J_O = I_u + I_v = I_x + I_y$\n",
    "* These equations show that they are independent of the angle of inclination $\\theta$\n",
    "* When the moments of inertia for the area are at the maximum and minimum, these axes are called the principal axes of the area and the moments of inertia are called the principal moments of inertia\n",
    "* The angle that defines the orientation of the principal axes is found by differentiation the first equation of (10-9) with respect to $\\theta$ and setting it to zero, $\\frac{dI_u}{d\\theta} = -2\\frac{I_x - I_y}{2} \\sin 2\\theta - 2I_{xy} \\cos 2\\theta = 0$\n",
    "* When $\\theta = \\theta_p$ then $\\tan 2\\theta_p = \\frac{-I_{xy}}{(I_x - I_y)/2}$ &emsp; (10-10)\n",
    "* The roots $\\theta_{p1}$ and $\\theta_{p2}$ are $90$&deg; apart, therefore they each specify the inclination of one of the principal axes, to find $\\sin 2\\theta_{p1}$,$\\sin 2\\theta_{p2}$, $\\cos 2\\theta_{p1}$, and $\\sin 2\\theta_{p2}$ use ratios from the triangles which are based on (10-10)\n",
    "* Substitute these into (10-9) to obtain $I_{max/min} = \\frac{I_x + I_y}{2} \\pm \\sqrt{(\\frac{I_x - I_y}{2})^2 + I^2_{xy}}$ &emsp; (10-11)\n",
    "* We can show $I_{uv} = 0$ by substituting the trig relations for $\\theta_{p1}$ and $\\theta_{p2}$ into the last equation of (10-9), as stated in section 10.6 the product of inertia is zero with respect to any symmetrical axis, therefore any symmetrical axis represent a principal axis of inertia for the area"
   ],
   "metadata": {
    "collapsed": false,
    "pycharm": {
     "name": "#%% md\n"
    }
   }
  },
  {
   "cell_type": "markdown",
   "source": [
    "## Section 10.7 Mohr's Circle for Moments of Inertia\n",
    "* Squaring the first and last equation of (10-9) and adding them you get $(I_u - \\frac{I_x + I_y}{2})^2 + I^2_{uv} = (\\frac{I_x - I_y}{2})^2 + I^2_{xy}$, when $I_x, I_y, I_{xy}$ are known constants then the equation is $(I_u - a)^2 + I^2_{uv} = R^2$\n",
    "* We can plot this equation on a set of axes, the plot represents the respective moment of inertia and the product of inertia, the graph is the circle with radius $R = \\sqrt{(\\frac{I_x - I_y}{2})^2 + I^2_{xy}}$\n",
    "* The circle center is located at $(0,a)$ with $a = \\frac{(I_x + I_y)}{2}$, circle is called Mohr's circle\n",
    "### Procedure for Analysis - principal moments of inertia\n",
    "* Establish $x,y$ axes then determine $I_x, I_y, I_{xy}$\n",
    "* Create rectangular coordinate system so the horizontal axis represents the moment of inertia $I$ while the vertical axis represents the product of inertia $I_{xy}$\n",
    "* Find the circle's center $O$, that is located distance $\\frac{(I_x + I_y)}{2}$ from the origin and plot reference point $A$ with coordinates $(I_x,I_{xy})$, $I_x$ is positive, but $I_{xy}$ can be positive or negative\n",
    "* Connect reference point $A$ to center of the circle, and determine distance $OA$ by trigonometry, this distance is the radius of the circle, now draw the circle\n",
    "* Points in which the circle intersects the $I$ axis give the values for principal moments, at these points product of inertia is zero\n",
    "* The orientation of the major principal axis can be found using trigonometry to find angle $2\\theta_{p1}$, measured from the radius $OA$ to positive $I$ axis, this angle represents twice the angle from the $x$ axis to the axis of maximum moment of inertia $I_{max}$, the angle on the circle $2\\theta_{p1}$ and angle $\\theta_{p1}$ must be measured in same sense, axis for minimum moment of inertia is perpendicular to axis for maximum moment of inertia"
   ],
   "metadata": {
    "collapsed": false,
    "pycharm": {
     "name": "#%% md\n"
    }
   }
  },
  {
   "cell_type": "markdown",
   "source": [
    "# Problem 64\n",
    "Determine the product of inertia for the beam's cross-sectional area with respect to the $u$ and $v$ axes."
   ],
   "metadata": {
    "collapsed": false,
    "pycharm": {
     "name": "#%% md\n"
    }
   }
  },
  {
   "cell_type": "code",
   "execution_count": 5,
   "outputs": [
    {
     "data": {
      "image/png": "[encoded data removed]",
      "text/plain": "<IPython.core.display.Image object>"
     },
     "execution_count": 5,
     "metadata": {},
     "output_type": "execute_result"
    }
   ],
   "source": [
    "from IPython.display import Image\n",
    "Image(\"pictures/problem_10_64.png\")"
   ],
   "metadata": {
    "collapsed": false,
    "ExecuteTime": {
     "end_time": "2023-07-21T04:01:46.856795300Z",
     "start_time": "2023-07-21T04:01:46.838841400Z"
    }
   }
  },
  {
   "cell_type": "code",
   "execution_count": 6,
   "outputs": [
    {
     "name": "stdout",
     "output_type": "stream",
     "text": [
      "I = 135345359.10 mm⁴\n"
     ]
    }
   ],
   "source": [
    "import numpy as np\n",
    "h_1 = 20\n",
    "b_1 = 300\n",
    "h_2 = 360\n",
    "b_2 = 20\n",
    "h_3 = 400\n",
    "b_3 = 300\n",
    "h_4 = h_3 - 2 * h_1\n",
    "b_4 = b_1 / 2 - b_2/2\n",
    "d_y_1 = h_3 - 1/2 * h_1\n",
    "d_y_2 = 0\n",
    "A_1 = b_1 * h_1\n",
    "A_2 = b_2 * h_2\n",
    "theta = np.radians(20)\n",
    "\n",
    "I_x_1 = 1/12 * b_3 * h_3**3\n",
    "I_x_2 = 1/12 * b_4 * h_4**3\n",
    "I_x = I_x_1 - 2 * I_x_2\n",
    "\n",
    "I_y_1 = 1/12 * h_1 * b_1**3\n",
    "I_y_2 = 1/12 * h_2 * b_2**3\n",
    "I_y = 2 * I_y_1 + I_y_2\n",
    "\n",
    "I_xy = 0\n",
    "\n",
    "I = (I_x - I_y)/2 * np.sin(2 * theta)  + I_xy * np.cos(2 * theta)\n",
    "print(f'I = {I:.2f} mm\\u2074')"
   ],
   "metadata": {
    "collapsed": false,
    "ExecuteTime": {
     "end_time": "2023-07-21T04:01:46.961514200Z",
     "start_time": "2023-07-21T04:01:46.855796400Z"
    }
   }
  },
  {
   "cell_type": "markdown",
   "source": [
    "## Section 10.8 Mass Moment of Inertia\n",
    "* Mass moment of inertia of a body - measure of the body's resistance to angular acceleration, used in dynamics to study rotational motion\n",
    "* Mass moment of inertia of a body about $z$ axis is defined as $I = \\int_m r^2dm$ &emsp; (10-12)\n",
    "* $r$ is the perpendicular distance from the axis to arbitrary element $dm$, $I$ is unique for each axis about which it is computed since $r$ changes\n",
    "* The most common axis it is computed about passes through the body's mass center $G$\n",
    "* Units are mass times length squared\n",
    "* When the body has density $\\rho$, then $dm = \\rho dV$ we can substitute this in (10-12), now we use the volume elements for integration, to obtain $I = \\int_V{r^2\\rho dV}$ &emsp; (10-13)\n",
    "* Usually $\\rho$ is constant so it can be factored out to become $I = \\rho \\int_V {r^2 dV}$ &emsp; (10-14)\n",
    "### Procedure for Analysis - mass moment of inertia where the body is symmetrical to an axis\n",
    "#### Shell Element\n",
    "* Let shell element have height $z$, radius $y$ and thickness $dy$ be chosen for integration, the volume is $dV = (2 \\pi y)(z)dy$\n",
    "* We can use this element in (10-13) or (10-14) to determine moment of inertia $I_z$ of the body about the $z$ axis since the entire element lies at the same perpendicular distance $r=y$ from the $z$ axis, this is due to the fact that it is thin\n",
    "#### Disk Element\n",
    "* Let disk element with radius $y$ and thickness $dz$ be chosen for integration, its volume is $dV = (\\pi y^2) dz$\n",
    "* The element is finite in the radial direction, and therefore its points do not all lie at the same radial distance $r$ from the $z$ axis, because of this (10-13) or (10-14) cannot be used. Instead, to integrate we have to determine the moment of inertia of the element about the $z$ axis and then integrate this result"
   ],
   "metadata": {
    "collapsed": false,
    "pycharm": {
     "name": "#%% md\n"
    }
   }
  },
  {
   "cell_type": "markdown",
   "source": [
    "# Problem 109\n",
    "Determine the moment of inertia $I_z$ of the frustrum of the cone which has a conical depression. The material has a density of $200 \\textrm{ kg/m}^3$"
   ],
   "metadata": {
    "collapsed": false,
    "pycharm": {
     "name": "#%% md\n"
    }
   }
  },
  {
   "cell_type": "code",
   "execution_count": 7,
   "outputs": [
    {
     "data": {
      "image/png": "[encoded data removed]",
      "text/plain": "<IPython.core.display.Image object>"
     },
     "execution_count": 7,
     "metadata": {},
     "output_type": "execute_result"
    }
   ],
   "source": [
    "from IPython.display import Image\n",
    "Image(\"pictures/problem_10_109.png\")"
   ],
   "metadata": {
    "collapsed": false,
    "ExecuteTime": {
     "end_time": "2023-07-21T04:01:46.997417500Z",
     "start_time": "2023-07-21T04:01:46.962511700Z"
    }
   }
  },
  {
   "cell_type": "code",
   "execution_count": 8,
   "outputs": [
    {
     "name": "stdout",
     "output_type": "stream",
     "text": [
      "I_z = 34.22 kg m²\n"
     ]
    }
   ],
   "source": [
    "from scipy.optimize import fsolve\n",
    "import numpy as np\n",
    "\n",
    "def z_function(z):\n",
    "    return z/.2 - (z+1)/.8\n",
    "z = fsolve(z_function,0)[0]\n",
    "\n",
    "\n",
    "density = 200\n",
    "radius_1 = 800e-3\n",
    "radius_2 = 200e-3\n",
    "radius_3 = 200e-3\n",
    "height_1 = 1000e-3\n",
    "height_2 = z\n",
    "height_3 = 600e-3\n",
    "\n",
    "mass_1 = np.pi/3 * radius_1**2 * (height_1+z) * density\n",
    "mass_2 = np.pi/3 * radius_2**2 * z * density\n",
    "mass_3 = np.pi/3 * radius_3**2 * height_3 * density\n",
    "\n",
    "I_z = 3/10 * (mass_1 * radius_1**2 - mass_2 * radius_2**2 - mass_3 * radius_3**2)\n",
    "print(f'I_z = {I_z:.2f} kg m\\u00b2')"
   ],
   "metadata": {
    "collapsed": false,
    "ExecuteTime": {
     "end_time": "2023-07-21T04:01:47.153511Z",
     "start_time": "2023-07-21T04:01:46.980464600Z"
    }
   }
  }
 ],
 "metadata": {
  "kernelspec": {
   "display_name": "Python 3",
   "language": "python",
   "name": "python3"
  },
  "language_info": {
   "codemirror_mode": {
    "name": "ipython",
    "version": 2
   },
   "file_extension": ".py",
   "mimetype": "text/x-python",
   "name": "python",
   "nbconvert_exporter": "python",
   "pygments_lexer": "ipython2",
   "version": "2.7.6"
  }
 },
 "nbformat": 4,
 "nbformat_minor": 0
}
