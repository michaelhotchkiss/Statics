{
 "cells": [
  {
   "cell_type": "markdown",
   "source": [
    "# Chapter 7 Internal Forces"
   ],
   "metadata": {
    "collapsed": false,
    "pycharm": {
     "name": "#%% md\n"
    }
   }
  },
  {
   "cell_type": "markdown",
   "source": [
    "## Section 7.1 Internal Loadings Developed in Structural Members\n",
    "* Internal loadings can be determined using method of sections, need to know internal forces to know if the material can resist the loading\n",
    "* Force $\\vec N_B$ acts perpendicular to the cross-section, called normal force\n",
    "* Force $\\vec V_B$ acts tangent to the cross-section, called shear force\n",
    "* Couple moment $\\vec M_B$ is called bending moment\n",
    "* These force components prevent translation between the two segments, and couple moment prevents rotation\n",
    "* As a result of Newton's third law these loadings must act in opposite directions on each segment, can be determined by using equations of equilibrium\n",
    "* Direct solution for $\\vec N_B$, solve $\\sum F_x = 0$ where x is the axis in which only $\\vec N_B$ is on, to find $\\vec M_B$ apply $\\sum M_B = 0$ since moments of $\\vec N_B$ and $\\vec V_B$ about point $B$ i $0$, $B$ is the point of the cut\n",
    "* In 2D - 3 internal loading resultants\n",
    "* In 3D - 1 general resultant internal force and 1 couple moment resultant\n",
    "* If $\\vec N_y$ is the normal force then $\\vec V_x$ and $\\vec V_z$ are shear force components, $\\vec M_y$ is torsional or twisting moment, $\\vec M_x$ and $\\vec M_y$ are bending moment components\n",
    "* In most applications these resultant loadings act at the geometric center of the section's cross-sectional area\n",
    "* The magnitude for each loading can be different at various points along the axis of the member, we can use the method of sections to determine their values\n",
    "* The normal force is positive if it creates tension\n",
    "* Shear force is positive if it causes the beam segment to rotate clockwise\n",
    "* Bending moment is positive if it tends to bend the segment in a concave upward manner\n",
    "* 4 types of resultant internal loads in a member - normal and shear force, bending and torsional moments\n",
    "* Procedure for Analysis\n",
    "    * Determine support reactions\n",
    "    * FBD - keep all distributed loadings, couple moments, and forces acting on the member in the exact locations, then pass an imaginary section perpendicular to its axis at the point where the internal loadings will be determined\n",
    "    * FBD - draw FDB of the segment that has the least number of loads on it, indicate the components of the internal force and couple moment resultants at tge cross-section acting in their positive directions in accordance with the established sign convention\n",
    "    * Equations of Equilibrium - sum moments at the section, so normal and shear forces at the section are 0, therefore direct solution for moment\n",
    "    * Equations of Equilibrium - if the solution to the equations yields a negative scalar, the sense of the quantity is opposite to what is in the FBD"
   ],
   "metadata": {
    "collapsed": false,
    "pycharm": {
     "name": "#%% md\n"
    }
   }
  },
  {
   "cell_type": "markdown",
   "source": [
    "## Section 7.2 Shear and Moment Equations and Diagrams\n",
    "* Beam - Structural members designed to support loadings applied perpendicular to their axes, usually long and straight and have constant cross-sectional area\n",
    "* Simply supported beam - pinned at one end and roller supported at the other\n",
    "* Cantilevered beam - fixed at one end and free at the other\n",
    "* To design a beam you need detailed knowledge of the variation of the internal shear force $V$ and bending moment $M$ acting at each point along the axis of the beam\n",
    "* Variations of $V$ and $M$ along beam's axis can be determined by method of sections, can get $V$ and $M$ as functions of $x$, where x is distance\n",
    "* Internal shear and bending moment functions will be discontinuous, slopes will be discontinuous at points where a distributed load changes or concentrated forces or couple moments are applied, as a result these functions need to be determined for each segment of the beam inbetween two discontinuities of loading\n",
    "* Plotting these functions vs x, the graphs are called shear diagram and bending-moment diagram\n",
    "* These graphs show how internal shear and moment vary throughout the beam's length\n",
    "* If load on the beam suddenly changes then regions between each load must be selected to obtain each function of x\n",
    "* Procedure for Analysis - constructing diagrams\n",
    "    * Support Reactions - determine all reactive forces and couple moments acting on the beam and resolve all the forces into components acting perpendicular and parallel to the beam's axis\n",
    "    * Shear and Moment Functions - specify coordinates $x$ with origin at beam's left end and extending to regions of the beam between concentrated forces and couple moments, where distributed loading is continuous\n",
    "    * Shear and Moment Functions - section the beam at each distance $x$ and draw FBD of one of the segments, show $\\vec V$ and $\\vec M$ in positive sense\n",
    "    * Shear and Moment Functions - shear $V$ is obtained by summing forces perpendicular to the beam's axis, moment $M$ is obtained by summing moments about the sectioned end of the segment\n",
    "    * Shear and Moment Diagrams - plot shear diagram (V vs x) and moment diagram (M vs x), if values of $V$ and $M$  are positive the values are plotted above the $x$ axis"
   ],
   "metadata": {
    "collapsed": false,
    "pycharm": {
     "name": "#%% md\n"
    }
   }
  },
  {
   "cell_type": "markdown",
   "source": [
    "Problem 59\n",
    "Draw the shear and moment diagrams for the beam.\n",
    "<img src=\"pictures\\problem_7_59.png\" width=\"512\"/>\n"
   ],
   "metadata": {
    "collapsed": false,
    "pycharm": {
     "name": "#%% md\n"
    }
   }
  },
  {
   "cell_type": "code",
   "execution_count": null,
   "outputs": [],
   "source": [
    "import numpy as np\n",
    "import scipy.integrate as integrate\n",
    "import matplotlib.pyplot as plt\n",
    "M = 180\n",
    "w = 30\n",
    "d_1 = 9\n",
    "d_2 = 4.5\n",
    "\n",
    "equation = lambda x: 30/9 * x\n",
    "x_w = lambda x: x * 30/9 * x\n",
    "force_R = integrate.quad(equation, 0, 9)[0]\n",
    "x_position = integrate.quad(x_w, 0, 9)[0] / force_R\n",
    "\n",
    "\n",
    "# sum moment about A\n",
    "B_y = (M + force_R * x_position) / d_1\n",
    "# sum F_y at A\n",
    "A_y = -B_y + 1/2 * w * d_1\n",
    "# sum F_y on AB\n",
    "# V = A_y - 1/2 * w / d_1 * x**2\n",
    "# V = 0\n",
    "x = np.sqrt(25/(w * 0.5 / d_1))\n",
    "# sum moment about AB\n",
    "#M_1 = A_y * x - 1/2 * (w * x / d_1) * x * x/3\n",
    "#M_1= A_y * x - 1/2 * (w/d_1)/3 * x**3\n",
    "# sum F_y on BC\n",
    "# V = A_y - 1/2 * w * d_1 + B_y = 0, V = 0\n",
    "V_BC = 0\n",
    "#sum moment about BC\n",
    "M_BC = 25 * x + -1/2 * w * d_1 * (x-6) + B_y * (x-9)\n",
    "x_1 = np.linspace(0,d_1,20)\n",
    "y_V1 = A_y - 1/2 * w / d_1 * x_1**2\n",
    "y_M1 = A_y * x_1 - 1/2 * (w/d_1)/3 * x_1**3\n",
    "x_2 = np.linspace(d_1,d_1+d_2,20)\n",
    "y_V2 = 0 * x_2\n",
    "y_M2 = np.repeat(-180,19)\n",
    "y_M3 = 0\n",
    "x_3 = np.hstack((x_1,x_2))\n",
    "v_3 = np.hstack((y_V1,y_V2))\n",
    "m_3 = np.hstack((y_M1,y_M2,y_M3))\n",
    "plt.plot(x_3 ,v_3)\n",
    "plt.plot(x_3,m_3)\n",
    "plt.legend(['V','M'])\n",
    "plt.show()"
   ],
   "metadata": {
    "collapsed": false,
    "pycharm": {
     "name": "#%%\n"
    }
   }
  },
  {
   "cell_type": "markdown",
   "source": [
    "## Section 7.3 Relations between Distributed Load, Shear, and Moment\n",
    "* Simpler method for creating these diagrams - based on differential relations that exist between the load, shear, and bending moment\n",
    "* Consider a beam with load $w = w(x)$ and a series of concentrated forces and couple moments, distributed load will be positive when loading acts upward\n",
    "* Create a FBD for a segment of the beam with length $\\Delta x$ is chosen at a point $x$ along the beam which is not subjected to a concentrated force or couple moment, these results will not apply at these points of concentrated loading, internal shear force and bending moment in FBD will be assumed to act in positive sense, shear force and moment acting on the right hand side must be increased by a small finite amount to keep segment in equilibrium, the distributed loading can be replaced by resultant force $\\Delta F = w(x) \\Delta x$ that acts at a fractional distance $k(\\Delta x)$ from the right end, $ 0 < k < 1$, if $w(x)$ is uniform $k = \\frac{1}{2}$\n",
    "* Relation between the Distributed Load and Shear\n",
    "    * Use force equation of equilibrium - $\\sum F_y = 0 \\Rightarrow V + w(x) \\Delta x - (V + \\Delta V) = 0 \\Rightarrow \\Delta V = w(x) \\Delta x$, dividing by $\\Delta x$ and letting $\\Delta x \\rightarrow 0$, $\\frac{dV}{dx} = w(x)$, slope of shear diagram = distributed load intensity\n",
    "    * We can rewrite the equation and perform integration between two points on the beam, $\\Delta V = \\int{w(x)dx}$, change in shear = area under loading curve\n",
    "* Relation between the Shear and Moment\n",
    "    * Use moment equation of equilibrium about point $O$ on the FBD, $O$ is on the right edge of the segment in the middle, $\\sum M_O = 0 \\Rightarrow (M + \\Delta M) - (w(x) \\Delta x) k \\Delta x - V \\Delta x - M = 0 \\Rightarrow \\Delta M = V \\Delta x + kw(x) \\Delta x ^2$, dividing by $\\Delta x$ and let $\\Delta x \\rightarrow 0$, $\\frac{dM}{dx} = V$, slope of moment diagram = shear, maximum bending moment will happen where $\\frac{dM}{dx} = 0$ since this is where shear is $0$, can integrate this equation between two points on the beam, $\\Delta M = \\int{Vdx}$, change in moment = area under shear diagram\n",
    "      * The above equations do not apply at points where a concentrated force or couple moment acts, these create discontinuities in the shear and moment diagrams, each need separate treatment\n",
    "* Force - FBD of small segment of beam under one of the forces, force equilibrium requires $\\sum F_y = 0 \\Rightarrow \\Delta V = F$, change in shear is positive the shear diagram will go upward when $\\vec F$ acts upward on the beam, the jump in shear $\\Delta V$ is downward when $\\vec F$ acts downward\n",
    "* Couple Moment - remove a segment of the beam that is located at the couple moment $\\vec M_O$, let $\\Delta x \\rightarrow 0$, then $\\sum M = 0 \\Rightarrow \\Delta M = M_0$, change in moment is positive, moment diagram will go upward if $\\vec M_0$ is clockwise, jump $\\Delta M$ is downward when $\\vec M_O$ is counterclockwise\n",
    "* points of zero shear imply the points of maximum or minimum moment since $\\frac{dM}{dx}= 0$"
   ],
   "metadata": {
    "collapsed": false,
    "pycharm": {
     "name": "#%% md\n"
    }
   }
  },
  {
   "cell_type": "markdown",
   "source": [
    "Problem 85\n",
    "Draw the shear and moment diagrams for the beam.\n",
    "<img src=\"pictures\\problem_7_85.png\" width=\"512\"/>\n"
   ],
   "metadata": {
    "collapsed": false,
    "pycharm": {
     "name": "#%% md\n"
    }
   }
  },
  {
   "cell_type": "markdown",
   "source": [
    "# Solve for reaction forces\n",
    "\n",
    "$\\begin{array}{llll}\n",
    "F_L &= \\int_0^3 600 \\frac{x - 0}{3 - 0} dx   &= \\frac{600}{3} \\frac{1}{2}(3^2 - 0^2)  &= 900 \\textrm{ lb} \\\\\n",
    "F_M &= \\int_3^9 600 dx = 600 (9 - 3)         &= 3600 \\textrm{ lb} \\\\\n",
    "F_R &= \\int_9^12 600 \\frac{12 - x}{12 - 9}dx &= \\frac{600}{3} \\left[ 12(12 - 9) - \\frac{1}{2}(12^2 -9^2) \\right]\n",
    "                                             &= 200 \\left(12 \\cdot 3 - \\frac{144 - 81}{2} \\right)\n",
    "                                             = 200 (36 - 63/2)\n",
    "                                             = 100 (72 - 63)\n",
    "                                             = 900 \\textrm{ lb} \\\\\n",
    "\\sum F                  &= N_B + N_A - F_L - F_M - F_R        &= 0 \\\\\n",
    "\\end{array}$\n"
   ],
   "metadata": {
    "collapsed": false,
    "pycharm": {
     "name": "#%% md\n"
    }
   }
  },
  {
   "cell_type": "markdown",
   "source": [
    "#  Analyze by section using cross-section diagrams\n",
    "\n",
    "## Left section\n",
    "\n",
    "## Middle section\n",
    "\n"
   ],
   "metadata": {
    "collapsed": false,
    "pycharm": {
     "name": "#%% md\n"
    }
   }
  },
  {
   "cell_type": "markdown",
   "source": [
    "## Right section\n",
    "\n",
    "$\\begin{array}{ll}\n",
    "\\sum F = - F_L + N_B - F_M + N_A - F_R(x) - V & = 0 \\\\\n",
    "\\Rightarrow V &= F_L + F_M - N_B - N_A + \\int_9^x 600 \\frac{12 - x}{12 - 9}dx \\\\\n",
    "\\,            &= (F_L + F_M  - N_B - N_A) + \\frac{600}{3} \\left. \\left( 12 x - \\frac{1}{2}x^2 \\right) \\right|_9^x \\\\\n",
    "\\,            &= (F_L + F_M  - N_B - N_A) + 200 \\left[ 12 x - \\frac{x^2}{2} - 12 \\cdot 9 + \\frac{9^2}{2} \\right] \\\\\n",
    "\\,            &= (900 + 3600  - 2700 - 2700) + 200 \\left[ 12 x - \\frac{x^2}{2} - 108 + 40.5 \\right] \\\\\n",
    "\\,            &= (900 + 3600  - 2700 - 2700) + 200 \\left[ 12 x - \\frac{x^2}{2} - 108 + 40.5 \\right] \\\\\n",
    "\\,            &= -900 - 13500 + 2400 x - 100 x^2 \\\\\n",
    "\\,            &= -14400 + 2400 x - 100 x^2 \\\\\n",
    "\\,            &= -100 (x^2 - 24 x + 144) \\\\\n",
    "\\,            &= -100 (x - 12)^2 \\\\\n",
    "\\end{array}$"
   ],
   "metadata": {
    "collapsed": false,
    "pycharm": {
     "name": "#%% md\n"
    }
   }
  },
  {
   "cell_type": "code",
   "execution_count": 22,
   "outputs": [
    {
     "data": {
      "text/plain": "<Figure size 640x480 with 1 Axes>",
      "image/png": "[encoded data removed]"
     },
     "metadata": {},
     "output_type": "display_data"
    }
   ],
   "source": [
    "import numpy as np\n",
    "import matplotlib.pyplot as plt\n",
    "from scipy import integrate\n",
    "w = 600\n",
    "d_1 = 3\n",
    "d_2 = 6\n",
    "d_3 = 3\n",
    "positions = {\n",
    "    'A': np.array([d_1 + d_2]),\n",
    "    'B': np.array([d_1]),\n",
    "    'C': np.array([0]),\n",
    "    'D': np.array([d_1 + d_2 + d_3]),\n",
    "}\n",
    "#F_R_CB\n",
    "equation_CB = lambda x: 600/3 * x\n",
    "x_w_CB = lambda x: x * 600/3 * x\n",
    "force_R_CB = integrate.quad(equation_CB, 0, 3)[0]\n",
    "positions['F_R_CB'] = integrate.quad(x_w_CB, 0, 3)[0] / force_R_CB\n",
    "#F_R_BA\n",
    "equation_BA = lambda x: 600\n",
    "x_w_BA = lambda x: x * 600\n",
    "force_R_BA = integrate.quad(equation_BA, 3, 9)[0]\n",
    "positions['F_R_BA'] = integrate.quad(x_w_BA, 3, 9)[0] / force_R_BA\n",
    "#F_R_AD\n",
    "equation_AD = lambda x: 600/3 * (x-9)\n",
    "x_w_AD = lambda x: 600/3 * (x-9)**2\n",
    "force_R_AD = integrate.quad(equation_AD, 9, 12)[0]\n",
    "positions['F_R_AD'] = d_1 + d_2 + d_3 - integrate.quad(x_w_AD, 9, 12)[0] / force_R_AD\n",
    "\n",
    "x_1 = np.linspace(0,d_1)\n",
    "x_2 = np.linspace(d_1, d_1 + d_2)\n",
    "x_3 = np.linspace(d_1 + d_2,d_1 + d_2 + d_3)\n",
    "\n",
    "#moment about A\n",
    "N_B = (force_R_BA * (positions['A'] - positions['F_R_BA']) + force_R_CB * (positions['A'] - positions['F_R_CB']) - force_R_AD * (positions['F_R_AD'] - positions['A'])) / (positions['A'] - positions['B'])\n",
    "#moment about B\n",
    "A_y = (-force_R_CB * (positions['B'] - positions['F_R_CB']) + force_R_BA * (positions['F_R_BA'] - positions['B']) + force_R_AD * (positions['F_R_AD'] - positions['B'])) / (positions['A'] - positions['B'])\n",
    "\n",
    "# sum of F_y on CB\n",
    "# V_x_CB = -1/2 * w * x_1/d_1 * x_1 = -100*x_1**2\n",
    "V_x_CB = -100 * x_1**2\n",
    "\n",
    "# moment about CB\n",
    "# M_x_CB = -1/2 * w* x_1/d_1 * 1/3 * x_2 = -100*x_1**3/3\n",
    "M_x_CB = -100 * x_1**3 / 3\n",
    "\n",
    "# sum F_y on BA\n",
    "# V_x_BA = -force_R_CB + N_B - (x_2-3) * w = 1800 - 600(x_2-3)\n",
    "V_x_BA = -force_R_CB + N_B - w * (x_2-3)\n",
    "\n",
    "# moment about BA\n",
    "# M_x_BA = -force_R_CB * (x-2)) + N_B * (x-3) - w * (x-3) * (x-3)/2 = -900(x-2) + N_B(x-3) - w/2 * (x-3)**2\n",
    "M_x_BA = -force_R_CB * (x_2-2) + N_B * (x_2 - 3) - w/2 * (x_2 - 3)**2\n",
    "\n",
    "# sum of F_y on AD\n",
    "load = lambda x: 600 * (12-x)/(12-9)\n",
    "random = []\n",
    "for x in x_3:\n",
    "    random.append(integrate.quad(load, 9, x)[0])\n",
    "random = np.array(random)\n",
    "V_x_AD = random + force_R_BA + force_R_CB - N_B - A_y\n",
    "\n",
    "# moment about AD\n",
    "# M_x_AD = -1/2 * 600x/3 * x * 1/3 * x = -100x**3/3\n",
    "M_x_DA = random * (x_3 - positions['F_R_AD']) + force_R_BA * (x_3 - positions['F_R_BA']) + force_R_CB * (x_3 - positions['F_R_CB'] ) - N_B * (x_3 - positions['B'] ) - A_y * (x_3 - positions['A'])\n",
    "\n",
    "\n",
    "zeros = np.repeat(0,150)\n",
    "x_4 = np.hstack((x_1,x_2,x_3))\n",
    "V_x = np.hstack((V_x_CB,V_x_BA,V_x_AD))\n",
    "M_x = np.hstack((M_x_CB,M_x_BA,M_x_DA))\n",
    "plt.plot(x_4,V_x)\n",
    "# plt.plot(x_4,zeros)\n",
    "plt.plot(x_4,M_x)\n",
    "plt.legend([r'$V_x$',r'$M_x$'])\n",
    "plt.show()"
   ],
   "metadata": {
    "collapsed": false,
    "pycharm": {
     "name": "#%%\n"
    },
    "ExecuteTime": {
     "end_time": "2023-06-15T20:39:05.099420800Z",
     "start_time": "2023-06-15T20:39:04.646653500Z"
    }
   }
  },
  {
   "cell_type": "markdown",
   "source": [
    "## Section 7.4 Cables\n",
    "* Flexible cables combine strength with lightness and are used in structures for support and to transmit loads from one member to another\n",
    "* When cables are used to support suspension bridges and trolley wheels, the cables form the main load-carrying element of the structure\n",
    "* When doing force analysis of the system the weight of the cable can be neglected since it is small compared to the load\n",
    "* When cables are used as transmission lines the cable weigh may be needed for analysis\n",
    "* 3 cases will be considered in the analysis, in each case we will assume the cable is perfectly flexible and inextensible, due to flexibility the cable offers no resistance to bending, therefore the tensile force acting in the cable is tangent to the cable at points along its length, since it is inextensible the cable has a constant length before and after the load is applied, as a result once the load is applied the geometry of the cable is unchanged and the cable can be treated as a rigid body\n",
    "### Cable Subjected to Concentrated Loads\n",
    " * When a cable with negligible weight supports several concentrated loads, the cable takes form of several straight-line segments, each is subjected to a constant tensile force\n",
    " * Consider a cable with end points $A$ and $B$ with a point $C$ where a load, $\\vec P$ is applied, the sag $y_C$ is the distance between the y value of $A$ and the y value of $C$, $A$ has 2 components of reaction and $B$ has 2 components of reaction as well, each segment contains a tension force, total of 7 unknowns, to solve we can write 2 equations of equilibrium at each point, the last equation requires us to know something about the geometry of the cable, if we know the total length of cable we can use pythagorean theorem to relate each of the 2 segmental lengths, in terms of $h$ which is the y difference of $A$ and $B$, $y_C$ and $L_1$ and $L_2$ which are the lengths of the 2 segments, to the total length $L$. If $y_B$ is known the equilibrium equations are sufficient for obtaining the unknown forces, the length of the cable can be determined by trigonometry\n",
    "### Cable Subjected to a Distributed Load\n",
    "* Consider a weightless cable which is subjected to a distributed loading $w = w(x)$ that is measured in $x$ direction, the FBD of a small segment of the cable with length $\\Delta s$, the tensile force changes in magnitude and direction along the cable's length, we denote this change as $\\Delta T$ on the FBD, the distributed load is represented by its resultant force $w(x) \\Delta x$ which acts at a fractional distance $k(\\Delta x)$ from $O$, where $O$ is the right end point of the segment, $ 0<k<1$, apply equations fo equilibrium\n",
    "    * $\\sum F_x = 0, -T \\cos{\\theta} + (T + \\Delta T) \\cos{(\\theta + \\Delta \\theta)} = 0$\n",
    "    * $\\sum F_y = 0, - T \\sin{\\theta} - w(x)(\\Delta x) +  (T + \\Delta T) \\sin{(\\theta + \\Delta \\theta)} = 0$\n",
    "    * $\\sum M_O = 0, w(x)(\\Delta x)k(\\Delta x) - T \\cos \\theta \\Delta y + T \\sin \\theta \\Delta x = 0$\n",
    "* Divide each equation by $\\Delta x$ and take the limit as $\\Delta x \\rightarrow 0$, and therefore $\\Delta y \\rightarrow 0$, $\\Delta \\theta \\rightarrow 0$, and $\\Delta T \\rightarrow 0$ and we obtain\n",
    "    * $\\frac{d(T \\cos \\theta)}{dx} = 0$   &emsp;  (7-7)\n",
    "    * $\\frac{d(T \\sin \\theta)}{dx} - w(x) = 0$   &emsp;   (7-8)\n",
    "    * $\\frac{dy}{dx} = \\tan \\theta$   &emsp;  (7-9)\n",
    "* Integrating the first 2 equations we obtain\n",
    "    * $T \\cos \\theta = constant = F_H$, $F_H$  &emsp; (7-10) is the horizontal component of tensile force at any point along the cable\n",
    "    * $T \\sin \\theta = \\int{w(x)dx}$  &emsp;  (7-11)\n",
    "* Dividing (7-11) by (7-10) eliminates $T$ then using (7-9) we can obtain the slope of the cable\n",
    "    * $\\tan \\theta = \\frac{dy}{dx} = \\frac{1}{F_H} \\int{w(x)dx}$\n",
    "* Integrating again  yields\n",
    "    * $y = \\frac{1}{F_H} \\int({\\int{w(x)dx})dx}$ &emsp; (7-12)\n",
    "* This equation is used to determine the curve for the cable $y=f(x)$ the horizontal force component $F_H$ and the additional two constants $C_1$ and $C_2$ resulting from the integration are determined by applying the boundary conditions for the curve\n",
    "### Cable Subjected to Its Own Weight\n",
    "* Consider a cable and the weight of the cable is important in the force analysis, the loading function along the cable will be a function of the arc length $s$ rather than the projected length $x$, consider a generalized loading function $w = w(s)$ acting along the cable, draw FBD for a small segment $\\Delta s$, applying the equations of equilibrium to the force system on the FBD, we can obtain relationships identical t (7-7) through (7-9), but with $s$ in place of $x$ in (7-7) and (7-8), we can show\n",
    "    * $T \\cos \\theta = F_H$\n",
    "    * $T \\sin \\theta = \\int{w(s)ds}$ &emsp;  (7-13)\n",
    "    * $\\frac{dy}{dx} = \\frac{1}{F_H} \\int{w(s)ds}$ &emsp;  (7-14)\n",
    "* To perform integration of (7-14) we need to replace $\\frac{dy}{dx}$ by $\\frac{ds}{dx}$ since $ds = \\sqrt{dx^2+dy^2}$, then $\\frac{dy}{dx} = \\sqrt{\\frac{ds}{dx}^2 - 1}$\n",
    "* Therefore\n",
    "    * $\\frac{ds}{dx} = [1 + \\frac{1}{F^2_H}(\\int{w(s)ds})^2]^{1/2}$\n",
    "* Separating the variables and integrating we obtain\n",
    "    * $x = \\int{\\frac{ds}{[1 + \\frac{1}{F^2_H}(\\int{w(s)ds})^2]^{1/2}}$\n",
    "* The two constants $C_1$ and $C_2$ can be found using the boundary conditions of the curve\n"
   ],
   "metadata": {
    "collapsed": false,
    "pycharm": {
     "name": "#%% md\n"
    }
   }
  },
  {
   "cell_type": "markdown",
   "source": [
    "Problem 116\n",
    "The man picks up the 52-ft chain and holds it just\n",
    "high enough so it is completely off the ground. The chain\n",
    "has points of attachment A and B that are 50 ft apart. If the\n",
    "chain has a weight of 3 lb/ft, and the man weighs 150 lb,\n",
    "determine the force he exerts on the ground. Also, how\n",
    "high h must he lift the chain? Hint: The slopes at A and B\n",
    "are zero.\n",
    "<img src=\"pictures\\problem_7_116.png\" width=\"512\"/>\n"
   ],
   "metadata": {
    "collapsed": false,
    "pycharm": {
     "name": "#%% md\n"
    }
   }
  },
  {
   "cell_type": "code",
   "execution_count": null,
   "outputs": [],
   "source": [
    "from sympy import *\n",
    "s,F_H = symbols('s F_H' ,positive = True)\n",
    "expr = 3\n",
    "weight_integral = integrate(expr,s)\n",
    "print(weight_integral)\n",
    "expr_1 =  1/((1 + (1/(F_H**2)) * weight_integral**2)**1/2)\n",
    "full_integral = integrate(expr_1,s)\n",
    "print(full_integral)"
   ],
   "metadata": {
    "collapsed": false,
    "pycharm": {
     "name": "#%%\n"
    }
   }
  },
  {
   "cell_type": "code",
   "execution_count": null,
   "outputs": [],
   "source": [
    "from sympy import *\n",
    "s,F_H,w_0 = symbols('s F_H w_0' ,positive = True)\n",
    "expr = w_0\n",
    "weight_integral = integrate(expr,s)\n",
    "print(weight_integral)\n",
    "expr_1 =  1/sqrt(1 + (1/(F_H**2)) * weight_integral**2)\n",
    "full_integral = integrate(expr_1,s)\n",
    "print(full_integral)"
   ],
   "metadata": {
    "collapsed": false,
    "pycharm": {
     "name": "#%%\n"
    }
   }
  },
  {
   "cell_type": "code",
   "execution_count": null,
   "outputs": [],
   "source": [
    "import numpy as np\n",
    "w = 3\n",
    "import scipy.integrate as integrate\n",
    "from scipy.optimize import fsolve\n",
    "from sympy import *\n",
    "s,F_H = symbols('s F_H' ,positive = True)\n",
    "w_0 = 3\n",
    "weight_integral = integrate(w_0,s)\n",
    "expr_1 =  1/sqrt(1 + (1/(F_H**2)) * weight_integral**2)\n",
    "full_integral = integrate(expr_1,s)\n",
    "\n",
    "# x = (F_H / w) * (sinh**-1 ((1/F_H) * ws + C_1) + C_2)     1\n",
    "# dy/dx = (1/F_H) * (w*s)                                   2\n",
    "# dy/dx = 0 at s = 0 so C_1 = 0 from 2\n",
    "# s = 0 when x = 0 so C_2 = 0 from 1\n",
    "# s = F_H/w * sinh(w*x/F_H) rearrange 1                     3\n",
    "# dy/dx = sinh(w*x/F_H) substitute 3 into 2\n",
    "# y = F_H/w * cosh(w*x/F_H) + C_3                           4\n",
    "# y = 0 when x = 0 from 5, C_3 = -F_H/w then\n",
    "# y = F_H/w * (cosh(w*x/F_H) - 1)                           5\n",
    "# s = 26 when x = 25 from 3, 26 = F_H/w * sinh(w*25/F_H)\n",
    "x = 25\n",
    "s = 26\n",
    "def cable_function(force,arguments):\n",
    "    return force/arguments[0] * np.sinh(arguments[0]*arguments[1]/force) - arguments[2]\n",
    "# func = x/w * np.sinh(w*25/x) -26\n",
    "F_H = fsolve(cable_function, 130, args=[w,x,s])[0]\n",
    "\n",
    "\n",
    "h = F_H/w * (np.cosh(w*25/F_H) - 1) #from 5\n",
    "print(f'height = {h:.2f} ft')\n",
    "# dy/dx with s=26 = tan(theta) = w*s/F_H\n",
    "theta = np.arctan(w*26/F_H)\n",
    "F_V = F_H * np.tan(theta)\n",
    "#sum of F_y, N_m -150 - 2 * F_V\n",
    "N_m = 150 + 2 * F_V\n",
    "print(f'N_m = {N_m}lb')"
   ],
   "metadata": {
    "collapsed": false,
    "pycharm": {
     "name": "#%%\n"
    }
   }
  },
  {
   "cell_type": "markdown",
   "source": [
    "8 problems 19,74,96,128\n",
    "\n",
    "9 problems 44, 82, 105, 127"
   ],
   "metadata": {
    "collapsed": false,
    "pycharm": {
     "name": "#%% md\n"
    }
   }
  },
  {
   "cell_type": "markdown",
   "source": [
    "9 problems 44, 82, 105, 127"
   ],
   "metadata": {
    "collapsed": false,
    "pycharm": {
     "name": "#%% md\n"
    }
   }
  }
 ],
 "metadata": {
  "kernelspec": {
   "display_name": "Python 3",
   "language": "python",
   "name": "python3"
  },
  "language_info": {
   "codemirror_mode": {
    "name": "ipython",
    "version": 2
   },
   "file_extension": ".py",
   "mimetype": "text/x-python",
   "name": "python",
   "nbconvert_exporter": "python",
   "pygments_lexer": "ipython2",
   "version": "2.7.6"
  }
 },
 "nbformat": 4,
 "nbformat_minor": 0
}
