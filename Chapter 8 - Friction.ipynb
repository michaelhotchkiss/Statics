{
 "cells": [
  {
   "cell_type": "markdown",
   "source": [
    "# Chapter 8 Friction"
   ],
   "metadata": {
    "collapsed": false
   }
  },
  {
   "cell_type": "markdown",
   "source": [
    "## Section 8.1 Characteristics of Dry Friction\n",
    "* Friction - Force that resists the movement of two contacting surfaces that slide relative to each other, force acts tangent to the surface at the points of contact, and is directed to oppose the motion between the surfaces\n",
    "* Dry friction - occurs between the contacting surfaces of bodies when there is no lubricating fluid\n",
    "* Theory of dry friction explained by the effects caused by pulling horizontally on a block of uniform weight which is resting on a rough horizontal surface that is nonrigid or deformable\n",
    "* A surface exerts an uneven distribution of both normal force $\\Delta N_n $ and frictional force $\\Delta F_n$ along the contacting surface, normal forces must act upward usually for equilibrium, and frictional forces act in opposite direction of the direction of the applied force, reactive forces $\\Delta R_n$ are developed at each point of contact, each reactive force contains a frictional component and normal component\n",
    "* FBD - effect of the distributed normal and frictional loads is represented by their resultants $\\vec N$ and $\\vec F$, $\\vec N$ acts a distance $x$ to the right or left of the line of action of $\\vec W$, this distance relates tp the geometric center of the normal force distribution, and is necessary in order to balance the tipping caused by $P$, $x = \\frac{Ph}{w}$ where $h$ is the height from the surface\n",
    "* If the surfaces of contact are slippery $\\vec F$ may not be great enough to balance $\\vec P$ and the block will slip, i.e. as $P$ is slowly increased $F$ will increase with it until it reaches a maximum, $F_s$, which is the limiting static frictional force, when $F_s$ is reached the block is in unstable equilibrium since any increase in $P$ will cause the block to move. $F_s$ is directly proportional to $N$, $F_s = \\mu_s N$, $\\mu_s$ is the coefficient of static friction.\n",
    "* When the block is on the verge of sliding $\\vec N$ and $\\vec F_s$ create $\\vec R_s$, the angle that $\\vec R_s$ makes with $\\vec N$ is the angle of static friction, denoted $\\phi_s$\n",
    "* $\\phi_s = \\tan^{-1}(\\frac{F_s}{N}) = \\tan^{-1}(\\frac{\\mu_s N}{N}) = \\tan^{-1}(\\mu_s)$\n",
    "* If $P$ is increased so that it becomes slightly greater than $F_s$ the frictional force at the contacting surface will drop to a smaller value $F_k$ called kinetic frictional force. The block will start to slide with increasing speed. As this continues the block will ride on top of the peaks at the points of contact, continued breakdown of the surface is the dominant mechanism creating friction.\n",
    "* $F_k$ is directly proportional to $N$, $F_k = \\mu_k N$, $\\mu_k$ is the coefficient of kinetic friction\n",
    "* $\\vec R_k$ has a line of action defined by $\\phi_k$, referred to as angle of kinetic friction\n",
    "* $\\phi_k = \\tan^{-1}(\\frac{F_k}{N}) = \\tan^{-1}(\\frac{\\mu_k N}{N}) = \\tan^{-1}(\\mu_k)$, $\\phi_s \\geq \\phi_k$\n",
    "* $F$ is a static frictional force if equilibrium is maintained\n",
    "* $F$ is a limiting static frictional force $F_s$ when it reaches a maximum value needed to maintain equilibrium\n",
    "* $F$ is a kinetic frictional force $F_k$ when sliding occurs at the contacting surface\n",
    "* When $P$ is very large, aerodynamic effects will cause $F_k$ to decrease therefore $\\mu_k$ decreases\n",
    "### Characteristics of Dry Friction\n",
    "* The frictional force acts tangent to the contacting surfaces with direction opposite to the motion of one surface relative to another\n",
    "* The maximum static frictional force $F_s$ is independent of the area of contact provided normal pressure is not very low or great enough to deform or crush the contacting surfaces\n",
    "* The maximum static frictional force is usually greater than the kinetic frictional force for two surfaces of contact, if one of the bodies is moving with a very low velocity over the surface of another, then $F_k$ becomes almost equal to $F_s$, i.e. $\\mu_s \\approx \\mu_k$\n",
    "* When slipping at the surface of contact is close to occurring the maximum static frictional force is proportional to the normal force, $F_s = \\mu_s N$\n",
    "* When slipping at the surface of contact is occurring the kinetic frictional force is proportional to the normal force, $F_k = \\mu_k N$"
   ],
   "metadata": {
    "collapsed": false
   }
  },
  {
   "cell_type": "markdown",
   "source": [
    "## Section 8.2 Problems Involving Dry Friction\n",
    "* If a rigid body is in equilibrium in a system of forces that includes the effect of friction, the force system needs to satisfy the equations of equilibrium and the laws that govern frictional forces\n",
    "* 3 types of static problems involving dry friction, classify them by drawing FBD and finding total number of unknowns and compare to total number of available equilibrium equations\n",
    "* No apparent impending motion - strictly equilibrium problems, number of unknowns equal toi number of available equilibrium equations, after frictional forces are determined from solution they need to be checked to see if they satisfy $F \\leq \\mu_s N$ otherwise slipping will occur and the body won't stay in equilibrium\n",
    "* Impending motion at all points of contact - total number of unknowns equal to total number of available equilibrium equations plus the total number of available frictional equations, $F = \\mu N$, when motion is impending at the points of contact then $F_s = \\mu_s N$ and if the body is slipping $F_k = \\mu_k N$\n",
    "* Impending motion at some points of contact - number of unknowns less than number of available equilibrium equations plus the number of available frictional equations or conditional equations for tipping, therefore several possibilities for motion or impending motion will exist and thr problem will involve a determination of the kind of motion that occurs\n",
    "* If the friction force $F$ is an equilibrium force and satisfies $F < \\mu_s N$ then the sense of direction of $F$ on the FBD can be assumed,if $F$ is negative then the sense of $\\vec F$ is opposite of the assumed, we can assume the sense of $\\vec F$ since the equilibrium equations equate to zero the components of vectors acting in the same direction, we cannot not assume sense if $F= \\mu N$ is used in the solution of the problem since the frictional equation relates only the magnitudes of two perpendicular vectors, therefore $\\vec F$ must only be shown acting in the correct sense on the FBD\n",
    "### Procedure for Analysis - equilibrium problems involving dry friction\n",
    "* Draw needed FBDs and unless it is stated that impending motion or slipping occurs show the frictional forces as unknowns, don't assume $F= \\mu N$\n",
    "* Determine number of unknowns and compare ti number of available equilibrium equations\n",
    "* When there are more unknowns than equations of equilibrium it is necessary to apply the frictional equation at some if not all points of contract to obtain the extra equations needed for solutions\n",
    "* If $F= \\mu N$ is used it is necessary to show $\\vec F$ acting in the correct sense on the FBD\n",
    "* Apply equations of equilibrium and necessary frictional equations or conditional equations if tipping is possible and solve for unknowns\n",
    "* If the problem is a 3D force system apply the equations of equilibrium using Cartesian vectors"
   ],
   "metadata": {
    "collapsed": false
   }
  },
  {
   "cell_type": "markdown",
   "source": [
    "Problem 19\n",
    "The spool of wire having a weight of 300 lb rests on\n",
    "the ground at B and against the wall at A. Determine the\n",
    "normal force acting on the spool at A if P = 300 lb.\n",
    "The coefficient of static friction between the spool and the\n",
    "ground at B is $\\mu_s = 0.35$. The wall at A is smooth."
   ],
   "metadata": {
    "collapsed": false
   }
  },
  {
   "cell_type": "code",
   "execution_count": 13,
   "outputs": [
    {
     "data": {
      "image/png": "[encoded data removed]",
      "text/plain": "<IPython.core.display.Image object>"
     },
     "execution_count": 13,
     "metadata": {},
     "output_type": "execute_result"
    }
   ],
   "source": [
    "from IPython.display import Image\n",
    "Image(\"pictures/problem_8_19.png\")"
   ],
   "metadata": {
    "collapsed": false,
    "ExecuteTime": {
     "end_time": "2023-08-28T17:52:43.747141600Z",
     "start_time": "2023-08-28T17:52:43.675334200Z"
    }
   }
  },
  {
   "cell_type": "code",
   "execution_count": 14,
   "outputs": [
    {
     "data": {
      "text/plain": "(-5.0, 2.0)"
     },
     "execution_count": 14,
     "metadata": {},
     "output_type": "execute_result"
    },
    {
     "data": {
      "text/plain": "<Figure size 360x360 with 1 Axes>",
      "image/png": "[encoded data removed]"
     },
     "metadata": {
      "needs_background": "light"
     },
     "output_type": "display_data"
    }
   ],
   "source": [
    "import numpy as np\n",
    "from matplotlib.patches import FancyArrow, Rectangle, Circle\n",
    "import matplotlib.pyplot as plt\n",
    "theta = np.radians(45)\n",
    "figure, axes = plt.subplots(figsize=(5,5))\n",
    "points = {\n",
    "    'A': np.array([3, 0]),\n",
    "    'B': np.array([0, -3]),\n",
    "    'O': np.array([0, 0]),\n",
    "    'P': np.array([3,-2])\n",
    "}\n",
    "\n",
    "orientations = ['top','right','top','top']\n",
    "point_labels = ['A','B','O','P']\n",
    "\n",
    "for label,orientation in zip(point_labels,orientations):\n",
    "    dot = Circle(points[label], radius=0.1, fill=True, color='red')\n",
    "    axes.add_patch(dot)\n",
    "    if orientation=='top':\n",
    "        plt.text(points[label][0],points[label][1] + .2,label,va='bottom',ha='center')\n",
    "    elif orientation=='right':\n",
    "        plt.text(points[label][0] + .5,points[label][1],label,va='center',ha='center')\n",
    "    else:\n",
    "        plt.text(points[label][0],points[label][1],label,va='center',ha='center')\n",
    "\n",
    "vectors = {\n",
    "    'P': {'origin': points['P'], 'vector': 3 * np.array([1,0])},\n",
    "    'N_A': {'origin': points['A'], 'vector': -2 * np.array([1,0])},\n",
    "    'F_B': {'origin': points['B'], 'vector': -1 * np.array([1,0])},\n",
    "    'W': {'origin': points['O'], 'vector': -3 * np.array([0,1])}\n",
    "}\n",
    "\n",
    "\n",
    "for label, vector_dictionary in vectors.items():\n",
    "    origin = vector_dictionary['origin']\n",
    "    vector = vector_dictionary['vector']\n",
    "    vector_arrow = FancyArrow(origin[0], origin[1], vector[0], vector[1],\n",
    "    width=.02,length_includes_head=True, color='k')\n",
    "    if vector[0]==-1:\n",
    "        axes.text(origin[0] + vector[0] * 1.5,\n",
    "               origin[1] + vector[1] * 1.2,\n",
    "               r'$\\vec{'+label[0]+r'}' + label[1:] + r'$', color='k', fontsize=14,\n",
    "               va='center',ha='center'\n",
    "                               )\n",
    "    else:\n",
    "        axes.text(origin[0] + vector[0] * 1.2,\n",
    "               origin[1] + vector[1] * 1.2,\n",
    "               r'$\\vec{'+label[0]+r'}' + label[1:] + r'$', color='k', fontsize=14,\n",
    "               va='center',ha='center'\n",
    "                               )\n",
    "    axes.add_patch(vector_arrow)\n",
    "\n",
    "axes.set_xlim([-3 , 8])\n",
    "axes.set_ylim([-5 ,2])"
   ],
   "metadata": {
    "collapsed": false,
    "ExecuteTime": {
     "end_time": "2023-08-28T17:52:43.862831500Z",
     "start_time": "2023-08-28T17:52:43.704257500Z"
    }
   }
  },
  {
   "cell_type": "code",
   "execution_count": 15,
   "outputs": [
    {
     "name": "stdout",
     "output_type": "stream",
     "text": [
      "N_A = 200.0 lb\n",
      "100.0\n"
     ]
    }
   ],
   "source": [
    "import numpy as np\n",
    "outer_radius = 3\n",
    "inner_radius = 1\n",
    "P = 300\n",
    "weight = 300\n",
    "#moment about O\n",
    "F_B = P * inner_radius / outer_radius\n",
    "#sum of F_y\n",
    "N_B = weight\n",
    "#sum of F_x\n",
    "N_A = -F_B + P\n",
    "print(f'N_A = {N_A} lb')\n",
    "print(F_B)"
   ],
   "metadata": {
    "collapsed": false,
    "ExecuteTime": {
     "end_time": "2023-08-28T17:52:43.877792300Z",
     "start_time": "2023-08-28T17:52:43.863828800Z"
    }
   }
  },
  {
   "cell_type": "markdown",
   "source": [
    "## Section 8.3 Wedges\n",
    "* Wedge - simple machine that is often used to transform an applied force into much larger forces directed at appropriately right angles to the applied force, can also be used to slightly move or adjust heavy loads\n",
    "* Weight of wedge is usually small compared to the weight of the block, therefore it is negligible\n",
    "* Frictional forces must oppose the motion of the wedge and the block\n",
    "* Location of resultant normal forces are not important in force analysis since neither the block nor wedge will tip, as a result the moment equilibrium equations will not be considered\n",
    "* If $\\vec P$ is not applied and friction forces hold the block in place the wedge is referred to as self-locking"
   ],
   "metadata": {
    "collapsed": false
   }
  },
  {
   "cell_type": "markdown",
   "source": [
    "## 8.4 Friction Forces on Screws\n",
    "* Screws can be used as fasteners or in machines they can be used to transmit power or motion from one part of the machine to another\n",
    "* Square-threaded screw is commonly used to transmit power especially when large forces are applied along its axis\n",
    "* Thread - inclined square ridge\n",
    "* Unwinding the thread by one revolution the slope or lead angle is $\\theta = \\tan^{-1}(\\frac{l}{2\\pi r})$, where $l$ is the vertical distance between $A$ and $B$ and $2 \\pi r$ is the horizontal distance between $A$ and $B$, $r$ is the radius of the thread\n",
    "* $l$ is called the lead of the screw and is equivalent to the distance the screw advances when it turns one revolution\n",
    "* Upward impending motion - square-threaded screw that is subjected to upward impending motion caused by applied torsional moment $\\vec M$, $\\vec M$ is created by applying horizontal $\\vec P$ at a right angle to the end of a lever fixed to the screw, FBD of the entire unraveled thread in contact with the jack can be represented as a block, force $\\vec W$ is the vertical force acting on the thread or the axial force applied to the shaft, $M / r$ is the resultant horizontal force produced by the couple moment $M$ about the axis of the shaft, the reaction $\\vec R$ of the groove on the thread has frictional and normal components, $F = \\mu_s N$ angle of static friction is $\\phi_s = \\tan^{-1}\\mu_s$\n",
    "* Apply force equations of equilibrium along the horizontal nad vertical axes to get\n",
    "* $\\sum F_x = 0 \\Rightarrow M / r - R \\sin({\\theta + \\phi_s}) = 0$\n",
    "* $\\sum F_y = 0 \\Rightarrow R \\cos({\\theta + \\phi_s}) - W = 0$\n",
    "* Eliminate $R$ to get $M - rW \\tan({\\theta + \\phi_s})$  &emsp;    (8-3)\n",
    "* Self-locking screw - a screw that remains in place under any axial load $\\vec W$ when the moment $\\vec M$ is removed, this occurs when the direction of the frictional force must be reversed so $\\vec R$ acts on the other side of $\\vec N$, $\\phi_s \\geq \\theta$, if $\\phi_s = \\theta$ then $\\vec R$ will act vertically to balance $\\vec W$ and the screw is on the verge of winding downward\n",
    "* Downward impending motion ($\\theta > \\phi_s$) - if a screw is not self-locking it is needed to apply moment $\\vec M'$ to prevent the screw from winding downward, horizontal force $M' / r$ is needed to push against the thread to prevent it from sliding down, use same procedure as above to obtain $M' = rW \\tan({\\theta - \\phi_s})$ &emsp; (8-4)\n",
    "* Downward impending motion ($\\phi_s > \\theta$) - if a screw is self-locking a couple moment $\\vec M''$ must be applied to the screw in opposite direction to wind the screw downward, as a result reverse horizontal force $M'' = rW \\tan({\\phi_s - \\theta}) &emsp; (8-5)\n",
    "* If motion of a screw occurs replace $\\phi_s$ with $\\phi_k$ in equations (8-3), (8-4), (8-5)"
   ],
   "metadata": {
    "collapsed": false
   }
  },
  {
   "cell_type": "markdown",
   "source": [
    "Problem 74\n",
    "The square-threaded bolt is used to join two plates\n",
    "together. If the bolt has a mean diameter of $d = 20 mm$ and\n",
    "a lead of $l = 3 mm$, determine the smallest torque $M$ required\n",
    "to loosen the bolt if the tension in the bolt is $T = 40  kN$.\n",
    "The coefficient of static friction between the threads and the\n",
    "bolt is $\\mu_s = 0.15$."
   ],
   "metadata": {
    "collapsed": false
   }
  },
  {
   "cell_type": "code",
   "execution_count": 16,
   "outputs": [
    {
     "data": {
      "image/png": "[encoded data removed]",
      "text/plain": "<IPython.core.display.Image object>"
     },
     "execution_count": 16,
     "metadata": {},
     "output_type": "execute_result"
    }
   ],
   "source": [
    "from IPython.display import Image\n",
    "Image(\"pictures/problem_8_74.png\")"
   ],
   "metadata": {
    "collapsed": false,
    "ExecuteTime": {
     "end_time": "2023-08-28T17:52:43.938652600Z",
     "start_time": "2023-08-28T17:52:43.878789Z"
    }
   }
  },
  {
   "cell_type": "code",
   "execution_count": 17,
   "outputs": [
    {
     "name": "stdout",
     "output_type": "stream",
     "text": [
      "torque M = 40.61 N * m\n"
     ]
    }
   ],
   "source": [
    "import numpy as np\n",
    "diameter = 20e-3\n",
    "lead = 3e-3\n",
    "coefficient_static_friction = 0.15\n",
    "tension = 40e3\n",
    "theta = np.arctan(lead /(2 * np.pi * (diameter/2)))\n",
    "phi = np.arctan(coefficient_static_friction)\n",
    "#M = r * W * tan(phi-theta)\n",
    "M = diameter/2 * tension * np.tan(phi-theta)\n",
    "print(f'torque M = {M:.2f} N * m')"
   ],
   "metadata": {
    "collapsed": false,
    "ExecuteTime": {
     "end_time": "2023-08-28T17:52:43.947628900Z",
     "start_time": "2023-08-28T17:52:43.895768200Z"
    }
   }
  },
  {
   "cell_type": "markdown",
   "source": [
    "## Section 8.5 Frictional Forces on Flat Belts\n",
    "* Total angle of belt-to-surface contact in radians is $\\beta$ and the * coefficient of friction between the two surfaces is $\\mu$\n",
    "* Normal and frictional forces acting at different points along the belt will vary in magnitude and direction, since the distribution is unknown the analysis of a belt will require a study of the forces acting on a differential element of the belt\n",
    "* Draw a FBD of an element with length $ds$ assume either impending motion or motion of the belt, magnitude of the frictional force $dF = \\mu dN$, this force opposes the sliding motion of the belt and increases the magnitude of the tensile force acting in the belt by $dT$, apply two force equations of equilibrium\n",
    "* $\\sum F_x = 0 \\Rightarrow T \\cos({\\frac{d\\theta}{2}}) + \\mu dN - (T + dT) \\cos({\\frac{d\\theta}{2}}) = 0 $\n",
    "* $\\sum F_y = 0 \\Rightarrow dN - (T + dT) \\sin({\\frac{d\\theta}{2}}) - T \\sin({\\frac{d\\theta}{2}) = 0$\n",
    "* $d\\theta$ is of infinitesimal size so $\\sin({\\frac{d\\theta}{2}}) = \\frac{d\\theta}{2}$ and $\\cos({\\frac{d\\theta}{2}}) = 1$ and product of two infinitesimals ($dT$ and $\\frac{d\\theta}{2}$) may be neglected when compared to infinitesimals of the first order, therefore the two equations simplify to\n",
    "* $\\mu dN = dT$\n",
    "* $dN = T d\\theta$\n",
    "* Eliminate $dN$ to get $\\frac{dT}{T} = \\mu d\\theta$\n",
    "* Integrate this equation between all points of contact teh belt makes with the drum, and seeing that $T = T_1$ at $\\theta = 0$ and $\\T = T_2$ at $\\theta = \\beta$ then we get\n",
    "* $\\int_{T_1}^{T_2}{\\frac{dT}{T}} =  d\\theta \\Rightarrow ln{\\frac{T_2}{T_1} = \\mu \\beta$\n",
    "* $\\int_{T_1}^{T_2}{\\frac{dT}{T}} = \\mu \\int_0^{\\beta} $\n",
    "* Solve for $T_2$ to get $T_2 = T_1 e^{\\mu \\beta} $\n",
    "* $T_1$ and $T_2$ are belt tensions and $T_1$ opposes the direction of motion of the belt measured relative to the surface and $T_2$ acts in the direction of the relative belt motion, because of friction $T_2 > T_1$\n",
    "* $\\mu$ is the coefficient of static or kinetic friction between the belt and surface of contact\n",
    "* $\\beta$ is the angle of belt-to-surface contact, in radians\n",
    "* $T_2$ is independent of the radius of the drum and is a function of the angle of belt to surface contact $\\beta$, therefore this equation is valid for flat belts passing over any curved contacting surface"
   ],
   "metadata": {
    "collapsed": false
   }
  },
  {
   "cell_type": "markdown",
   "source": [
    "Problem 96\n",
    "Determine the maximum and the minimum values\n",
    "of weight W which may be applied without causing the 50-lb\n",
    "block to slip. The coefficient of static friction between the\n",
    "block and the plane is $\\mu_s = 0.2$, and between the rope and\n",
    "the drum $D$ is $\\mu_s' = 0.3$."
   ],
   "metadata": {
    "collapsed": false
   }
  },
  {
   "cell_type": "code",
   "execution_count": 18,
   "outputs": [
    {
     "data": {
      "image/png": "[encoded data removed]",
      "text/plain": "<IPython.core.display.Image object>"
     },
     "execution_count": 18,
     "metadata": {},
     "output_type": "execute_result"
    }
   ],
   "source": [
    "from IPython.display import Image\n",
    "Image(\"pictures/problem_8_96.png\")"
   ],
   "metadata": {
    "collapsed": false,
    "ExecuteTime": {
     "end_time": "2023-08-28T17:52:43.947628900Z",
     "start_time": "2023-08-28T17:52:43.908732400Z"
    }
   }
  },
  {
   "cell_type": "code",
   "execution_count": 19,
   "outputs": [
    {
     "data": {
      "text/plain": "(-5.0, 7.0)"
     },
     "execution_count": 19,
     "metadata": {},
     "output_type": "execute_result"
    },
    {
     "data": {
      "text/plain": "<Figure size 360x360 with 1 Axes>",
      "image/png": "[encoded data removed]"
     },
     "metadata": {
      "needs_background": "light"
     },
     "output_type": "display_data"
    }
   ],
   "source": [
    "import numpy as np\n",
    "from matplotlib.patches import FancyArrow, Rectangle, Circle\n",
    "import matplotlib.pyplot as plt\n",
    "theta = np.radians(45)\n",
    "figure, axes = plt.subplots(figsize=(5,5))\n",
    "points = {\n",
    "    'B_1': np.array([2, 3]),\n",
    "    'B_2': np.array([6, 3]),\n",
    "    'D': np.array([5, 5])\n",
    "}\n",
    "\n",
    "orientations = ['left','top','top']\n",
    "point_labels = ['B_1','B_2','D']\n",
    "\n",
    "def draw_beam(length, thickness,angle):\n",
    "    beam = Rectangle((0, 0), length, thickness, edgecolor='black', facecolor='white',angle=angle)\n",
    "    axes.add_patch(beam)\n",
    "    return\n",
    "\n",
    "beam = draw_beam(10,.5,0)\n",
    "\n",
    "for label,orientation in zip(point_labels,orientations):\n",
    "    dot = Circle(points[label], radius=0.1, fill=True, color='red')\n",
    "    axes.add_patch(dot)\n",
    "    if orientation=='top':\n",
    "        plt.text(points[label][0],points[label][1] + .2,label,va='bottom',ha='center')\n",
    "    elif orientation=='left':\n",
    "        plt.text(points[label][0]-.5,points[label][1] + .3,label,va='center',ha='center')\n",
    "    else:\n",
    "        plt.text(points[label][0],points[label][1],label,va='center',ha='center')\n",
    "\n",
    "vectors = {\n",
    "    'T_{1}': {'origin': points['B_1'], 'vector': 1.395 * np.array([-np.cos(theta),-np.sin(theta)])},\n",
    "    'T_{2}': {'origin': points['B_2'], 'vector': -5 * np.array([0,1])}\n",
    "}\n",
    "vectors_1 = {'F_D': {'origin': points['D'], 'vector': np.array([1,0])},}\n",
    "vectors_2 = {'F_P': {'origin': points['B_1'], 'vector': -.7 * np.array([np.cos(theta),np.sin(theta)])}}\n",
    "\n",
    "for label, vector_dictionary in vectors.items():\n",
    "    origin = vector_dictionary['origin']\n",
    "    vector = vector_dictionary['vector']\n",
    "    vector_arrow = FancyArrow(origin[0], origin[1], vector[0], vector[1],\n",
    "    width=.02,length_includes_head=True, color='k')\n",
    "    axes.text(origin[0] + vector[0] * 1.2,\n",
    "               origin[1] + vector[1] * 1.2,\n",
    "               r'$\\vec{'+label[0]+r'}' + label[1:] + r'$', color='k', fontsize=14,\n",
    "               va='center',ha='center'\n",
    "                               )\n",
    "    axes.add_patch(vector_arrow)\n",
    "\n",
    "for label, vector_dictionary in vectors_1.items():\n",
    "    origin = vector_dictionary['origin']\n",
    "    vector = vector_dictionary['vector']\n",
    "    vector_arrow = FancyArrow(origin[0], origin[1], vector[0], vector[1],\n",
    "    width=.02,length_includes_head=True, color='red')\n",
    "    axes.text(origin[0] + vector[0] * 1.75,\n",
    "               origin[1] + vector[1] * 1.75,\n",
    "               r'$\\vec{'+label[0]+r'}' + label[1:] + r'$', color='k', fontsize=14,\n",
    "               va='center',ha='center'\n",
    "                               )\n",
    "    axes.add_patch(vector_arrow)\n",
    "for label, vector_dictionary in vectors_2.items():\n",
    "    origin = vector_dictionary['origin']\n",
    "    vector = vector_dictionary['vector']\n",
    "    vector_arrow = FancyArrow(origin[0], origin[1], vector[0], vector[1],\n",
    "    width=.02,length_includes_head=True, color='red')\n",
    "    axes.text(origin[0] + vector[0] +.7,\n",
    "               origin[1] + vector[1]-.3,\n",
    "               r'$\\vec{'+label[0]+r'}' + label[1:] + r'$', color='k', fontsize=14,\n",
    "               va='center',ha='center'\n",
    "                               )\n",
    "    axes.add_patch(vector_arrow)\n",
    "axes.set_xlim([-1 , 11])\n",
    "axes.set_ylim([-5 ,7])"
   ],
   "metadata": {
    "collapsed": false,
    "ExecuteTime": {
     "end_time": "2023-08-28T17:52:44.068326200Z",
     "start_time": "2023-08-28T17:52:43.938652600Z"
    }
   }
  },
  {
   "cell_type": "code",
   "execution_count": 20,
   "outputs": [
    {
     "data": {
      "text/plain": "(-5.0, 7.0)"
     },
     "execution_count": 20,
     "metadata": {},
     "output_type": "execute_result"
    },
    {
     "data": {
      "text/plain": "<Figure size 360x360 with 1 Axes>",
      "image/png": "[encoded data removed]"
     },
     "metadata": {
      "needs_background": "light"
     },
     "output_type": "display_data"
    }
   ],
   "source": [
    "import numpy as np\n",
    "from matplotlib.patches import FancyArrow, Rectangle, Circle\n",
    "import matplotlib.pyplot as plt\n",
    "theta = np.radians(45)\n",
    "figure, axes = plt.subplots(figsize=(5,5))\n",
    "points = {\n",
    "    'B_1': np.array([2, 3]),\n",
    "    'B_2': np.array([6, 3]),\n",
    "    'D': np.array([5, 5])\n",
    "}\n",
    "\n",
    "orientations = ['left','top','top']\n",
    "point_labels = ['B_1','B_2','D']\n",
    "\n",
    "def draw_beam(length, thickness,angle):\n",
    "    beam = Rectangle((0, 0), length, thickness, edgecolor='black', facecolor='white',angle=angle)\n",
    "    axes.add_patch(beam)\n",
    "    return\n",
    "\n",
    "beam = draw_beam(10,.5,0)\n",
    "\n",
    "for label,orientation in zip(point_labels,orientations):\n",
    "    dot = Circle(points[label], radius=0.1, fill=True, color='red')\n",
    "    axes.add_patch(dot)\n",
    "    if orientation=='top':\n",
    "        plt.text(points[label][0],points[label][1] + .2,label,va='bottom',ha='center')\n",
    "    elif orientation=='left':\n",
    "        plt.text(points[label][0]-.5,points[label][1] + .3,label,va='center',ha='center')\n",
    "    else:\n",
    "        plt.text(points[label][0],points[label][1],label,va='center',ha='center')\n",
    "\n",
    "vectors = {\n",
    "    'T_{1}': {'origin': points['B_1'], 'vector': 8.602 * np.array([-np.cos(theta),-np.sin(theta)])},\n",
    "    'T_{2}': {'origin': points['B_2'], 'vector': -5 * np.array([0,1])}\n",
    "}\n",
    "vectors_1 = {\n",
    "    'F_D': {'origin': points['D'], 'vector': np.array([-1,0])},\n",
    "    'F_P': {'origin': points['B_1'], 'vector': .7 * np.array([np.cos(theta),np.sin(theta)])}\n",
    "}\n",
    "for label, vector_dictionary in vectors.items():\n",
    "    origin = vector_dictionary['origin']\n",
    "    vector = vector_dictionary['vector']\n",
    "    vector_arrow = FancyArrow(origin[0], origin[1], vector[0], vector[1],\n",
    "    width=.02,length_includes_head=True, color='k')\n",
    "    axes.text(origin[0] + vector[0] * 1.1,\n",
    "               origin[1] + vector[1] * 1.1,\n",
    "               r'$\\vec{'+label[0]+r'}' + label[1:] + r'$', color='k', fontsize=14,\n",
    "               va='center',ha='center'\n",
    "                               )\n",
    "    axes.add_patch(vector_arrow)\n",
    "\n",
    "for label, vector_dictionary in vectors_1.items():\n",
    "    origin = vector_dictionary['origin']\n",
    "    vector = vector_dictionary['vector']\n",
    "    vector_arrow = FancyArrow(origin[0], origin[1], vector[0], vector[1],\n",
    "    width=.02,length_includes_head=True, color='red')\n",
    "    axes.text(origin[0] + vector[0] * 1.75,\n",
    "               origin[1] + vector[1] * 1.75,\n",
    "               r'$\\vec{'+label[0]+r'}' + label[1:] + r'$', color='k', fontsize=14,\n",
    "               va='center',ha='center'\n",
    "                               )\n",
    "    axes.add_patch(vector_arrow)\n",
    "axes.set_xlim([-6 , 11])\n",
    "axes.set_ylim([-5 ,7])"
   ],
   "metadata": {
    "collapsed": false,
    "ExecuteTime": {
     "end_time": "2023-08-28T17:52:44.203541Z",
     "start_time": "2023-08-28T17:52:44.076284100Z"
    }
   }
  },
  {
   "cell_type": "code",
   "execution_count": 21,
   "outputs": [
    {
     "name": "stdout",
     "output_type": "stream",
     "text": [
      "Maximum weight needed : 86.02 lb\n",
      "Minimum weight needed : 13.95 lb\n"
     ]
    }
   ],
   "source": [
    "import numpy as np\n",
    "weight = 50\n",
    "block_plane_coefficient = .2\n",
    "rope_and_drum_coefficient = .3\n",
    "theta = np.radians(45)\n",
    "\n",
    "#sliding down the plane\n",
    "#sum of F_y\n",
    "N = weight * np.cos(theta)\n",
    "#friction\n",
    "F = block_plane_coefficient * N\n",
    "#sum of F_x\n",
    "T_1_u = F + weight * np.sin(theta)\n",
    "\n",
    "#sliding up the plane\n",
    "#sum of F_y\n",
    "#N is same as sliding down the plane\n",
    "#sum of F_x\n",
    "T_1_d = - F + weight * np.sin(theta)\n",
    "\n",
    "beta = np.radians(45 + 90)\n",
    "\n",
    "#sliding down the plane\n",
    "#T_2_u is the weight of block 2\n",
    "T_2_u = T_1_u * np.exp(rope_and_drum_coefficient * beta)\n",
    "print(f'Maximum weight needed : {T_2_u:.2f} lb')\n",
    "\n",
    "#sliding up the plane\n",
    "#T_1_d is the weight of block 1\n",
    "T_2_d = T_1_d / np.exp(rope_and_drum_coefficient *beta)\n",
    "print(f'Minimum weight needed : {T_2_d:.2f} lb')"
   ],
   "metadata": {
    "collapsed": false,
    "ExecuteTime": {
     "end_time": "2023-08-28T17:52:44.222668500Z",
     "start_time": "2023-08-28T17:52:44.206533Z"
    }
   }
  },
  {
   "cell_type": "markdown",
   "source": [
    "## Section 8.6 Frictional Forces on Collar Bearings, Pivot Bearing, and Disks\n",
    "* Pivot and collar bearings are used in machines to support an axial load on a rotating shaft\n",
    "* If the bearings are not lubricated or are only partially lubricated the laws of dry friction can be applied to determine the moment needed in order to turn the shaft when ot supports an axial force\n",
    "* A collar bearing on a shaft is under axial force $\\vec P$ and has a total bearing or contact area $\\pi (R^2_2 - R^2_1)$, if the bearing is new and evenly supported the normal pressure $p$ on the bearing will be uniformly distributed over this area, since $\\sum F_z = 0$, $p$ being measured in force per unit area, $p = \\frac{P}{\\pi (R^2_2 - R^2_1)}$\n",
    "* To calculate the moment needed to cause impending rotation of the shaft we can use the moment equilibrium about the $z$ axis, differential area element $dA = (r d \\theta) (dr)$ is subjected to normal force, $dN = p dA$ and associated frictional force, $dF = \\mu_s dN = \\mu_s p dA = \\frac{\\mu_s P}{\\pi (R^2_2 - R^2_1)} dA$\n",
    "* Normal force does not create a moment about the $z$ axis of the shaft, frictional force does, $dM = r dF$, integrate to compute the applied moment $\\vec M$ needed to overcome all the frictional forces\n",
    "* $\\sum M_z = 0 \\Rightarrow M - \\int_A r dF =0$, substitute $dF$ and $dA$ and integrate over entire bearing area\n",
    "* $M = \\int_{R_1}^{R_2} \\int_0^{2 \\pi} r[\\frac{\\mu_s P}{\\pi (R^2_2 - R^2_1)}] (r d \\theta dr) = \\frac{\\mu_s P}{\\pi (R^2_2 - R^2_1)} \\int_{R_1}^{R_2} {r^2 dr} \\int_{0}^{2 \\pi} {d\\theta} \\Rightarrow M = \\frac{2}{3} \\mu_s P \\frac{(R^3_2 - R^3_1)}{(R^2_2 - R^2_1)}$ &emsp; (8-7)\n",
    "* Moment at the end of the shaft when it is rotating at constant speed is calculated by switching $\\mu_s$ to $\\mu_k$ in (8-7)\n",
    "* If $R_2 = R$ and $R_1 = 0$ then (8-7) becomes $M = \\frac{2}{3} \\mu_s P R$\n",
    "* These equations only apply for bearing surfaces under constant pressure, if pressure is not uniform a variation of the pressure as a function of the bearing area must be determined before integrating to solve for the moment"
   ],
   "metadata": {
    "collapsed": false
   }
  },
  {
   "cell_type": "markdown",
   "source": [
    "## Section 8.7 Frictional Forces on Journal Bearings\n",
    "* If a shaft or axle is subjected to lateral loads a journal bearing can be used for support\n",
    "* If the bearing is not lubricated or is partially lubricated then a reasonable analysis of the frictional resistance on the bearing can be based on laws of dry friction\n",
    "* As the shaft of a journal bearing rotates the contact point moves up the wall pf the bearing at a point $A$ where slipping occurs, if vertical load acting at the end of the shaft is $\\vec P$ then the bearing reactive force $\\vec R$ acting at $A$ will be equal but opposite sense of $\\vec P$\n",
    "* Moment needed to maintain constant rotation is found by summing moments about $z$ axis of the shaft\n",
    "* $\\sum M_z = 0 \\Rightarrow M - (R \\sin \\phi_k)r = 0$\n",
    "* $M = Rr \\sin \\phi_k$ &emsp; (8-9)\n",
    "* $\\phi_k$ is the angle of kinetic force as defined in an earlier section, $r \\sin \\phi_k = r_f$ the circle with radius $r_f$ is called the friction circle and as the shaft rotates the reaction force $\\vec R$ will always be tangent to it\n",
    "* When bearing is only partially lubricated $\\mu_k$ is small, therefore $\\sin \\phi_k \\approx \\tan \\phi_k \\approx \\mu_k$, when we can assume this an approximation of the moment needed to overcome the frictional resistance is\n",
    "* $M \\approx Rr \\mu_k$ &emsp; (8-10)\n",
    "* To minimize friction bearing radius $r$ should be small, this type of journal bearing will not last long since friction between the shaft and bearing will eventually wear down the surfaces, so journal bearings use rollers to minimize frictional losses"
   ],
   "metadata": {
    "collapsed": false
   }
  },
  {
   "cell_type": "markdown",
   "source": [
    "## Section 8.8 Rolling Resistance\n",
    "* If a rigid cylinder rolls at constant velocity along a rigid surface the normal force from the surface on the cylinder acts perpendicular to the tangent at the point of contact\n",
    "* No materials are perfectly rigid  so the reaction of the surface on the cylinder consists of a distribution of normal pressure\n",
    "* If a cylinder is made of a hard material and the surface it rolls on is soft comparatively then the weight of the cylinder compresses the surface under it, as the cylinder rolls the surface material in front of the cylinder retards the motion since it is being deformed and the material in the rear is restored from the deformation and tends to push the cylinder forward, normal pressure acting on the cylinder are represented by their resultant forces $\\vec N_d$ and $\\vec N_r$, the magnitude of the force of deformation and its horizontal component is greater than the magnitude of the force of restoration, therefore a horizontal driving force $\\vec P$ must be present to maintain the motion of the cylinder\n",
    "* Rolling resistance is caused by this effect and the result of surface adhesion and relative micro-sliding between surfaces of contact\n",
    "* $\\vec P$ is difficult to determine we can use a simplified method to explain one way this phenomenon is analyzed, consider the resultant of the entire normal pressure $\\vec N = \\vec N_d + \\vec N_r$ acting on a cylinder, the force acts at angle $\\theta$ with the vertical axis, to keep the cylinder rolling at a constant rate, so it is in equilibrium, then $\\vec N$ needs to be concurrent with driving force $\\vec P$ and weight $\\vec W$, sum the moments about point $A$ to get $Wa = P (r \\cos \\theta)$ and since deformations are small in relation to the radius of the cylinder, $\\cos \\theta \\approx 1$ therefore, $Wa \\approx Pr$, or $P \\approx \\frac{Wa}{r}$ &emsp; (8-11)\n",
    "* $a$ is a distance called the coefficient of rolling resistance, this is difficult to measure since it depends on rate or rotation of the cylinder, the elastic properties of the contacting surface and the surface finish\n",
    "* This analysis explains why a heavy load offers greater resistance to motion than a light load with same conditions\n",
    "* Since $\\frac{Wa}{r}$ is usually very small compared to $\\mu_k W$ the force needed to roll a cylinder over the surface will be much less than the force needed to slide it across the surface, this is why roller or ball bearings are used to minimize frictional resistance between moving parts"
   ],
   "metadata": {
    "collapsed": false
   }
  },
  {
   "cell_type": "markdown",
   "source": [
    "Problem 128\n",
    "The vehicle has a weight of 2600 lb and center of\n",
    "gravity at G. Determine the horizontal force P that must be\n",
    "applied to overcome the rolling resistance of the wheels.\n",
    "The coefficient of rolling resistance is 0.5 in. The tires have a\n",
    "diameter of 2.75 ft."
   ],
   "metadata": {
    "collapsed": false
   }
  },
  {
   "cell_type": "code",
   "execution_count": 22,
   "outputs": [
    {
     "data": {
      "image/png": "[encoded data removed]",
      "text/plain": "<IPython.core.display.Image object>"
     },
     "execution_count": 22,
     "metadata": {},
     "output_type": "execute_result"
    }
   ],
   "source": [
    "from IPython.display import Image\n",
    "Image(\"pictures/problem_8_128.png\")"
   ],
   "metadata": {
    "collapsed": false,
    "ExecuteTime": {
     "end_time": "2023-08-28T17:52:44.280709200Z",
     "start_time": "2023-08-28T17:52:44.219718900Z"
    }
   }
  },
  {
   "cell_type": "code",
   "execution_count": 23,
   "outputs": [
    {
     "data": {
      "text/plain": "(-30.0, 5.0)"
     },
     "execution_count": 23,
     "metadata": {},
     "output_type": "execute_result"
    },
    {
     "data": {
      "text/plain": "<Figure size 360x360 with 1 Axes>",
      "image/png": "[encoded data removed]"
     },
     "metadata": {
      "needs_background": "light"
     },
     "output_type": "display_data"
    }
   ],
   "source": [
    "import numpy as np\n",
    "from matplotlib.patches import FancyArrow, Rectangle, Circle\n",
    "import matplotlib.pyplot as plt\n",
    "theta = np.radians(45)\n",
    "figure, axes = plt.subplots(figsize=(5,5))\n",
    "points = {\n",
    "    'G': np.array([2, 2.5]),\n",
    "    'P': np.array([10, 2.5]),\n",
    "    'Wheel': np.array([7,0])\n",
    "}\n",
    "\n",
    "orientations = ['left','top','top']\n",
    "point_labels = ['G','P','Wheel']\n",
    "\n",
    "def draw_beam(length, thickness,angle):\n",
    "    beam = Rectangle((0, 0), length, thickness, edgecolor='black', facecolor='white',angle=angle)\n",
    "    axes.add_patch(beam)\n",
    "    return\n",
    "\n",
    "#beam = draw_beam(10,.5,0)\n",
    "\n",
    "for label,orientation in zip(point_labels,orientations):\n",
    "    dot = Circle(points[label], radius=0.1, fill=True, color='red')\n",
    "    axes.add_patch(dot)\n",
    "    if orientation=='top':\n",
    "        plt.text(points[label][0],points[label][1] + .2,label,va='bottom',ha='center')\n",
    "    elif orientation=='left':\n",
    "        plt.text(points[label][0]-.5,points[label][1] + .3,label,va='center',ha='center')\n",
    "    else:\n",
    "        plt.text(points[label][0],points[label][1],label,va='center',ha='center')\n",
    "\n",
    "vectors = {\n",
    "    'P':          {'origin': points['P'], 'vector': 7 * np.array([-1,0])},\n",
    "    'F_{wheels}': {'origin': points['Wheel'], 'vector': 4 * np.array([1,0])},\n",
    "    'W':          {'origin': points['G'], 'vector': 26 * np.array([0,-1])}\n",
    "}\n",
    "\n",
    "for label, vector_dictionary in vectors.items():\n",
    "    origin = vector_dictionary['origin']\n",
    "    vector = vector_dictionary['vector']\n",
    "    vector_arrow = FancyArrow(origin[0], origin[1], vector[0], vector[1],\n",
    "    width=.02,length_includes_head=True, color='k')\n",
    "    if vector[0]==4:\n",
    "        axes.text(origin[0] + vector[0] + 1.5,\n",
    "               origin[1] + vector[1],\n",
    "               r'$\\vec{'+label[0]+r'}' + label[1:] + r'$', color='k', fontsize=14,\n",
    "               va='center',ha='center'\n",
    "                               )\n",
    "    else:\n",
    "        axes.text(origin[0] + vector[0] * 1.05,\n",
    "               origin[1] + vector[1] * 1.07,\n",
    "               r'$\\vec{'+label[0]+r'}' + label[1:] + r'$', color='k', fontsize=14,\n",
    "               va='center',ha='center'\n",
    "                               )\n",
    "    axes.add_patch(vector_arrow)\n",
    "\n",
    "\n",
    "axes.set_xlim([-1 , 14])\n",
    "axes.set_ylim([-30 ,5])"
   ],
   "metadata": {
    "collapsed": false,
    "ExecuteTime": {
     "end_time": "2023-08-28T17:52:44.364485300Z",
     "start_time": "2023-08-28T17:52:44.234860300Z"
    }
   }
  },
  {
   "cell_type": "code",
   "execution_count": 24,
   "outputs": [
    {
     "name": "stdout",
     "output_type": "stream",
     "text": [
      "approximate P = 78.79 lb\n"
     ]
    }
   ],
   "source": [
    "import numpy as np\n",
    "weight = 2600\n",
    "diameter = 2.75\n",
    "radius = diameter/2 * 12\n",
    "rolling_resistance_coefficient = .5\n",
    "\n",
    "P = weight * rolling_resistance_coefficient / radius\n",
    "print(f'approximate P = {P:.2f} lb')\n",
    "\n"
   ],
   "metadata": {
    "collapsed": false,
    "ExecuteTime": {
     "end_time": "2023-08-28T17:52:44.374825900Z",
     "start_time": "2023-08-28T17:52:44.360496300Z"
    }
   }
  }
 ],
 "metadata": {
  "kernelspec": {
   "display_name": "Python 3",
   "language": "python",
   "name": "python3"
  },
  "language_info": {
   "codemirror_mode": {
    "name": "ipython",
    "version": 2
   },
   "file_extension": ".py",
   "mimetype": "text/x-python",
   "name": "python",
   "nbconvert_exporter": "python",
   "pygments_lexer": "ipython2",
   "version": "2.7.6"
  }
 },
 "nbformat": 4,
 "nbformat_minor": 0
}
