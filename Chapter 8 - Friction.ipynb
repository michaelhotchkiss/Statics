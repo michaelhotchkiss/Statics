{
 "cells": [
  {
   "cell_type": "markdown",
   "source": [
    "# Chapter 8 Friction"
   ],
   "metadata": {
    "collapsed": false
   }
  },
  {
   "cell_type": "markdown",
   "source": [
    "## Section 8.1 Characteristics of Dry Friction\n",
    "* Friction - Force that resists the movement of two contacting surfaces that slide relative to each other, force acts tangent to the surface at the points of contact, and is directed to oppose the motion between the surfaces\n",
    "* Dry friction - occurs between the contacting surfaces of bodies when there is no lubricating fluid\n",
    "* Theory of dry friction explained by the effects caused by pulling horizontally on a block of uniform weight which is resting on a rough horizontal surface that is nonrigid or deformable\n",
    "*"
   ],
   "metadata": {
    "collapsed": false
   }
  }
 ],
 "metadata": {
  "kernelspec": {
   "display_name": "Python 3",
   "language": "python",
   "name": "python3"
  },
  "language_info": {
   "codemirror_mode": {
    "name": "ipython",
    "version": 2
   },
   "file_extension": ".py",
   "mimetype": "text/x-python",
   "name": "python",
   "nbconvert_exporter": "python",
   "pygments_lexer": "ipython2",
   "version": "2.7.6"
  }
 },
 "nbformat": 4,
 "nbformat_minor": 0
}
