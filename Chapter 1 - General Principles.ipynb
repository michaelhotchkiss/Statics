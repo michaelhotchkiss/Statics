{
 "cells": [
  {
   "cell_type": "markdown",
   "source": [
    "# Chapter 1 General Principles"
   ],
   "metadata": {
    "collapsed": false
   }
  },
  {
   "cell_type": "markdown",
   "source": [
    "## Section 1.1 Mechanics\n",
    "* Mechanics - Branch of physical sciences that is concerned wit ht state of rest or motion of bodies that are subjected to the action of forces.\n",
    "    * Three branches - rigid-body mechanics, deformable-body mechanics, and fluid mechanics.\n",
    "* Statics - Deals with the equilibrium of bodies, those either at rest or move with constant velocity\n",
    "* Dynamics - concerned with the accelerated motion of bodies."
   ],
   "metadata": {
    "collapsed": false
   }
  },
  {
   "cell_type": "markdown",
   "source": [
    "## Section 1.2 Fundamental Concepts\n",
    "* 4 basic quantities - length, time, mass, force\n",
    "* Idealizations - Used in mechanics to simplify application or theory.\n",
    "* 3 types of idealizations\n",
    "    * Particle - Has mass but size can be neglected, when a body is idealized as a particle the principles of mechanics reduce since the geometry of the body will not be involved in the analysis of the problem.\n",
    "    * Rigid Body - Combination of a large number of particles in which all particles remain at a fixed distance from one another, before and after applying a load. This type is important since the body's shape does not change when a load is applied, and we can ignore the type of material the body is made from. This type is used since in most cases the actual deformations occurring in structures, machines, are small, so we can use the rigid-body assumption.\n",
    "    * Concentrated Force - Represents the effect of a loading which is assumed to act at a point on a body. We can represent a load by a concentrated force, provided the area over which the load is applied is very small compared to the overall size of the body.\n",
    "* Newton's Three Laws of Motion\n",
    "    * First Law - a particle at rest or moving in a straight line with constant velocity, tend to remain in this state if the particle is not subjected to an unbalanced force\n",
    "    * Second Law - a particle acted upon by an unbalanced force $F$ experiences an acceleration $a$ that has the same direction as the force and a magnitude that is directly proportional ot the force. If $F$ is applied to a particle of mass $m$, can be expressed as $F = m a$\n",
    "    * Third Law - the mutual forces of action and reaction between two particles are equal, opposite, and collinear\n",
    "* Newton's Law of Gravitational Attraction - the gravitational attraction between any two particles can be stated as $F = G$$ m_1 m_2 \\over r^2$\n",
    "    * $G = $ universal constant of gravitation; $G = 66.73 * 10^{-12} $$m^3 \\over kg s^2$\n",
    "    * $r$ = distance between the two particles\n",
    "    * $F$ = force of gravitation between the two particles\n",
    "    * $m_1, m_2$ = mas of each of the two particles\n",
    "* Weight - force between a particle and earth, when the particle is at or near the surface of earth, $W = G$$ mM_e \\over r^2$ , r is distance between earth's center and the particle, $M_e$ is the earth's mass.\n",
    "    * We can let $g = G$$ M_e\\over r^2$, then $W=mg$ , g is acceleration due to gravity"
   ],
   "metadata": {
    "collapsed": false
   }
  },
  {
   "cell_type": "markdown",
   "source": [
    "## Section 1.3 Units of Measurement\n",
    "* Base units - length, time, mass\n",
    "* SI Units - length = meter (m), time = second (s), mass = kilogram (kg), force = newton (N)\n",
    "* U.S. Customary - length = foot (ft), time = second (s), mass = slug ($lb s \\over ft$), force = pound (lb)"
   ],
   "metadata": {
    "collapsed": false
   }
  },
  {
   "cell_type": "markdown",
   "source": [
    "## Section 1.4 The International System of Units\n",
    "* Rules for Use of SI symbols\n",
    "    * Quantities defined by several units which are multiples of one another are seperated by a dot\n",
    "    * Exponential power on a unit having a prefix refers to both the unit and its prefix\n",
    "    * Besides kilogram, in general avoid the use of a prefix in the denomination of composite units\n",
    "    * When performing calculations, represent the numbers in terms of their base or derived units, the final result should be expressed by a single prefix, also should keep numerical values between 0.1 and 1000"
   ],
   "metadata": {
    "collapsed": false
   }
  },
  {
   "cell_type": "markdown",
   "source": [
    "## Section 1.5 Numerical Calculations\n",
    "* Dimensionally Homogeneous - each term must be expressed in the same units.\n",
    "* Terms of any equation used to describe a physical process must be dimensionally homogenous\n",
    "* Significant figures - .00821 has 3 sig figs, 4981 has 4 sig figs, if 23400 has 5 sig figs it can be written as $23.400(10^3)$, if it has 3 sig figs it is $23.4(10^3)$"
   ],
   "metadata": {
    "collapsed": false
   }
  },
  {
   "cell_type": "markdown",
   "source": [
    "## Section 1.6 General Procedure for Analysis\n",
    "Problem 15 - Using the SI system of units, show that Eq. 1–2 is a\n",
    "dimensionally homogeneous equation which gives F in\n",
    "newtons. Determine to three significant figures the\n",
    "gravitational force acting between two spheres that are\n",
    "touching each other. The mass of each sphere is 200 kg and\n",
    "the radius is 300 mm.\n",
    "Also do dimensional analysis for G.\n",
    "Solution -",
    "F = \frac{G m_1 m_2}{r^2}",
    "$dim(G) = $
   ],
   "metadata": {
    "collapsed": false
   }
  }
 ],
 "metadata": {
  "kernelspec": {
   "display_name": "Python 3",
   "language": "python",
   "name": "python3"
  },
  "language_info": {
   "codemirror_mode": {
    "name": "ipython",
    "version": 2
   },
   "file_extension": ".py",
   "mimetype": "text/x-python",
   "name": "python",
   "nbconvert_exporter": "python",
   "pygments_lexer": "ipython2",
   "version": "2.7.6"
  }
 },
 "nbformat": 4,
 "nbformat_minor": 0
}
