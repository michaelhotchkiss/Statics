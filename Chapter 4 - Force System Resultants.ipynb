{
 "cells": [
  {
   "cell_type": "markdown",
   "source": [
    "# Chapter 4 Force System Resultants"
   ],
   "metadata": {
    "collapsed": false
   }
  },
  {
   "cell_type": "markdown",
   "source": [
    "## Section 4.1 Moment of a Force - Scalar Formulation\n",
    "* Torque - force applied to a body creates a tendency for the body to rotate about a point that is not on the line of action of the force, this tendency is torque, also called the moment of a force or just the moment\n",
    "* Magnitude of the moment is directly proportional to the magnitude of $F$ and the perpendicular distance (moment arm d), $\\vec M_O = Fd$, $d$ is the moment arm or perpendicular distance from the axis t point $O$ to the line of action of the force, $F$ is magnitude of the force, units of magnitude is force time distance i.e. $N \\cdot m$\n",
    "* Direction of $\\vec M_O$ - defined by its moment axis, which is perpendicular to the plane that contains the force $F$ and its moment arm $d$\n",
    "* Resultant Moment - $(\\vec M_R)_O = \\sum \\vec M_O = \\sum Fd$, positive moments counter clockwise, negative moments clockwise"
   ],
   "metadata": {
    "collapsed": false
   }
  },
  {
   "cell_type": "markdown",
   "source": [
    "## Section 4.2 Cross Product\n",
    "* Cross product - $\\vec C = \\vec A \\times \\vec B$\n",
    "* Magnitude of $\\vec C$ is determined by the product of the magnitudes of $\\vec A$ and $\\vec B$ and the sine of the angle $\\theta$ between their tails, $C = A B sin\\theta$\n",
    "* Direction of $\\vec C$ is perpendicular to the plane containing $\\vec A$ and $\\vec B$ such that $\\vec C$ is specified by right-hand rule\n",
    "* $\\vec C = (A B sin \\theta) \\vec u_C$\n",
    "* Laws of Operation\n",
    "    * Commutative law is not valid, instead $\\vec A \\times \\vec B = -\\vec -B \\times \\vec A$\n",
    "    * Associative law holds, $a(\\vec A \\times \\vec B) = \\vec {aA} \\times \\vec B = \\vec A \\times \\vec {aB} = (\\vec A \\times \\vec B)a$\n",
    "    * Distributive law of addition holds, $\\vec A \\times (\\vec B + \\vec D) = (\\vec A \\times \\vec B) + (\\vec A \\times \\vec D)$\n",
    "* Cartesian Vector Formulation - $\\hat i \\times \\hat j = \\hat k , \\hat k \\times \\hat i = \\hat j , \\hat j \\times \\hat k = \\hat i , \\hat i \\times \\hat i = 0 , \\hat j \\times \\hat i =\\hat k$\n",
    "* $\\vec A \\times \\vec B = (A_x \\hat i + A_y \\hat j + A_z \\hat k) \\times (B_x \\hat i + B_y \\hat j + B_z \\hat k) = (A_y B_z - A_z B_y) \\hat i + (A_x B_z - A_z B_x) \\hat j + (A_x B_y - A_y B_x) \\hat k$"
   ],
   "metadata": {
    "collapsed": false
   }
  },
  {
   "cell_type": "markdown",
   "source": [
    "## Section 4.3 Moment of a Force - Vector Formulation\n",
    "* Moment of a force $F$ about point $O$ can be expressed using vector cross product, $\\vec M_O = \\vec r \\times \\vec F$ where $\\vec r$ is the position vector directed from $O$ to any point on the line of action of $F$\n",
    "* Magnitude - $M_O = r F sin \\theta$ since $d = r sin \\theta$ we can write $M_O = Fd$\n",
    "* Direction of $\\vec M_O$ is determined by the right-hand rule as it applies to the cross product. Direction is perpendicular to the plane containing $\\vec r$ and $\\vec F$\n",
    "* Principle of Transmissibility - We can use any position vector from point $O$ to any point on the line of action of the force $\\vec F$, i.e. $\\vec M_O = \\vec r_1 \\times \\vec F = \\vec r_2 \\times \\vec F$\n",
    "* Cartesian Vector Formulation - $\\vec M_O = (r_y F_z - r_z F_y) \\hat i + (r_x F_z - r_z F_x) \\hat j + (r_x F_y - r_y F_x) \\hat k$\n",
    "* Resultant Moment of a System of Forces - $(\\vec M_R)_O = \\sum (\\vec r \\times \\vec F$"
   ],
   "metadata": {
    "collapsed": false
   }
  },
  {
   "cell_type": "markdown",
   "source": [
    "## Section 4.4 Principle of Moments\n",
    "* Principle of moments states that the moment of a force about a point is equal to the sum of the moments of the componetns of the force about the point, $\\vec M_O = \\vec r \\times \\vec F = \\vec r \\times (\\vec F_1 + \\vec F_2) = \\vec r \\times \\vec F_1 + \\vec r \\times \\vec F_2$\n",
    "* 2D - $M_O = F_x y - F_y x$"
   ],
   "metadata": {
    "collapsed": false
   }
  },
  {
   "cell_type": "markdown",
   "source": [
    "## Problem 42\n",
    "A 20-N horizontal force is applied perpendicular to\n",
    "the handle of the socket wrench. Determine the magnitude\n",
    "and the coordinate direction angles of the moment created\n",
    "by this force about point $O$.\n",
    "<img src=\"pictures\\problem_4_42.png\" width=\"330\"/>\n"
   ],
   "metadata": {
    "collapsed": false
   }
  },
  {
   "cell_type": "code",
   "execution_count": null,
   "outputs": [],
   "source": [],
   "metadata": {
    "collapsed": false
   }
  },
  {
   "cell_type": "markdown",
   "source": [
    "Problems - 42, 61, 85, 107 - put magnitudes into array, positions into array, 2 separate arrays, 121, 157"
   ],
   "metadata": {
    "collapsed": false
   }
  }
 ],
 "metadata": {
  "kernelspec": {
   "display_name": "Python 3",
   "language": "python",
   "name": "python3"
  },
  "language_info": {
   "codemirror_mode": {
    "name": "ipython",
    "version": 2
   },
   "file_extension": ".py",
   "mimetype": "text/x-python",
   "name": "python",
   "nbconvert_exporter": "python",
   "pygments_lexer": "ipython2",
   "version": "2.7.6"
  }
 },
 "nbformat": 4,
 "nbformat_minor": 0
}
