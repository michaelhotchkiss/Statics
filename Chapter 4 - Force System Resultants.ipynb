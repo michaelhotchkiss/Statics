{
 "cells": [
  {
   "cell_type": "markdown",
   "source": [
    "# Chapter 4 Force System Resultants"
   ],
   "metadata": {
    "collapsed": false
   }
  },
  {
   "cell_type": "markdown",
   "source": [
    "## Section 4.1 Moment of a Force - Scalar Formulation\n",
    "* Torque - force applied to a body creates a tendency for the body to rotate about a point that is not on the line of action of the force, this tendency is torque, also called the moment of a force or just the moment\n",
    "* Magnitude of the moment is directly proportional to the magnitude of $F$ and the perpendicular distance (moment arm d), $\\vec M_O = Fd$, $d$ is the moment arm or perpendicular distance from the axis t point $O$ to the line of action of the force, $F$ is magnitude of the force, units of magnitude is force time distance i.e. $N \\cdot m$\n",
    "* Direction of $\\vec M_O$ - defined by its moment axis, which is perpendicular to the plane that contains the force $F$ and its moment arm $d$\n",
    "* Resultant Moment - $(\\vec M_R)_O = \\sum \\vec M_O = \\sum Fd$, positive moments counter clockwise, negative moments clockwise"
   ],
   "metadata": {
    "collapsed": false
   }
  },
  {
   "cell_type": "markdown",
   "source": [
    "## Section 4.2 Cross Product\n",
    "* Cross product - $\\vec C = \\vec A \\times \\vec B$\n",
    "* Magnitude of $\\vec C$ is determined by the product of the magnitudes of $\\vec A$ and $\\vec B$ and the sine of the angle $\\theta$ between their tails, $C = A B sin\\theta$\n",
    "* Direction of $\\vec C$ is perpendicular to the plane containing $\\vec A$ and $\\vec B$ such that $\\vec C$ is specified by right-hand rule\n",
    "* $\\vec C = (A B sin \\theta) \\vec u_C$\n",
    "* Laws of Operation\n",
    "    * Commutative law is not valid, instead $\\vec A \\times \\vec B = -\\vec B \\times \\vec A$\n",
    "    * Associative law holds, $a(\\vec A \\times \\vec B) = \\vec {aA} \\times \\vec B = \\vec A \\times \\vec {aB} = (\\vec A \\times \\vec B)a$\n",
    "    * Distributive law of addition holds, $\\vec A \\times (\\vec B + \\vec D) = (\\vec A \\times \\vec B) + (\\vec A \\times \\vec D)$\n",
    "* Cartesian Vector Formulation - $\\hat i \\times \\hat j = \\hat k , \\hat k \\times \\hat i = \\hat j , \\hat j \\times \\hat k = \\hat i , \\hat i \\times \\hat i = 0 , \\hat j \\times \\hat i =\\hat k$\n",
    "* $\\vec A \\times \\vec B = (A_x \\hat i + A_y \\hat j + A_z \\hat k) \\times (B_x \\hat i + B_y \\hat j + B_z \\hat k) = (A_y B_z - A_z B_y) \\hat i + (A_x B_z - A_z B_x) \\hat j + (A_x B_y - A_y B_x) \\hat k$"
   ],
   "metadata": {
    "collapsed": false
   }
  },
  {
   "cell_type": "markdown",
   "source": [
    "## Section 4.3 Moment of a Force - Vector Formulation\n",
    "* Moment of a force $F$ about point $O$ can be expressed using vector cross product, $\\vec M_O = \\vec r \\times \\vec F$ where $\\vec r$ is the position vector directed from $O$ to any point on the line of action of $F$\n",
    "* Magnitude - $M_O = r F sin \\theta$ since $d = r sin \\theta$ we can write $M_O = Fd$\n",
    "* Direction of $\\vec M_O$ is determined by the right-hand rule as it applies to the cross product. Direction is perpendicular to the plane containing $\\vec r$ and $\\vec F$\n",
    "* Principle of Transmissibility - We can use any position vector from point $O$ to any point on the line of action of the force $\\vec F$, i.e. $\\vec M_O = \\vec r_1 \\times \\vec F = \\vec r_2 \\times \\vec F$\n",
    "* Cartesian Vector Formulation - $\\vec M_O = (r_y F_z - r_z F_y) \\hat i + (r_x F_z - r_z F_x) \\hat j + (r_x F_y - r_y F_x) \\hat k$\n",
    "* Resultant Moment of a System of Forces - $(\\vec M_R)_O = \\sum (\\vec r \\times \\vec F$"
   ],
   "metadata": {
    "collapsed": false
   }
  },
  {
   "cell_type": "markdown",
   "source": [
    "## Section 4.4 Principle of Moments\n",
    "* Principle of moments states that the moment of a force about a point is equal to the sum of the moments of the componetns of the force about the point, $\\vec M_O = \\vec r \\times \\vec F = \\vec r \\times (\\vec F_1 + \\vec F_2) = \\vec r \\times \\vec F_1 + \\vec r \\times \\vec F_2$\n",
    "* 2D - $M_O = F_x y - F_y x$"
   ],
   "metadata": {
    "collapsed": false
   }
  },
  {
   "cell_type": "markdown",
   "source": [
    "## Problem 42\n",
    "A 20-N horizontal force is applied perpendicular to\n",
    "the handle of the socket wrench. Determine the magnitude\n",
    "and the coordinate direction angles of the moment created\n",
    "by this force about point $O$.\n",
    "<img src=\"pictures\\problem_4_42.png\" width=\"330\"/>\n"
   ],
   "metadata": {
    "collapsed": false
   }
  },
  {
   "cell_type": "code",
   "execution_count": 55,
   "outputs": [
    {
     "name": "stdout",
     "output_type": "stream",
     "text": [
      " Magnitude of moment = 4.3\n",
      " angle alpha = 95.2°\n",
      " angle beta  = 109.8°\n",
      " angle gamma = 20.6°\n"
     ]
    }
   ],
   "source": [
    "import numpy as np\n",
    "position_vector = np.array((.2 * np.sin(np.radians(15)), .2 * np.cos(np.radians(15)), 0.075))\n",
    "force = np.array((-20 * np.cos(np.radians(15)), 20 * np.sin(np.radians(15)),0))\n",
    "M_O = np.cross(position_vector,force)\n",
    "magnitude_M_O = np.linalg.norm(M_O)\n",
    "print(f' Magnitude of moment = {magnitude_M_O:.1f}')\n",
    "alpha = np.degrees(np.arccos(M_O[0]/magnitude_M_O))\n",
    "beta = np.degrees(np.arccos(M_O[1]/magnitude_M_O))\n",
    "gamma = np.degrees(np.arccos(M_O[2]/magnitude_M_O))\n",
    "print(f' angle alpha = {alpha:.1f}\\u00B0')\n",
    "print(f' angle beta  = {beta:.1f}\\u00B0')\n",
    "print(f' angle gamma = {gamma:.1f}\\u00B0')\n"
   ],
   "metadata": {
    "collapsed": false,
    "ExecuteTime": {
     "end_time": "2023-05-25T05:57:53.505631100Z",
     "start_time": "2023-05-25T05:57:53.482691900Z"
    }
   }
  },
  {
   "cell_type": "markdown",
   "source": [
    "## Section 4.5 Moment of a Force about a Specified Axis\n",
    "* Scalar Analysis - $M_a = Fd_a$ , $d_a$ is the perpendicular distance from the force line of action to the axis\n",
    "* Vector Analysis - $M_a = \\vec{u}_a \\cdot (\\vec r \\times \\vec F) = u_a_x(r_yF_z - r_zF_y) - {u_a}_y(r_xF_z - r_zF_x) + {u_a}_z(r_xF_y - r_yF_x)$ if $M_a$ is positive $\\vec M_a$ will have the same direction as $\\vec u_a$, if it is negative it will have the opposite direction, $\\vec M_a = M_a \\vec {u}_a$"
   ],
   "metadata": {
    "collapsed": false
   }
  },
  {
   "cell_type": "markdown",
   "source": [
    "## Problem 61\n",
    "Determine the magnitude of the moment of the force\n",
    "$\\vec F = (50 \\hat i - 20 \\hat j - 80 \\hat k) N$ about the base line $AB$ of the tripod.\n",
    "<img src=\"pictures\\problem_4_61.png\" width=\"330\"/>\n"
   ],
   "metadata": {
    "collapsed": false
   }
  },
  {
   "cell_type": "code",
   "execution_count": 56,
   "outputs": [
    {
     "name": "stdout",
     "output_type": "stream",
     "text": [
      "[0.98994949 0.14142136 0.        ]\n",
      "[2.5 0.  4. ]\n",
      " Moment AB = 135.8 N\n"
     ]
    }
   ],
   "source": [
    "force = np.array((50,-20,-80))\n",
    "vector_A = np.array((0,2,0))\n",
    "vector_B = np.array((3.5,2.5,0))\n",
    "vector_AB = vector_B - vector_A\n",
    "magnitude_AB = np.linalg.norm(vector_AB)\n",
    "unit_vector_AB = vector_AB / magnitude_AB\n",
    "print(unit_vector_AB)\n",
    "vector_D = np.array((2.5,2,4))\n",
    "vector_AD = vector_D - vector_A\n",
    "print(vector_AD)\n",
    "moment_AB = np.dot(unit_vector_AB, np.cross(vector_AD,force))\n",
    "print(f' Moment AB = {moment_AB:.1f} N')"
   ],
   "metadata": {
    "collapsed": false,
    "ExecuteTime": {
     "end_time": "2023-05-25T05:57:53.535555600Z",
     "start_time": "2023-05-25T05:57:53.495658300Z"
    }
   }
  },
  {
   "cell_type": "markdown",
   "source": [
    "## Section 4.6 Moment of a Couple\n",
    "* Couple - two parallel forces that have the same magnitude, but opposite directions, and are seperated by a perpendicular distance $d$, its effect is to produce a pure rotation or tendency for rotation in a specified direction\n",
    "* Couple moment - the moment produced by a couple, can be determined about any point\n",
    "* Free vector - can act at any point, couple moments are free vectors, as a result it causes the same rotational effect on a body regardless of where the couple moment is applied to the body\n",
    "* Scalar Formulation - moment of a couple $\\vec M$, magnitude is $M = Fd$, $F$ is the magnitude of one of the forces, $d$ is the perpendicular distance or moment arm between the forces, direction and sense of the couple moment are determined by right-hand rule, $\\vec M$ always will act perpendicular to the plane containing the forces\n",
    "* Vector Formulation - $\\vec M = \\vec r \\times \\vec F$, $\\vec r$ is directed from any point on the line of action of one of the forces to any point on the line of action of the other force  $\\vec F$\n",
    "* Equivalent Couples - two couples that produce a moment with the same magnitude and direction are equivalent\n",
    "* Resultant Couple Moment - $\\vec M_R = \\sum(\\vec r \\times \\vec F)$,"
   ],
   "metadata": {
    "collapsed": false
   }
  },
  {
   "cell_type": "markdown",
   "source": [
    "## Problem 85\n",
    " The gears are subjected to the couple moments\n",
    "shown. Determine the magnitude and coordinate direction\n",
    "angles of the resultant couple moment.\n",
    "<img src=\"pictures\\problem_4_85.png\" width=\"330\"/>\n"
   ],
   "metadata": {
    "collapsed": false
   }
  },
  {
   "cell_type": "code",
   "execution_count": 57,
   "outputs": [
    {
     "name": "stdout",
     "output_type": "stream",
     "text": [
      " magnitude of M_R = 64.0 N\n",
      " angle alpha = 94.7°\n",
      " angle beta  = 13.2°\n",
      " angle gamma = 102.3°\n"
     ]
    }
   ],
   "source": [
    "M_1xy = 40 * np.cos(np.radians(20))\n",
    "M_1 = np.array((M_1xy * np.sin(np.radians(15)), M_1xy * np.cos(np.radians(15)), -40 * np.sin(np.radians(20))))\n",
    "M_2 = np.array((-30 * np.sin(np.radians(30)), 30 * np.cos(np.radians(30)),0))\n",
    "M_R = M_1 + M_2\n",
    "magnitude_M_R = np.linalg.norm(M_R)\n",
    "alpha = np.degrees(np.arccos(M_R[0] / magnitude_M_R))\n",
    "beta = np.degrees(np.arccos(M_R[1] / magnitude_M_R))\n",
    "gamma = np.degrees(np.arccos(M_R[2] / magnitude_M_R))\n",
    "print(f' magnitude of M_R = {magnitude_M_R:.1f} N')\n",
    "print(f' angle alpha = {alpha:.1f}\\u00B0')\n",
    "print(f' angle beta  = {beta:.1f}\\u00B0')\n",
    "print(f' angle gamma = {gamma:.1f}\\u00B0')"
   ],
   "metadata": {
    "collapsed": false,
    "ExecuteTime": {
     "end_time": "2023-05-25T05:57:53.543529200Z",
     "start_time": "2023-05-25T05:57:53.510617700Z"
    }
   }
  },
  {
   "cell_type": "markdown",
   "source": [
    "## Section 4.7 Simplification of a Force and Couple System\n",
    "* We can reduce a system of forces and couple moments acting on a body to a simpler form by replacing it with an equivalent system, which consists of a single resultant force acting at a specific point and a resultant couple moment\n",
    "* A system is equivalent if the external effects it produces on a body are the same as those caused by the original force and couple moment system\n",
    "* Principle of transmissibility states that a force acting upon a body is a sliding vector since it can be applied to any point along its line of action, (force is a sliding vector)\n",
    "* $\\vec F_R = \\sum \\vec F$\n",
    "* $\\vec{(M}_R)_O = \\sum \\vec M_O + \\sum \\vec M$\n",
    "* $(F_R)_x = \\sum F_x$\n",
    "* $(F_R)_y = \\sum F_y$\n",
    "* $(M_R)_O = \\sum M_O + \\sum M$\n",
    "* When a force is moved to another point $P$ that is not on its line of action it will create the same external effects on the body if a coup[le moment is also applied to the body. The couple moment is determined by taking the moment of the force about point $P$"
   ],
   "metadata": {
    "collapsed": false
   }
  },
  {
   "cell_type": "markdown",
   "source": [
    "## Problem 107\n",
    "A biomechanical model of the lumbar region of\n",
    "the human trunk is shown. The forces acting in the four\n",
    "muscle groups consist of $F_R = 35 N$ for the rectus,\n",
    "$F_O = 45 N$ for the oblique, $F_L = 23 N$ for the lumbar\n",
    "latissimus dorsi, and $F_E = 32 N$ for the erector spinae. These\n",
    "loadings are symmetric with respect to the $y$–$z$ plane.\n",
    "Replace this system of parallel forces by an equivalent force\n",
    "and couple moment acting at the spine, point $O$. Express the\n",
    "results in Cartesian vector form.\n",
    "<img src=\"pictures\\problem_4_107.png\" width=\"330\"/>\n"
   ],
   "metadata": {
    "collapsed": false
   }
  },
  {
   "cell_type": "markdown",
   "source": [
    "Problems - 42, 61, 85, 107 - put magnitudes into array, positions into array, 2 separate arrays, 121, 157"
   ],
   "metadata": {
    "collapsed": false
   }
  }
 ],
 "metadata": {
  "kernelspec": {
   "display_name": "Python 3",
   "language": "python",
   "name": "python3"
  },
  "language_info": {
   "codemirror_mode": {
    "name": "ipython",
    "version": 2
   },
   "file_extension": ".py",
   "mimetype": "text/x-python",
   "name": "python",
   "nbconvert_exporter": "python",
   "pygments_lexer": "ipython2",
   "version": "2.7.6"
  }
 },
 "nbformat": 4,
 "nbformat_minor": 0
}
