{
 "cells": [
  {
   "cell_type": "markdown",
   "source": [
    "# Chapter 4 Force System Resultants"
   ],
   "metadata": {
    "collapsed": false
   }
  },
  {
   "cell_type": "markdown",
   "source": [
    "## Section 4.1 Moment of a Force - Scalar Formulation\n",
    "* Torque - force applied to a body creates a tendency for the body to rotate about a point that is not on the line of action of the force, this tendency is torque, also called the moment of a force or just the moment\n",
    "* Magnitude of the moment is directly proportional to the magnitude of $F$ and the perpendicular distance (moment arm d), $\\vec M_O = Fd$, $d$ is the moment arm or perpendicular distance from the axis t point $O$ to the line of action of the force, $F$ is magnitude of the force, units of magnitude is force time distance i.e. $N \\cdot m$\n",
    "* Direction of $\\vec M_O$ - defined by its moment axis, which is perpendicular to the plane that contains the force $F$ and its moment arm $d$\n",
    "* Resultant Moment - $(\\vec M_R)_O = \\sum \\vec M_O = \\sum Fd$, positive moments counter clockwise, negative moments clockwise"
   ],
   "metadata": {
    "collapsed": false
   }
  },
  {
   "cell_type": "markdown",
   "source": [
    "## Section 4.2 Cross Product\n",
    "* Cross product - $\\vec C = \\vec A \\times \\vec B$\n",
    "* Magnitude of $\\vec C$ is determined by the product of the magnitudes of $\\vec A$ and $\\vec B$ and the sine of the angle $\\theta$ between their tails, $C = A B sin\\theta$\n",
    "* Direction of $\\vec C$ is perpendicular to the plane containing $\\vec A$ and $\\vec B$ such that $\\vec C$ is specified by right-hand rule\n",
    "* $\\vec C = (A B sin \\theta) \\vec u_C$\n",
    "* Laws of Operation\n",
    "    * Commutative law is not valid, instead $\\vec A \\times \\vec B = -\\vec B \\times \\vec A$\n",
    "    * Associative law holds, $a(\\vec A \\times \\vec B) = \\vec {aA} \\times \\vec B = \\vec A \\times \\vec {aB} = (\\vec A \\times \\vec B)a$\n",
    "    * Distributive law of addition holds, $\\vec A \\times (\\vec B + \\vec D) = (\\vec A \\times \\vec B) + (\\vec A \\times \\vec D)$\n",
    "* Cartesian Vector Formulation - $\\hat i \\times \\hat j = \\hat k , \\hat k \\times \\hat i = \\hat j , \\hat j \\times \\hat k = \\hat i , \\hat i \\times \\hat i = 0 , \\hat j \\times \\hat i =\\hat k$\n",
    "* $\\vec A \\times \\vec B = (A_x \\hat i + A_y \\hat j + A_z \\hat k) \\times (B_x \\hat i + B_y \\hat j + B_z \\hat k) = (A_y B_z - A_z B_y) \\hat i + (A_x B_z - A_z B_x) \\hat j + (A_x B_y - A_y B_x) \\hat k$"
   ],
   "metadata": {
    "collapsed": false
   }
  },
  {
   "cell_type": "markdown",
   "source": [
    "## Section 4.3 Moment of a Force - Vector Formulation\n",
    "* Moment of a force $F$ about point $O$ can be expressed using vector cross product, $\\vec M_O = \\vec r \\times \\vec F$ where $\\vec r$ is the position vector directed from $O$ to any point on the line of action of $F$\n",
    "* Magnitude - $M_O = r F sin \\theta$ since $d = r sin \\theta$ we can write $M_O = Fd$\n",
    "* Direction of $\\vec M_O$ is determined by the right-hand rule as it applies to the cross product. Direction is perpendicular to the plane containing $\\vec r$ and $\\vec F$\n",
    "* Principle of Transmissibility - We can use any position vector from point $O$ to any point on the line of action of the force $\\vec F$, i.e. $\\vec M_O = \\vec r_1 \\times \\vec F = \\vec r_2 \\times \\vec F$\n",
    "* Cartesian Vector Formulation - $\\vec M_O = (r_y F_z - r_z F_y) \\hat i + (r_x F_z - r_z F_x) \\hat j + (r_x F_y - r_y F_x) \\hat k$\n",
    "* Resultant Moment of a System of Forces - $(\\vec M_R)_O = \\sum (\\vec r \\times \\vec F$"
   ],
   "metadata": {
    "collapsed": false
   }
  },
  {
   "cell_type": "markdown",
   "source": [
    "## Section 4.4 Principle of Moments\n",
    "* Principle of moments states that the moment of a force about a point is equal to the sum of the moments of the componetns of the force about the point, $\\vec M_O = \\vec r \\times \\vec F = \\vec r \\times (\\vec F_1 + \\vec F_2) = \\vec r \\times \\vec F_1 + \\vec r \\times \\vec F_2$\n",
    "* 2D - $M_O = F_x y - F_y x$"
   ],
   "metadata": {
    "collapsed": false
   }
  },
  {
   "cell_type": "markdown",
   "source": [
    "## Problem 42\n",
    "A 20-N horizontal force is applied perpendicular to\n",
    "the handle of the socket wrench. Determine the magnitude\n",
    "and the coordinate direction angles of the moment created\n",
    "by this force about point $O$.\n",
    "<img src=\"pictures\\problem_4_42.png\" width=\"512\"/>\n"
   ],
   "metadata": {
    "collapsed": false
   }
  },
  {
   "cell_type": "code",
   "execution_count": 91,
   "outputs": [
    {
     "name": "stdout",
     "output_type": "stream",
     "text": [
      " Magnitude of moment = 3.8 N\n",
      " α =  95.9°\n",
      " β = 112.6°\n",
      " γ =  23.4°\n"
     ]
    }
   ],
   "source": [
    "import numpy as np\n",
    "force = 20\n",
    "rotation_angle = np.radians(15)\n",
    "moment_arm = 200e-3\n",
    "rotation_height = 75e-3\n",
    "\n",
    "position_vector = np.array((-moment_arm * np.sin(rotation_angle), moment_arm * np.cos(rotation_angle), rotation_height))\n",
    "force = np.array((-force * np.cos(rotation_angle), force * np.sin(rotation_angle),0))\n",
    "M_O = np.cross(position_vector,force)\n",
    "magnitude_M_O = np.linalg.norm(M_O)\n",
    "print(f' Magnitude of moment = {magnitude_M_O:.1f} N')\n",
    "alpha = np.degrees(np.arccos(M_O[0]/magnitude_M_O))\n",
    "beta = np.degrees(np.arccos(M_O[1]/magnitude_M_O))\n",
    "gamma = np.degrees(np.arccos(M_O[2]/magnitude_M_O))\n",
    "print(f' \\u03B1 = {alpha:5.1f}\\u00B0')\n",
    "print(f' \\u03B2 = {beta:5.1f}\\u00B0')\n",
    "print(f' \\u03B3 = {gamma:5.1f}\\u00B0')\n"
   ],
   "metadata": {
    "collapsed": false,
    "ExecuteTime": {
     "end_time": "2023-05-26T06:02:12.718338700Z",
     "start_time": "2023-05-26T06:02:12.673459Z"
    }
   }
  },
  {
   "cell_type": "markdown",
   "source": [
    "## Section 4.5 Moment of a Force about a Specified Axis\n",
    "* Scalar Analysis - $M_a = Fd_a$ , $d_a$ is the perpendicular distance from the force line of action to the axis\n",
    "* Vector Analysis - $M_a = \\vec{u}_a \\cdot (\\vec r \\times \\vec F) = u_a_x(r_yF_z - r_zF_y) - {u_a}_y(r_xF_z - r_zF_x) + {u_a}_z(r_xF_y - r_yF_x)$ if $M_a$ is positive $\\vec M_a$ will have the same direction as $\\vec u_a$, if it is negative it will have the opposite direction, $\\vec M_a = M_a \\vec {u}_a$"
   ],
   "metadata": {
    "collapsed": false
   }
  },
  {
   "cell_type": "markdown",
   "source": [
    "## Problem 61\n",
    "Determine the magnitude of the moment of the force\n",
    "$\\vec F = (50 \\hat i - 20 \\hat j - 80 \\hat k) N$ about the base line $AB$ of the tripod.\n",
    "<img src=\"pictures\\problem_4_61.png\" width=\"512\"/>\n"
   ],
   "metadata": {
    "collapsed": false
   }
  },
  {
   "cell_type": "code",
   "execution_count": 92,
   "outputs": [
    {
     "name": "stdout",
     "output_type": "stream",
     "text": [
      " Moment AB = 135.8 N\n"
     ]
    }
   ],
   "source": [
    "force = np.array((50,-20,-80))\n",
    "vector_A = np.array((0,2,0))\n",
    "vector_B = np.array((3.5,2.5,0))\n",
    "vector_D = np.array((2.5,2,4))\n",
    "\n",
    "vector_AB = vector_B - vector_A\n",
    "magnitude_AB = np.linalg.norm(vector_AB)\n",
    "unit_vector_AB = vector_AB / magnitude_AB\n",
    "vector_AD = vector_D - vector_A\n",
    "moment_AB = np.dot(unit_vector_AB, np.cross(vector_AD,force))\n",
    "print(f' Moment AB = {moment_AB:.1f} N')"
   ],
   "metadata": {
    "collapsed": false,
    "ExecuteTime": {
     "end_time": "2023-05-26T06:02:12.753245400Z",
     "start_time": "2023-05-26T06:02:12.693406600Z"
    }
   }
  },
  {
   "cell_type": "markdown",
   "source": [
    "## Section 4.6 Moment of a Couple\n",
    "* Couple - two parallel forces that have the same magnitude, but opposite directions, and are seperated by a perpendicular distance $d$, its effect is to produce a pure rotation or tendency for rotation in a specified direction\n",
    "* Couple moment - the moment produced by a couple, can be determined about any point\n",
    "* Free vector - can act at any point, couple moments are free vectors, as a result it causes the same rotational effect on a body regardless of where the couple moment is applied to the body\n",
    "* Scalar Formulation - moment of a couple $\\vec M$, magnitude is $M = Fd$, $F$ is the magnitude of one of the forces, $d$ is the perpendicular distance or moment arm between the forces, direction and sense of the couple moment are determined by right-hand rule, $\\vec M$ always will act perpendicular to the plane containing the forces\n",
    "* Vector Formulation - $\\vec M = \\vec r \\times \\vec F$, $\\vec r$ is directed from any point on the line of action of one of the forces to any point on the line of action of the other force  $\\vec F$\n",
    "* Equivalent Couples - two couples that produce a moment with the same magnitude and direction are equivalent\n",
    "* Resultant Couple Moment - $\\vec M_R = \\sum(\\vec r \\times \\vec F)$,"
   ],
   "metadata": {
    "collapsed": false
   }
  },
  {
   "cell_type": "markdown",
   "source": [
    "## Problem 85\n",
    " The gears are subjected to the couple moments\n",
    "shown. Determine the magnitude and coordinate direction\n",
    "angles of the resultant couple moment.\n",
    "<img src=\"pictures\\problem_4_85.png\" width=\"512\"/>\n"
   ],
   "metadata": {
    "collapsed": false
   }
  },
  {
   "cell_type": "code",
   "execution_count": 93,
   "outputs": [
    {
     "name": "stdout",
     "output_type": "stream",
     "text": [
      "[ -9.72841387 -36.30693485  13.68080573]\n",
      "[ 0.         25.98076211 15.        ]\n",
      " magnitude of M_R = 32.0 N\n",
      " angle alpha = 107.7°\n",
      " angle beta  = 108.8°\n",
      " angle gamma = 26.3°\n"
     ]
    }
   ],
   "source": [
    "magnitude_M_1 = 40\n",
    "magnitude_M_2 = 30\n",
    "azimuth_M_1 = np.radians(15)\n",
    "polar_M_1 = np.radians(20)\n",
    "polar_M_2 = np.radians(30)\n",
    "M_1xy = 40 * np.cos(np.radians(20))\n",
    "M_1 = np.array((-M_1xy * np.sin(azimuth_M_1), -M_1xy * np.cos(azimuth_M_1), magnitude_M_1 * np.sin(polar_M_1)))\n",
    "M_2 = np.array((0, magnitude_M_2 * np.cos(polar_M_2), magnitude_M_2 * np.sin(polar_M_2)))\n",
    "M_R = M_1 + M_2\n",
    "print(M_1)\n",
    "print(M_2)\n",
    "magnitude_M_R = np.linalg.norm(M_R)\n",
    "alpha = np.degrees(np.arccos(M_R[0] / magnitude_M_R))\n",
    "beta = np.degrees(np.arccos(M_R[1] / magnitude_M_R))\n",
    "gamma = np.degrees(np.arccos(M_R[2] / magnitude_M_R))\n",
    "print(f' magnitude of M_R = {magnitude_M_R:.1f} N')\n",
    "print(f' angle alpha = {alpha:.1f}\\u00B0')\n",
    "print(f' angle beta  = {beta:.1f}\\u00B0')\n",
    "print(f' angle gamma = {gamma:.1f}\\u00B0')"
   ],
   "metadata": {
    "collapsed": false,
    "ExecuteTime": {
     "end_time": "2023-05-26T06:02:12.754242200Z",
     "start_time": "2023-05-26T06:02:12.710360500Z"
    }
   }
  },
  {
   "cell_type": "markdown",
   "source": [
    "## Section 4.7 Simplification of a Force and Couple System\n",
    "* We can reduce a system of forces and couple moments acting on a body to a simpler form by replacing it with an equivalent system, which consists of a single resultant force acting at a specific point and a resultant couple moment\n",
    "* A system is equivalent if the external effects it produces on a body are the same as those caused by the original force and couple moment system\n",
    "* Principle of transmissibility states that a force acting upon a body is a sliding vector since it can be applied to any point along its line of action, (force is a sliding vector)\n",
    "* $\\vec F_R = \\sum \\vec F$\n",
    "* $\\vec{(M}_R)_O = \\sum \\vec M_O + \\sum \\vec M$\n",
    "* $(F_R)_x = \\sum F_x$\n",
    "* $(F_R)_y = \\sum F_y$\n",
    "* $(M_R)_O = \\sum M_O + \\sum M$\n",
    "* When a force is moved to another point $P$ that is not on its line of action it will create the same external effects on the body if a couple moment is also applied to the body. The couple moment is determined by taking the moment of the force about point $P$"
   ],
   "metadata": {
    "collapsed": false
   }
  },
  {
   "cell_type": "markdown",
   "source": [
    "## Problem 107\n",
    "A biomechanical model of the lumbar region of\n",
    "the human trunk is shown. The forces acting in the four\n",
    "muscle groups consist of $F_R = 35 N$ for the rectus,\n",
    "$F_O = 45 N$ for the oblique, $F_L = 23 N$ for the lumbar\n",
    "latissimus dorsi, and $F_E = 32 N$ for the erector spinae. These\n",
    "loadings are symmetric with respect to the $y$–$z$ plane.\n",
    "Replace this system of parallel forces by an equivalent force\n",
    "and couple moment acting at the spine, point $O$. Express the\n",
    "results in Cartesian vector form.\n",
    "<img src=\"pictures\\problem_4_107.png\" width=\"512\"/>\n"
   ],
   "metadata": {
    "collapsed": false
   }
  },
  {
   "cell_type": "code",
   "execution_count": 94,
   "outputs": [
    {
     "name": "stdout",
     "output_type": "stream",
     "text": [
      "Equivalent force = [  0   0 270] N\n",
      "Couple moment = -2.22î N * m\n"
     ]
    }
   ],
   "source": [
    "magnitudes = np.array((35,45,23,32))\n",
    "positions_positive = np.array([\n",
    "    [40e-3,-75e-3,0],\n",
    "    [50e-3+40e-3+30e-3,0,0],\n",
    "    [40e-3+30e-3,45e-3,0],\n",
    "    [30e-3,15e-3,0]\n",
    "])\n",
    "positions_negative = np.array([[-position[0], position[1], position[2]]for position in positions_positive])\n",
    "positions = np.append(positions_positive,positions_negative, axis=0)\n",
    "magnitudes = np.append(magnitudes,magnitudes)\n",
    "forces = np.array([magnitude*np.array([0,0,1]) for magnitude in magnitudes])\n",
    "sum_forces = np.sum(forces,axis=0)\n",
    "moments = np.array([np.cross(position,force) for position,force in zip(positions,forces)])\n",
    "couple = np.sum(moments,axis=0)\n",
    "couple_moment = -2*magnitudes[0] * 7.5e-2 + 2 * magnitudes[2] * 4.5e-2 + 2 * magnitudes[3] * 1.5e-2\n",
    "#F_O displacement is 0, so it is not needed\n",
    "print(f'Equivalent force = {sum_forces} N')\n",
    "print(f'Couple moment = {couple[0]}i\\u0302 N * m')"
   ],
   "metadata": {
    "collapsed": false,
    "ExecuteTime": {
     "end_time": "2023-05-26T06:02:12.755241800Z",
     "start_time": "2023-05-26T06:02:12.727314600Z"
    }
   }
  },
  {
   "cell_type": "markdown",
   "source": [
    "## Section 4.8 Further Simplification of a Force and Couple System\n",
    "* A force system can be reduced to an equivalent single resultant force if the lines of action of $\\vec F_R$ and $\\vec{(M}_R)_O$ are perpendicular, therefore concurrent, coplanar, and parallel force systems can be further simplified\n",
    "* Concurrent Force System - a system such that the lines of action of all the forces intersect at a common point $O$, $\\vec F_R = \\sum \\vec F$ acting at $O$\n",
    "* Coplanar Force System - a system such that the lines of action of all the forces lie in the same plane, $\\vec F_R = \\sum \\vec F$, $\\vec F_R$ lies in the same plane. The moment of each of the forces about any point $O$ is directed perpendicular to this plane, thus $\\vec{(M}_R)_O$ and $\\vec F_R$ are mutually perpendicular. The resultant moment can be replaced by moving the resultant force a perpendicular or moment arm distance $d$ away from point $O$ such that $F_R$ produces the same moment ($\\vec{(M}_R)_O$) about point $O$. $d = \\frac{\\vec{(M}_R)_O}{\\vec F_R}$\n",
    "* Parallel Force System - a system such that the lines of action of all the forces are parallel to an axis, thus $\\vec F_R = \\sum \\vec F$ at point $O$ is parallel to this axis. The moment produced by each force lies in the plane of other axes, thus $\\vec{(M}_R)_O$ will also lie in this plane, along the axis $a$ since $\\vec F_R$ and $\\vec{(M}_R)_O$ are mutually perpendicular. Therefore, the force system can be reduced to a single resultant force $F_R$ acting through point $P$ located on the perpendicular axis $b$, $d$ is the distance between $O$ and $P$, $d = \\sum \\frac{\\vec M_O}{\\vec F_R}$\n",
    "* Reduction to a Wrench - when $\\vec{(M}_R)_O$ and $F_R$ are not perpendicular we can make $\\vec{(M}_R)_O$ into components parallel and perpendicular to the line of action $\\vec F_R$, $\\vec M_{para} = \\vec M_R \\cdot \\vec u_{F_R}$ and $\\vec M_{perp} = \\vec M_R - \\vec M_{para}$, $\\vec M_{perp}$ can be replaced if we move $F_R$ to point $P$ a distance $d$ away from $O$ along the $b$ axis, $d = \\frac{M_{perp}}{F_R}, \\vec M_{para}$ is a free vector, so it can be moved to point $P$. The combination of $\\vec F_R$ and collinear couple moment $\\vec M_{para}$ tends to translate and rotate the body about its axis and is called a wrench or screw."
   ],
   "metadata": {
    "collapsed": false
   }
  },
  {
   "cell_type": "markdown",
   "source": [
    "## Problem 121\n",
    "Replace the loading on the frame by a single\n",
    "resultant force. Specify where its line of action intersects a\n",
    "horizontal line along member $CB$, measured from end $C$.\n",
    "<img src=\"pictures\\problem_4_121.png\" width=\"330\"/>"
   ],
   "metadata": {
    "collapsed": false
   }
  },
  {
   "cell_type": "code",
   "execution_count": 95,
   "outputs": [
    {
     "name": "stdout",
     "output_type": "stream",
     "text": [
      " F_R = [ 220. -280.] N\n",
      " distance from point C where F_R intersects = 1.75 m\n"
     ]
    }
   ],
   "source": [
    "magnitudes = np.array([400,900,600,400])\n",
    "distances_x = np.array([1.5,1.5,1,0])\n",
    "distances_y = np.array([2,.5,0,0])\n",
    "F_R_x = magnitudes[1] * 3 / 5 - magnitudes[0] * 4 / 5\n",
    "F_R_y = magnitudes[0] * 3/5 - magnitudes[1] * 4/5 + magnitudes[2] - magnitudes[3]\n",
    "F_R = np.array([F_R_x,F_R_y])\n",
    "magnitude_F_R = np.linalg.norm(F_R)\n",
    "moment_C = -magnitudes[0] * 4 / 5 * distances_y[0] + magnitudes[0] * 3 / 5 * distances_x[0] + magnitudes[1] * 3 / 5 * distances_y[1] - magnitudes[1] * 4 / 5 * distances_x[1] \\\n",
    "           + magnitudes[2] * distances_x[2]\n",
    "distance = moment_C / F_R_y\n",
    "print(f' F_R = {F_R} N')\n",
    "print(f' distance from point C where F_R intersects = {distance} m')\n",
    "# print(moment_C)\n",
    "# print(F_R_x)\n",
    "# print(F_R_y)\n",
    "# print(magnitude_F_R)"
   ],
   "metadata": {
    "collapsed": false,
    "ExecuteTime": {
     "end_time": "2023-05-26T06:02:12.755241800Z",
     "start_time": "2023-05-26T06:02:12.742274400Z"
    }
   }
  },
  {
   "cell_type": "markdown",
   "source": [
    "## Section 4.9 Reduction of a Simple Distributed Loading\n",
    "* Distributed Loadings - body subjected to a loading that is distributed over its surface, units - Pa\n",
    "* Loading Along a Single Axis - pressure loading varies on only a single axis, loading can be described using the function $p = p(x) \\cdot N/m^2$, can also represent it as a coplanar distributed load by multiplying the loading function by the width $b m$ of the beam on the axis, $w(x) = p(x) b N/m$, we can replace this coplanar parallel force system with a single equivalent resultant force $\\vec F_R$ acting at a specific point on the beam\n",
    "* Magnitude of Resultant Force - $F_R = \\sum F$, since $d\\vec F$ is acting on an element opf length $dx$ and $w(x)$ is a force per unit length. then  $dF = w(x) dx = dA$, therefore $F_R = \\int_L {dA} = A$\n",
    "* Location of Resultant Force - Since ${(M}_R)_O = \\sum M_O$, the location of $\\overline x$ of the line of action of $\\vec F_R$ can be determined by equating the moment of the force resultan and the parallel force distribution about point $O$, $d\\vec F$ produces a moment $xdF = xw(x) dx$ about $O$ then $- \\overline x F_R = - \\int_L xw(x) dx \\Rightarrow \\overline x = \\frac{\\int_L xw(x)dx}{\\int_L w(x)dx} = \\frac{\\int_A x dA}{\\int_A dA}$\n",
    "* $\\overline x$ locates the geometric center of the area under the distributed loading. $\\vec F_R$ passes through point $(\\overline x, 0) on the surface of the beam on the axis"
   ],
   "metadata": {
    "collapsed": false
   }
  },
  {
   "cell_type": "markdown",
   "source": [
    "## Problem 157\n",
    "Determine the equivalent resultant force and\n",
    "couple moment at point O.\n",
    "<img src=\"pictures\\problem_4_157.png\" width=\"330\"/>\n"
   ],
   "metadata": {
    "collapsed": false
   }
  },
  {
   "cell_type": "code",
   "execution_count": 96,
   "outputs": [
    {
     "name": "stdout",
     "output_type": "stream",
     "text": [
      "F_R = 6.75kN\n",
      "Couple moment = 4.05kNm\n"
     ]
    }
   ],
   "source": [
    "import scipy.integrate as integrate\n",
    "w = lambda x: 1 / 3 * x **3\n",
    "x_w =lambda x: x * 1 / 3 * x **3\n",
    "length = 3\n",
    "force_R = integrate.quad(w, 0,3)[0]\n",
    "x_position = integrate.quad(x_w,0,3)[0] / force_R\n",
    "moment = force_R * (length-x_position)\n",
    "print(f'F_R = {force_R:1.2f}kN')\n",
    "print(f'Couple moment = {moment:1.2f}kNm')"
   ],
   "metadata": {
    "collapsed": false,
    "ExecuteTime": {
     "end_time": "2023-05-26T06:02:12.770201Z",
     "start_time": "2023-05-26T06:02:12.757235900Z"
    }
   }
  }
 ],
 "metadata": {
  "kernelspec": {
   "display_name": "Python 3",
   "language": "python",
   "name": "python3"
  },
  "language_info": {
   "codemirror_mode": {
    "name": "ipython",
    "version": 2
   },
   "file_extension": ".py",
   "mimetype": "text/x-python",
   "name": "python",
   "nbconvert_exporter": "python",
   "pygments_lexer": "ipython2",
   "version": "2.7.6"
  }
 },
 "nbformat": 4,
 "nbformat_minor": 0
}
